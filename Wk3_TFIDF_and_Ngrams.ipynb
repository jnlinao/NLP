{
  "cells": [
    {
      "cell_type": "markdown",
      "metadata": {
        "id": "view-in-github",
        "colab_type": "text"
      },
      "source": [
        "<a href=\"https://colab.research.google.com/github/jnlinao/NLP/blob/main/Wk3_TFIDF_and_Ngrams.ipynb\" target=\"_parent\"><img src=\"https://colab.research.google.com/assets/colab-badge.svg\" alt=\"Open In Colab\"/></a>"
      ]
    },
    {
      "cell_type": "markdown",
      "metadata": {
        "id": "wmpodQkfokCX"
      },
      "source": [
        "## Import packages\n",
        "Make sure you installed ***sklearn***, ***matplotlib*** and ***numpy*** if you use your local machine"
      ]
    },
    {
      "cell_type": "code",
      "execution_count": null,
      "metadata": {
        "id": "gxD_3fs1tX_E"
      },
      "outputs": [],
      "source": [
        "import matplotlib.pyplot as plt\n",
        "import numpy as np\n",
        "import sklearn\n",
        "from sklearn import datasets\n",
        "from sklearn.feature_extraction.text import CountVectorizer\n",
        "from sklearn.feature_extraction.text import TfidfVectorizer\n",
        "from sklearn.metrics import confusion_matrix, precision_score, precision_recall_curve, recall_score, f1_score\n",
        "from sklearn.naive_bayes import MultinomialNB\n",
        "from sklearn.linear_model import LogisticRegression\n",
        "from sklearn.metrics.pairwise import cosine_similarity"
      ]
    },
    {
      "cell_type": "markdown",
      "metadata": {
        "id": "U0vF7uNdox7d"
      },
      "source": [
        "## Prepare dataset (same as last time)\n",
        "The 20 newsgroups text dataset: [Details](https://scikit-learn.org/0.19/datasets/twenty_newsgroups.html)"
      ]
    },
    {
      "cell_type": "code",
      "execution_count": null,
      "metadata": {
        "id": "CPSdjUHDoSnf",
        "colab": {
          "base_uri": "https://localhost:8080/"
        },
        "outputId": "3d978a2b-50ff-4cb6-e7b6-30060057fb10"
      },
      "outputs": [
        {
          "output_type": "stream",
          "name": "stdout",
          "text": [
            "train data size: 7919\n",
            "test data size: 3395\n"
          ]
        }
      ],
      "source": [
        "dataset = sklearn.datasets.fetch_20newsgroups()\n",
        "class Dataset:\n",
        "  def __init__(self, dataset, start_idx, end_idx):\n",
        "    self.data = dataset.data[start_idx:end_idx]\n",
        "    self.labels = dataset.target[start_idx:end_idx]\n",
        "    self.vecs = None\n",
        "\n",
        "    \n",
        "def split_dataset(dataset, train_rate=0.7):\n",
        "  data_size = len(dataset.data)\n",
        "  train_last_idx = int(train_rate * data_size)\n",
        "  train = Dataset(dataset, 0, train_last_idx)\n",
        "  test = Dataset(dataset, train_last_idx, data_size)\n",
        "  return train, test\n",
        "\n",
        "train, test = split_dataset(dataset)\n",
        "print('train data size:', len(train.data))\n",
        "print('test data size:', len(test.data))"
      ]
    },
    {
      "cell_type": "code",
      "execution_count": null,
      "metadata": {
        "id": "F8YJ7pPHxRex"
      },
      "outputs": [],
      "source": [
        "print(train.labels)"
      ]
    },
    {
      "cell_type": "markdown",
      "metadata": {
        "id": "Ozf7I_JxabrV"
      },
      "source": [
        "## NGrams\n",
        "Convert a list of text documents to a matrix of token frequencies ([Details](http://scikit-learn.org/stable/modules/generated/sklearn.feature_extraction.text.CountVectorizer.html))"
      ]
    },
    {
      "cell_type": "code",
      "execution_count": null,
      "metadata": {
        "id": "cdWaBVSrarpn",
        "colab": {
          "base_uri": "https://localhost:8080/"
        },
        "outputId": "4e4e5628-c533-4694-f5c1-e3675e858b42"
      },
      "outputs": [
        {
          "output_type": "stream",
          "name": "stdout",
          "text": [
            "Fitting vectorizers\n"
          ]
        },
        {
          "output_type": "execute_result",
          "data": {
            "text/plain": [
              "[CountVectorizer(),\n",
              " CountVectorizer(ngram_range=(2, 2)),\n",
              " CountVectorizer(ngram_range=(3, 3)),\n",
              " CountVectorizer(ngram_range=(1, 3))]"
            ]
          },
          "metadata": {},
          "execution_count": 3
        }
      ],
      "source": [
        "unigram = CountVectorizer(ngram_range=(1,1))\n",
        "bigram = CountVectorizer(ngram_range=(2,2))\n",
        "trigram = CountVectorizer(ngram_range=(3,3))\n",
        "#fourgram = CountVectorizer(ngram_range=(4,4))\n",
        "combined = CountVectorizer(ngram_range=(1,3))\n",
        "vectorizers = [unigram, bigram, trigram, combined]\n",
        "print(\"Fitting vectorizers\")\n",
        "[vectorizer.fit(train.data) for vectorizer in vectorizers]"
      ]
    },
    {
      "cell_type": "markdown",
      "metadata": {
        "id": "W-sLSO-xgvA0"
      },
      "source": [
        "### See vocabulary size\n",
        "Q: Which one has the largest vocabulary size, **unigram**, **bigram**, **trigram**, or **combined**?"
      ]
    },
    {
      "cell_type": "code",
      "execution_count": null,
      "metadata": {
        "id": "gSNZEMx4gn-2",
        "colab": {
          "base_uri": "https://localhost:8080/"
        },
        "outputId": "d842dadd-63e2-4d70-c7d5-50c5131853e9"
      },
      "outputs": [
        {
          "output_type": "stream",
          "name": "stdout",
          "text": [
            "Vocabulary Size: 107212\n",
            "Vocabulary Size: 825425\n",
            "Vocabulary Size: 1514525\n",
            "Vocabulary Size: 2447162\n"
          ]
        }
      ],
      "source": [
        "for vectorizer in vectorizers:\n",
        "  print('Vocabulary Size:', len(vectorizer.vocabulary_))"
      ]
    },
    {
      "cell_type": "markdown",
      "metadata": {
        "id": "ztDYYEPsmbt8"
      },
      "source": [
        "### See vocabulary distribution\n",
        "Q: Do you remember the name of the law?"
      ]
    },
    {
      "cell_type": "code",
      "execution_count": null,
      "metadata": {
        "id": "4fYPvOhAmMDe"
      },
      "outputs": [],
      "source": [
        "def show_distribution(vectorizer, train):\n",
        "  vecs = vectorizer.transform(train.data)\n",
        "  sum_mat = np.sum(vecs, axis=0)\n",
        "  freqs = np.sort(sum_mat).T[::-1]\n",
        "  plt.plot(list(range(1, sum_mat.shape[1] + 1)), freqs)\n",
        "  plt.xlabel('Rank')\n",
        "  plt.ylabel('Frequency')\n",
        "  plt.show()\n",
        "  \n",
        "  plt.loglog(list(range(1, sum_mat.shape[1] + 1)), freqs)\n",
        "  plt.xlabel('Rank')\n",
        "  plt.ylabel('Frequency')\n",
        "  plt.show()"
      ]
    },
    {
      "cell_type": "code",
      "execution_count": null,
      "metadata": {
        "id": "ByGJcm7SnJW-"
      },
      "outputs": [],
      "source": [
        "show_distribution(unigram, train) # try bigram, trigram and combined as well"
      ]
    },
    {
      "cell_type": "markdown",
      "metadata": {
        "id": "0l2P7B7HxFgm"
      },
      "source": [
        "### Convert word (ngram) to index and vice versa"
      ]
    },
    {
      "cell_type": "code",
      "execution_count": null,
      "metadata": {
        "id": "Jti4MuGTxEQa"
      },
      "outputs": [],
      "source": [
        "def ngram2idx(ngram, vocab_dict):\n",
        "  index = vocab_dict[ngram] if ngram in vocab_dict.keys() else 'Not Found'\n",
        "  print(ngram, ' -> ', index)\n",
        "\n",
        "\n",
        "def idx2ngram(index, vocabs):\n",
        "  ngram = vocabs[index] if 0 <= index < len(vocabs) else 'Not Found'\n",
        "  print(index, ' -> ', ngram)"
      ]
    },
    {
      "cell_type": "code",
      "execution_count": null,
      "metadata": {
        "id": "K1qiwx8xyslo",
        "colab": {
          "base_uri": "https://localhost:8080/"
        },
        "outputId": "1a15f118-53a9-4279-ffea-d5d585f3e8ce"
      },
      "outputs": [
        {
          "output_type": "stream",
          "name": "stdout",
          "text": [
            "we are  ->  Not Found\n",
            "783807  ->  Not Found\n",
            "to microsoft  ->  Not Found\n",
            "736413  ->  Not Found\n"
          ]
        },
        {
          "output_type": "stream",
          "name": "stderr",
          "text": [
            "/usr/local/lib/python3.7/dist-packages/sklearn/utils/deprecation.py:87: FutureWarning: Function get_feature_names is deprecated; get_feature_names is deprecated in 1.0 and will be removed in 1.2. Please use get_feature_names_out instead.\n",
            "  warnings.warn(msg, category=FutureWarning)\n"
          ]
        }
      ],
      "source": [
        "vectorizer = unigram # change to bigram or trigram\n",
        "vocab_dict = vectorizer.vocabulary_\n",
        "vocabs = vectorizer.get_feature_names()\n",
        "\n",
        "ngram2idx('we are', vocab_dict)\n",
        "idx2ngram(783807, vocabs)\n",
        "\n",
        "ngram2idx('to microsoft', vocab_dict)\n",
        "idx2ngram(736413, vocabs)"
      ]
    },
    {
      "cell_type": "markdown",
      "metadata": {
        "id": "6NC7zleE6GSo"
      },
      "source": [
        "### Convert sentence to vector"
      ]
    },
    {
      "cell_type": "code",
      "execution_count": null,
      "metadata": {
        "id": "6uWu-D1R6Dqo"
      },
      "outputs": [],
      "source": [
        "def sentence2vec(sentence, vectorizer):\n",
        "  vec = vectorizer.transform([sentence])\n",
        "  vocabs = vectorizer.get_feature_names()\n",
        "  print('\\\"', sentence, '\\\" -> ')\n",
        "  print(vec)\n",
        "  for idx in vec.indices:\n",
        "    print(idx, vocabs[idx])\n",
        "  print()"
      ]
    },
    {
      "cell_type": "code",
      "execution_count": null,
      "metadata": {
        "id": "60kP-8IP7uzA",
        "colab": {
          "base_uri": "https://localhost:8080/"
        },
        "outputId": "406d87ac-070b-4449-e54e-6d40d50a1ebe"
      },
      "outputs": [
        {
          "output_type": "stream",
          "name": "stderr",
          "text": [
            "/usr/local/lib/python3.7/dist-packages/sklearn/utils/deprecation.py:87: FutureWarning: Function get_feature_names is deprecated; get_feature_names is deprecated in 1.0 and will be removed in 1.2. Please use get_feature_names_out instead.\n",
            "  warnings.warn(msg, category=FutureWarning)\n"
          ]
        },
        {
          "output_type": "stream",
          "name": "stdout",
          "text": [
            "\" We are going to microsoft \" -> \n",
            "  (0, 23184)\t1\n",
            "  (0, 48917)\t1\n",
            "  (0, 67270)\t1\n",
            "  (0, 95302)\t1\n",
            "  (0, 101951)\t1\n",
            "23184 are\n",
            "48917 going\n",
            "67270 microsoft\n",
            "95302 to\n",
            "101951 we\n",
            "\n",
            "\" We are going to microsoft \" -> \n",
            "  (0, 109903)\t1\n",
            "  (0, 328698)\t1\n",
            "  (0, 736413)\t1\n",
            "  (0, 783807)\t1\n",
            "109903 are going\n",
            "328698 going to\n",
            "736413 to microsoft\n",
            "783807 we are\n",
            "\n",
            "\" We are going to microsoft \" -> \n",
            "  (0, 171354)\t1\n",
            "  (0, 1424292)\t1\n",
            "171354 are going to\n",
            "1424292 we are going\n",
            "\n",
            "\" We are going to microsoft \" -> \n",
            "  (0, 300895)\t1\n",
            "  (0, 304432)\t1\n",
            "  (0, 304443)\t1\n",
            "  (0, 919583)\t1\n",
            "  (0, 919995)\t1\n",
            "  (0, 1336821)\t1\n",
            "  (0, 2147049)\t1\n",
            "  (0, 2166280)\t1\n",
            "  (0, 2309753)\t1\n",
            "  (0, 2309963)\t1\n",
            "  (0, 2310052)\t1\n",
            "300895 are\n",
            "304432 are going\n",
            "304443 are going to\n",
            "919583 going\n",
            "919995 going to\n",
            "1336821 microsoft\n",
            "2147049 to\n",
            "2166280 to microsoft\n",
            "2309753 we\n",
            "2309963 we are\n",
            "2310052 we are going\n",
            "\n"
          ]
        }
      ],
      "source": [
        "for vectorizer in vectorizers:\n",
        "  sentence2vec('We are going to microsoft', vectorizer)"
      ]
    },
    {
      "cell_type": "markdown",
      "metadata": {
        "id": "zrA6rJUtal3U"
      },
      "source": [
        "## TFIDF Weights"
      ]
    },
    {
      "cell_type": "markdown",
      "metadata": {
        "id": "JLH6NPdVqQEA"
      },
      "source": [
        "### Tutorial with unigram\n",
        "Convert a collection of raw documents to a matrix of TF-IDF features. ([Details](https://scikit-learn.org/stable/modules/generated/sklearn.feature_extraction.text.TfidfVectorizer.html))"
      ]
    },
    {
      "cell_type": "code",
      "execution_count": null,
      "metadata": {
        "id": "lT2L8XpAxRe4"
      },
      "outputs": [],
      "source": [
        "example_docs=[\n",
        "       \"One Cent, Two Cents, Old Cent, New Cent: All About Money (Cat in the Hat's Learning Library\",\n",
        "       \"Inside Your Outside: All About the Human Body (Cat in the Hat's Learning Library)\",\n",
        "       \"Oh, The Things You Can Do That Are Good for You: All About Staying Healthy (Cat in the Hat's Learning Library)\",\n",
        "       \"On Beyond Bugs: All About Insects (Cat in the Hat's Learning Library)\",\n",
        "       \"There's No Place Like Space: All About Our Solar System (Cat in the Hat's Learning Library)\" \n",
        "      ]"
      ]
    },
    {
      "cell_type": "code",
      "execution_count": null,
      "metadata": {
        "id": "VRzM6QDMxRe4",
        "colab": {
          "base_uri": "https://localhost:8080/"
        },
        "outputId": "fe7daf99-b218-40bc-ee1c-44e7edbfaf18"
      },
      "outputs": [
        {
          "output_type": "execute_result",
          "data": {
            "text/plain": [
              "CountVectorizer()"
            ]
          },
          "metadata": {},
          "execution_count": 14
        }
      ],
      "source": [
        "bow =  CountVectorizer()\n",
        "bow.fit(example_docs)"
      ]
    },
    {
      "cell_type": "code",
      "source": [
        "bowbigram = CountVectorizer(ngram_range=(1,2))\n",
        "bowbigram.fit(example_docs)"
      ],
      "metadata": {
        "id": "ip0CXA8_yPLH",
        "colab": {
          "base_uri": "https://localhost:8080/"
        },
        "outputId": "9838c24f-9e8f-43f8-d195-2afddc3757c4"
      },
      "execution_count": null,
      "outputs": [
        {
          "output_type": "execute_result",
          "data": {
            "text/plain": [
              "CountVectorizer(ngram_range=(1, 2))"
            ]
          },
          "metadata": {},
          "execution_count": 15
        }
      ]
    },
    {
      "cell_type": "code",
      "source": [
        "Y = bow.transform(example_docs)\n",
        "Y1 = bowbigram.transform(example_docs)"
      ],
      "metadata": {
        "id": "WdNkO6P7xin_"
      },
      "execution_count": null,
      "outputs": []
    },
    {
      "cell_type": "code",
      "source": [
        "print(\"Unigram\\n\")\n",
        "print(Y.toarray())\n",
        "print(\"Unigram+Bigram\\n\")\n",
        "print(Y1.toarray())"
      ],
      "metadata": {
        "id": "Pv2HNK-Ox3Nu",
        "colab": {
          "base_uri": "https://localhost:8080/"
        },
        "outputId": "c42b5a59-b8eb-4b2f-95ae-350c17d55a46"
      },
      "execution_count": null,
      "outputs": [
        {
          "output_type": "stream",
          "name": "stdout",
          "text": [
            "Unigram\n",
            "\n",
            "[[1 1 0 0 0 0 0 1 3 1 0 0 0 1 0 0 1 0 0 1 1 0 1 1 0 0 1 0 1 0 0 0 0 0 0 0\n",
            "  0 1 0 0 1 0 0]\n",
            " [1 1 0 0 1 0 0 1 0 0 0 0 0 1 0 1 1 0 1 1 1 0 0 0 0 0 0 0 0 0 1 0 0 0 0 0\n",
            "  0 2 0 0 0 0 1]\n",
            " [1 1 1 0 0 0 1 1 0 0 1 1 1 1 1 0 1 0 0 1 1 0 0 0 0 1 0 0 0 0 0 0 0 0 1 0\n",
            "  1 2 0 1 0 2 0]\n",
            " [1 1 0 1 0 1 0 1 0 0 0 0 0 1 0 0 1 1 0 1 1 0 0 0 0 0 0 1 0 0 0 0 0 0 0 0\n",
            "  0 1 0 0 0 0 0]\n",
            " [1 1 0 0 0 0 0 1 0 0 0 0 0 1 0 0 1 0 0 1 1 1 0 0 1 0 0 0 0 1 0 1 1 1 0 1\n",
            "  0 1 1 0 0 0 0]]\n",
            "Unigram+Bigram\n",
            "\n",
            "[[1 0 1 0 0 0 1 1 0 0 0 0 0 0 0 0 0 0 1 1 3 1 1 1 1 1 0 0 0 0 0 0 1 1 0 0\n",
            "  0 0 1 1 0 0 0 0 1 1 1 0 0 1 1 1 1 0 0 0 0 1 1 0 0 1 1 0 0 0 0 0 0 0 0 0\n",
            "  0 0 0 0 0 0 0 1 1 0 0 0 0 0 0 1 1 0 0 0 0 0]\n",
            " [1 0 0 0 0 1 1 1 0 0 0 0 1 1 0 0 0 0 1 1 0 0 0 0 0 0 0 0 0 0 0 0 1 1 0 0\n",
            "  1 1 1 1 0 0 1 1 1 1 1 0 0 0 0 0 0 0 0 0 0 0 0 0 0 0 0 0 0 1 1 0 0 0 0 0\n",
            "  0 0 0 0 0 0 0 2 1 1 0 0 0 0 0 0 0 0 0 0 1 1]\n",
            " [1 0 0 0 1 0 1 1 1 1 0 0 0 0 0 0 1 1 1 1 0 0 0 0 0 0 1 1 1 1 1 1 1 1 1 1\n",
            "  0 0 1 1 0 0 0 0 1 1 1 0 0 0 0 0 0 0 0 1 1 0 0 0 0 0 0 0 0 0 0 0 0 0 0 0\n",
            "  0 1 1 0 0 1 1 2 1 0 1 0 0 1 1 0 0 2 1 1 0 0]\n",
            " [1 1 0 0 0 0 1 1 0 0 1 1 0 0 1 1 0 0 1 1 0 0 0 0 0 0 0 0 0 0 0 0 1 1 0 0\n",
            "  0 0 1 1 1 1 0 0 1 1 1 0 0 0 0 0 0 0 0 0 0 0 0 1 1 0 0 0 0 0 0 0 0 0 0 0\n",
            "  0 0 0 0 0 0 0 1 1 0 0 0 0 0 0 0 0 0 0 0 0 0]\n",
            " [1 0 0 1 0 0 1 1 0 0 0 0 0 0 0 0 0 0 1 1 0 0 0 0 0 0 0 0 0 0 0 0 1 1 0 0\n",
            "  0 0 1 1 0 0 0 0 1 1 1 1 1 0 0 0 0 1 1 0 0 0 0 0 0 0 0 1 1 0 0 1 1 1 1 1\n",
            "  1 0 0 1 1 0 0 1 1 0 0 1 1 0 0 0 0 0 0 0 0 0]]\n"
          ]
        }
      ]
    },
    {
      "cell_type": "code",
      "execution_count": null,
      "metadata": {
        "id": "RfKOMob0xRe4",
        "colab": {
          "base_uri": "https://localhost:8080/"
        },
        "outputId": "c7d5ca41-d8a7-4d6d-c5c9-23036ebbd195"
      },
      "outputs": [
        {
          "output_type": "execute_result",
          "data": {
            "text/plain": [
              "TfidfVectorizer()"
            ]
          },
          "metadata": {},
          "execution_count": 18
        }
      ],
      "source": [
        "tfidf = TfidfVectorizer()\n",
        "tfidf.fit(example_docs)"
      ]
    },
    {
      "cell_type": "code",
      "execution_count": null,
      "metadata": {
        "id": "64gR09G9xRe5",
        "colab": {
          "base_uri": "https://localhost:8080/"
        },
        "outputId": "81e5af4f-4f6e-427a-c92a-dc65ec7e2a6f"
      },
      "outputs": [
        {
          "output_type": "stream",
          "name": "stdout",
          "text": [
            "[[0.1161985  0.1161985  0.         0.         0.         0.\n",
            "  0.         0.1161985  0.73156679 0.2438556  0.         0.\n",
            "  0.         0.1161985  0.         0.         0.1161985  0.\n",
            "  0.         0.1161985  0.1161985  0.         0.2438556  0.2438556\n",
            "  0.         0.         0.2438556  0.         0.2438556  0.\n",
            "  0.         0.         0.         0.         0.         0.\n",
            "  0.         0.1161985  0.         0.         0.2438556  0.\n",
            "  0.        ]\n",
            " [0.17402264 0.17402264 0.         0.         0.36520606 0.\n",
            "  0.         0.17402264 0.         0.         0.         0.\n",
            "  0.         0.17402264 0.         0.36520606 0.17402264 0.\n",
            "  0.36520606 0.17402264 0.17402264 0.         0.         0.\n",
            "  0.         0.         0.         0.         0.         0.\n",
            "  0.36520606 0.         0.         0.         0.         0.\n",
            "  0.         0.34804529 0.         0.         0.         0.\n",
            "  0.36520606]\n",
            " [0.11731593 0.11731593 0.24620066 0.         0.         0.\n",
            "  0.24620066 0.11731593 0.         0.         0.24620066 0.24620066\n",
            "  0.24620066 0.11731593 0.24620066 0.         0.11731593 0.\n",
            "  0.         0.11731593 0.11731593 0.         0.         0.\n",
            "  0.         0.24620066 0.         0.         0.         0.\n",
            "  0.         0.         0.         0.         0.24620066 0.\n",
            "  0.24620066 0.23463186 0.         0.24620066 0.         0.49240131\n",
            "  0.        ]\n",
            " [0.19757794 0.19757794 0.         0.4146395  0.         0.4146395\n",
            "  0.         0.19757794 0.         0.         0.         0.\n",
            "  0.         0.19757794 0.         0.         0.19757794 0.4146395\n",
            "  0.         0.19757794 0.19757794 0.         0.         0.\n",
            "  0.         0.         0.         0.4146395  0.         0.\n",
            "  0.         0.         0.         0.         0.         0.\n",
            "  0.         0.19757794 0.         0.         0.         0.\n",
            "  0.        ]\n",
            " [0.15208639 0.15208639 0.         0.         0.         0.\n",
            "  0.         0.15208639 0.         0.         0.         0.\n",
            "  0.         0.15208639 0.         0.         0.15208639 0.\n",
            "  0.         0.15208639 0.15208639 0.31917038 0.         0.\n",
            "  0.31917038 0.         0.         0.         0.         0.31917038\n",
            "  0.         0.31917038 0.31917038 0.31917038 0.         0.31917038\n",
            "  0.         0.15208639 0.31917038 0.         0.         0.\n",
            "  0.        ]]\n"
          ]
        }
      ],
      "source": [
        "X = tfidf.transform(example_docs)\n",
        "print(X.toarray())"
      ]
    },
    {
      "cell_type": "code",
      "execution_count": null,
      "metadata": {
        "id": "rMlgspPtxRe5"
      },
      "outputs": [],
      "source": [
        "('about', 0)\n",
        "('all', 1)\n",
        "('are', 2)\n",
        "('beyond', 3)\n",
        "('body', 4)\n",
        "('bugs', 5)\n",
        "('can', 6)\n",
        "('cat', 7)\n",
        "('cent', 8)\n",
        "('cents', 9)\n",
        "('do', 10)\n",
        "('for', 11)\n",
        "('good', 12)\n",
        "('hat', 13)\n",
        "('healthy', 14)\n",
        "('human', 15)\n",
        "('in', 16)\n",
        "('insects', 17)\n",
        "('inside', 18)\n",
        "('learning', 19)\n",
        "('library', 20)\n",
        "('like', 21)\n",
        "('money', 22)\n",
        "('new', 23)\n",
        "('no', 24)\n",
        "('oh', 25)\n",
        "('old', 26)\n",
        "('on', 27)\n",
        "('one', 28)\n",
        "('our', 29)\n",
        "('outside', 30)\n",
        "('place', 31)\n",
        "('solar', 32)\n",
        "('space', 33)\n",
        "('staying', 34)\n",
        "('system', 35)\n",
        "('that', 36)\n",
        "('the', 37)\n",
        "('there', 38)\n",
        "('things', 39)\n",
        "('two', 40)\n",
        "('you', 41)\n",
        "('your', 42)"
      ]
    },
    {
      "cell_type": "code",
      "execution_count": null,
      "metadata": {
        "id": "cMfAGXpWxRe6",
        "colab": {
          "base_uri": "https://localhost:8080/"
        },
        "outputId": "743774cd-3e6c-4c33-a03e-e3d3c9d8f773"
      },
      "outputs": [
        {
          "output_type": "stream",
          "name": "stdout",
          "text": [
            "[[1.         0.18199053 0.12268742 0.18366608 0.14137768]\n",
            " [0.18199053 1.         0.22457191 0.30944732 0.23819829]\n",
            " [0.12268742 0.22457191 1.         0.20861136 0.16057941]\n",
            " [0.18366608 0.30944732 0.20861136 1.         0.24039133]\n",
            " [0.14137768 0.23819829 0.16057941 0.24039133 1.        ]]\n"
          ]
        }
      ],
      "source": [
        "print(cosine_similarity(X))"
      ]
    },
    {
      "cell_type": "code",
      "execution_count": null,
      "metadata": {
        "id": "fkR72cy8xRe6",
        "colab": {
          "base_uri": "https://localhost:8080/"
        },
        "outputId": "4796373c-d14a-4b1c-c705-8053009d64a7"
      },
      "outputs": [
        {
          "output_type": "stream",
          "name": "stdout",
          "text": [
            "[[1.         0.46915743 0.37532595 0.48154341 0.41702883]\n",
            " [0.46915743 1.         0.55       0.64951905 0.5625    ]\n",
            " [0.37532595 0.55       1.         0.51961524 0.45      ]\n",
            " [0.48154341 0.64951905 0.51961524 1.         0.57735027]\n",
            " [0.41702883 0.5625     0.45       0.57735027 1.        ]]\n"
          ]
        }
      ],
      "source": [
        "print(cosine_similarity(Y))"
      ]
    },
    {
      "cell_type": "code",
      "source": [
        "print(cosine_similarity(X))"
      ],
      "metadata": {
        "id": "jiWMaAfp1KBc"
      },
      "execution_count": null,
      "outputs": []
    },
    {
      "cell_type": "code",
      "source": [
        "print(cosine_similarity(Y))"
      ],
      "metadata": {
        "id": "A_-oVf_S1rGR"
      },
      "execution_count": null,
      "outputs": []
    },
    {
      "cell_type": "markdown",
      "metadata": {
        "id": "Q_R2NqfHxRe6"
      },
      "source": [
        "## Create TFIDF vectors for newsgroup articles"
      ]
    },
    {
      "cell_type": "code",
      "execution_count": null,
      "metadata": {
        "id": "pKeax8ata-yc",
        "colab": {
          "base_uri": "https://localhost:8080/"
        },
        "outputId": "8870247b-5e78-4830-e07f-8cab7ae249e9"
      },
      "outputs": [
        {
          "output_type": "execute_result",
          "data": {
            "text/plain": [
              "TfidfVectorizer()"
            ]
          },
          "metadata": {},
          "execution_count": 22
        }
      ],
      "source": [
        "tfidf = TfidfVectorizer()\n",
        "tfidf.fit(train.data)"
      ]
    },
    {
      "cell_type": "code",
      "execution_count": null,
      "metadata": {
        "id": "E7m6bH15bccj",
        "colab": {
          "base_uri": "https://localhost:8080/"
        },
        "outputId": "3148d028-24f4-4092-9cf6-c82ce7d8a0f1"
      },
      "outputs": [
        {
          "output_type": "stream",
          "name": "stdout",
          "text": [
            "the 1.0693987980198238\n",
            "man 3.7645403890569527\n",
            "microsoft 5.214972550010716\n"
          ]
        }
      ],
      "source": [
        "print('the', tfidf.idf_[tfidf.vocabulary_['the']])\n",
        "print('man', tfidf.idf_[tfidf.vocabulary_['man']])\n",
        "print('microsoft', tfidf.idf_[tfidf.vocabulary_['microsoft']])"
      ]
    },
    {
      "cell_type": "code",
      "execution_count": null,
      "metadata": {
        "id": "IEWVNsJSb5gb",
        "colab": {
          "base_uri": "https://localhost:8080/"
        },
        "outputId": "1cb0070e-9eee-4f62-9ba7-c630c6ad4465"
      },
      "outputs": [
        {
          "output_type": "stream",
          "name": "stdout",
          "text": [
            "Vocabulary Size: 107212\n",
            "\" We are going to microsoft \" -> \n",
            "  (0, 101951)\t0.34417196761665414\n",
            "  (0, 95302)\t0.1622831702359858\n",
            "  (0, 67270)\t0.765634619765414\n",
            "  (0, 48917)\t0.4590925435788398\n",
            "  (0, 23184)\t0.24134517772688163\n",
            "101951 we\n",
            "95302 to\n",
            "67270 microsoft\n",
            "48917 going\n",
            "23184 are\n",
            "\n"
          ]
        },
        {
          "output_type": "stream",
          "name": "stderr",
          "text": [
            "/usr/local/lib/python3.7/dist-packages/sklearn/utils/deprecation.py:87: FutureWarning: Function get_feature_names is deprecated; get_feature_names is deprecated in 1.0 and will be removed in 1.2. Please use get_feature_names_out instead.\n",
            "  warnings.warn(msg, category=FutureWarning)\n"
          ]
        },
        {
          "output_type": "stream",
          "name": "stdout",
          "text": [
            "\" We are going to microsoft \" -> \n",
            "  (0, 23184)\t1\n",
            "  (0, 48917)\t1\n",
            "  (0, 67270)\t1\n",
            "  (0, 95302)\t1\n",
            "  (0, 101951)\t1\n",
            "23184 are\n",
            "48917 going\n",
            "67270 microsoft\n",
            "95302 to\n",
            "101951 we\n",
            "\n"
          ]
        }
      ],
      "source": [
        "print('Vocabulary Size:', len(tfidf.vocabulary_))\n",
        "sentence2vec('We are going to microsoft', tfidf)\n",
        "sentence2vec('We are going to microsoft', unigram)"
      ]
    },
    {
      "cell_type": "code",
      "execution_count": null,
      "metadata": {
        "id": "djy9VnyOrVhi"
      },
      "outputs": [],
      "source": [
        "show_distribution(tfidf, train)"
      ]
    },
    {
      "cell_type": "markdown",
      "metadata": {
        "id": "lOMzcyforJrM"
      },
      "source": [
        "### Tutorial with bigram and trigram"
      ]
    },
    {
      "cell_type": "code",
      "execution_count": null,
      "metadata": {
        "id": "aUa5CrfzcV_N"
      },
      "outputs": [],
      "source": [
        "tfidf_bigram = TfidfVectorizer(ngram_range=(2,2))\n",
        "tfidf_trigram = TfidfVectorizer(ngram_range=(3,3))\n",
        "tfidf_combined = TfidfVectorizer(ngram_range=(1,3))\n",
        "tfidf_bigram.fit(train.data)\n",
        "tfidf_trigram.fit(train.data)\n",
        "tfidf_combined.fit(train.data)\n",
        "tfidf_vectorizers = [tfidf, tfidf_bigram, tfidf_trigram, tfidf_combined]"
      ]
    },
    {
      "cell_type": "code",
      "execution_count": null,
      "metadata": {
        "id": "52D7X_JFsiu2"
      },
      "outputs": [],
      "source": [
        "show_distribution(tfidf_bigram, train)"
      ]
    },
    {
      "cell_type": "code",
      "execution_count": null,
      "metadata": {
        "id": "f_DYEEuccf5k"
      },
      "outputs": [],
      "source": [
        "print('Vocabulary Size:', len(tfidf_bigram.vocabulary_))\n",
        "sentence2vec('We are going to microsoft', tfidf_bigram)\n",
        "print('Vocabulary Size:', len(tfidf_combined.vocabulary_))\n",
        "sentence2vec('We are going to microsoft', tfidf_combined)"
      ]
    },
    {
      "cell_type": "markdown",
      "metadata": {
        "id": "YD738pOrxRe8"
      },
      "source": [
        "# Excercise 1\n",
        "1. Find two documents that are very close in the Bag-of-word space but very far apart in the TFIDF space. \n",
        "2. Find two documents that are very close in the TFIDF space but very far apart in the Bag-of-word space. "
      ]
    },
    {
      "cell_type": "code",
      "source": [
        "tfidf_vectors = tfidf.transform(train.data)"
      ],
      "metadata": {
        "id": "BoDUKbst-8EX"
      },
      "execution_count": null,
      "outputs": []
    },
    {
      "cell_type": "code",
      "source": [
        "bow = CountVectorizer()\n",
        "bow.fit(train.data)\n",
        "bow_vectors = bow.transform(train.data)"
      ],
      "metadata": {
        "id": "4ChVEtJm_RYg"
      },
      "execution_count": null,
      "outputs": []
    },
    {
      "cell_type": "code",
      "source": [
        "cos_tfidf = cosine_similarity(tfidf_vectors)\n",
        "cos_bow = cosine_similarity(bow_vectors)"
      ],
      "metadata": {
        "id": "ShMexEnf_qul"
      },
      "execution_count": null,
      "outputs": []
    },
    {
      "cell_type": "code",
      "source": [
        "diff = cos_bow - cos_tfidf \n",
        "np.where(diff==np.max(diff))"
      ],
      "metadata": {
        "colab": {
          "base_uri": "https://localhost:8080/"
        },
        "id": "aSo5zEq6ADGM",
        "outputId": "ac7f00bb-d45a-446d-eaf2-83e12120a020"
      },
      "execution_count": null,
      "outputs": [
        {
          "output_type": "execute_result",
          "data": {
            "text/plain": [
              "(array([ 524, 2397]), array([2397,  524]))"
            ]
          },
          "metadata": {},
          "execution_count": 36
        }
      ]
    },
    {
      "cell_type": "code",
      "source": [
        "diff = cos_tfidf - cos_bow\n",
        "np.where(diff==np.max(diff))"
      ],
      "metadata": {
        "colab": {
          "base_uri": "https://localhost:8080/"
        },
        "id": "yDTalPA7BUrN",
        "outputId": "507b6d01-0b3b-4f0b-f570-5226d7b03751"
      },
      "execution_count": null,
      "outputs": [
        {
          "output_type": "execute_result",
          "data": {
            "text/plain": [
              "(array([ 726, 5339]), array([5339,  726]))"
            ]
          },
          "metadata": {},
          "execution_count": 37
        }
      ]
    },
    {
      "cell_type": "markdown",
      "metadata": {
        "id": "I6eoVMSoat33"
      },
      "source": [
        "## Classification with MNB\n",
        "\n",
        "- function for training and testing given vectorizer, classifier, return eval"
      ]
    },
    {
      "cell_type": "code",
      "execution_count": null,
      "metadata": {
        "id": "KlT8JNM2SJbm"
      },
      "outputs": [],
      "source": [
        "def classification(vectorizer, model, fit_vect=False):\n",
        "  if fit_vect:\n",
        "    vectorizer.fit(train.data)\n",
        "  train.vecs = vectorizer.transform(train.data)\n",
        "  test.vecs = vectorizer.transform(test.data)\n",
        "  model.fit(train.vecs, train.labels)\n",
        "  train_preds = model.predict(train.vecs)\n",
        "  train_f1 = f1_score(train.labels, train_preds, average='micro')\n",
        "  test_preds = model.predict(test.vecs)\n",
        "  test_f1 = f1_score(test.labels, test_preds, average='micro')\n",
        "  return train_f1, test_f1  "
      ]
    },
    {
      "cell_type": "markdown",
      "metadata": {
        "id": "nXR5rKYX4Kxc"
      },
      "source": [
        "### MNB with default parameters"
      ]
    },
    {
      "cell_type": "code",
      "execution_count": null,
      "metadata": {
        "id": "XltpsSpTBZ9I",
        "colab": {
          "base_uri": "https://localhost:8080/"
        },
        "outputId": "80385b65-0d88-48cf-86d3-ce2e77a71d4d"
      },
      "outputs": [
        {
          "output_type": "execute_result",
          "data": {
            "text/plain": [
              "(0.9963379214547291, 0.8150220913107512)"
            ]
          },
          "metadata": {},
          "execution_count": 39
        }
      ],
      "source": [
        "model = MultinomialNB()\n",
        "classification(tfidf_trigram, model)"
      ]
    },
    {
      "cell_type": "code",
      "source": [
        "model = MultinomialNB()\n",
        "classification(tfidf_combined, model)"
      ],
      "metadata": {
        "id": "zExY1Wm2CXb9",
        "colab": {
          "base_uri": "https://localhost:8080/"
        },
        "outputId": "596455b6-fbb0-4060-9f40-1116e6e6b7b4"
      },
      "execution_count": null,
      "outputs": [
        {
          "output_type": "execute_result",
          "data": {
            "text/plain": [
              "(0.9773961358757419, 0.8459499263622975)"
            ]
          },
          "metadata": {},
          "execution_count": 41
        }
      ]
    },
    {
      "cell_type": "code",
      "source": [
        "model = MultinomialNB()\n",
        "classification(tfidf, model)"
      ],
      "metadata": {
        "id": "juf3i03sCmdc",
        "colab": {
          "base_uri": "https://localhost:8080/"
        },
        "outputId": "0377d6a3-9ae5-4219-89aa-360291c78b94"
      },
      "execution_count": null,
      "outputs": [
        {
          "output_type": "execute_result",
          "data": {
            "text/plain": [
              "(0.9307993433514332, 0.8273932253313696)"
            ]
          },
          "metadata": {},
          "execution_count": 40
        }
      ]
    },
    {
      "cell_type": "markdown",
      "metadata": {
        "id": "WIRgOPES4QdM"
      },
      "source": [
        "### Let's tune MNB (alpha)\n",
        "Naive Bayes classifier for multinomial models ([Details](https://scikit-learn.org/stable/modules/generated/sklearn.naive_bayes.MultinomialNB.html))"
      ]
    },
    {
      "cell_type": "code",
      "execution_count": null,
      "metadata": {
        "id": "R3mxLb6HeuwO",
        "colab": {
          "base_uri": "https://localhost:8080/",
          "height": 479
        },
        "outputId": "fd66b797-9a11-489c-a701-2ce288f43f60"
      },
      "outputs": [
        {
          "output_type": "stream",
          "name": "stderr",
          "text": [
            "/usr/local/lib/python3.7/dist-packages/sklearn/naive_bayes.py:557: UserWarning: alpha too small will result in numeric errors, setting alpha = 1.0e-10\n",
            "  % _ALPHA_MIN\n"
          ]
        },
        {
          "output_type": "stream",
          "name": "stdout",
          "text": [
            "0.0 => (0.9996211642884203, 0.8871870397643593)\n",
            "0.1 => (0.9994948857178937, 0.8827687776141384)\n",
            "0.2 => (0.9992423285768405, 0.8804123711340206)\n",
            "0.30000000000000004 => (0.9988634928652608, 0.8739322533136966)\n",
            "0.4 => (0.9983583785831545, 0.8680412371134021)\n",
            "0.5 => (0.9982321000126277, 0.8612665684830634)\n",
            "0.6000000000000001 => (0.9981058214421012, 0.8574374079528719)\n",
            "0.7000000000000001 => (0.9979795428715746, 0.8536082474226804)\n",
            "0.8 => (0.9973481500189418, 0.8512518409425626)\n",
            "0.9 => (0.9972218714484152, 0.8480117820324006)\n"
          ]
        },
        {
          "output_type": "display_data",
          "data": {
            "text/plain": [
              "<Figure size 432x288 with 1 Axes>"
            ],
            "image/png": "[encoded data removed]"
          },
          "metadata": {
            "needs_background": "light"
          }
        }
      ],
      "source": [
        "arange = np.arange(0, 1, 0.1)\n",
        "results = []\n",
        "for a in arange:\n",
        "  model = MultinomialNB(alpha=a)\n",
        "  res = classification(bigram, model)\n",
        "  results.append(res)\n",
        "  print(a, '=>', res)\n",
        "  \n",
        "plt.plot(arange, results)\n",
        "plt.legend([\"Train\", \"Test\"])\n",
        "plt.show()"
      ]
    },
    {
      "cell_type": "markdown",
      "metadata": {
        "id": "YQxjyHRHNLGc"
      },
      "source": [
        "### Let's compare different n-grams with a fixed alpha for MNB"
      ]
    },
    {
      "cell_type": "code",
      "execution_count": null,
      "metadata": {
        "id": "VwrMjBXROu5w",
        "colab": {
          "base_uri": "https://localhost:8080/",
          "height": 336
        },
        "outputId": "c75eccbb-c484-4b31-a033-e5eb1c9b7cab"
      },
      "outputs": [
        {
          "output_type": "stream",
          "name": "stdout",
          "text": [
            "unigram => (0.9857305215304962, 0.8904270986745213)\n",
            "bigram => (0.9989897714357874, 0.8686303387334315)\n",
            "trigram => (0.9997474428589468, 0.8483063328424153)\n",
            "combined => (0.9987372142947342, 0.8871870397643593)\n"
          ]
        },
        {
          "output_type": "display_data",
          "data": {
            "text/plain": [
              "<Figure size 432x288 with 1 Axes>"
            ],
            "image/png": "[encoded data removed]"
          },
          "metadata": {
            "needs_background": "light"
          }
        }
      ],
      "source": [
        "vectorizer_names = ['unigram', 'bigram', 'trigram', 'combined']\n",
        "xs = list(range(len(vectorizer_names)))\n",
        "results = []\n",
        "for i in range(len(tfidf_vectorizers)):\n",
        "  model = MultinomialNB(alpha=0.1)\n",
        "  res = classification(tfidf_vectorizers[i], model)\n",
        "  results.append(res)\n",
        "  print(vectorizer_names[i], '=>', res)\n",
        "  \n",
        "plt.plot(xs, results)\n",
        "plt.xticks(xs, vectorizer_names)\n",
        "plt.legend([\"Train\", \"Test\"])\n",
        "plt.show()"
      ]
    },
    {
      "cell_type": "markdown",
      "metadata": {
        "id": "9TctwWbvyS8W"
      },
      "source": [
        "## Excercise2: Let's tune TfidfVectorizer with a fixed alpha for MNB\n",
        "Compare TfidfVectorizers with different parameters ([Details](http://scikit-learn.org/stable/modules/generated/sklearn.feature_extraction.text.TfidfVectorizer.html#sklearn.feature_extraction.text.TfidfVectorizer))  \n",
        "e.g.,\n",
        "- stop_words =‘english’(None by default)\n",
        "- min_df = 5 (1 by default)\n",
        "- sublinear_tf = True (False by default)\n",
        "- use_idf = False (True by default)\n",
        "- binary = True (False by default)"
      ]
    },
    {
      "cell_type": "code",
      "execution_count": null,
      "metadata": {
        "id": "fL6bpDp2ySJc",
        "colab": {
          "base_uri": "https://localhost:8080/",
          "height": 372
        },
        "outputId": "82753022-ffff-416c-962d-9942f62fb686"
      },
      "outputs": [
        {
          "output_type": "stream",
          "name": "stdout",
          "text": [
            "default => (0.9992423285768405, 0.9007363770250368)\n",
            " => (0.9992423285768405, 0.8995581737849779)\n",
            " => (0.999116050006314, 0.9036818851251841)\n",
            " => (0.9015027149892664, 0.7808541973490427)\n",
            " => (0.9962116428842025, 0.8854197349042711)\n",
            " => (0.9049122363934841, 0.7770250368188512)\n"
          ]
        },
        {
          "output_type": "display_data",
          "data": {
            "text/plain": [
              "<Figure size 432x288 with 1 Axes>"
            ],
            "image/png": "[encoded data removed]"
          },
          "metadata": {
            "needs_background": "light"
          }
        }
      ],
      "source": [
        "tfidf_vectorizers = [TfidfVectorizer(), TfidfVectorizer(stop_words =\"english\"), TfidfVectorizer(sublinear_tf=True, stop_words =\"english\"),  TfidfVectorizer(min_df=100, max_df=0.7),\n",
        "                    TfidfVectorizer(min_df=5, max_df=0.7), TfidfVectorizer(min_df=100, max_df=0.7, sublinear_tf=True)] # add parameters to each vectorizer\n",
        "names = ['default', '', '', '', '', ''] # give short names to say what you changed\n",
        "xs = list(range(len(tfidf_vectorizers)))\n",
        "results = list()\n",
        "for i in range(len(tfidf_vectorizers)):\n",
        "  tfidf_vectorizers[i].fit(train.data)\n",
        "  model = MultinomialNB(alpha=0.0001) # set a very small value\n",
        "  res = classification(tfidf_vectorizers[i], model) # we need to set fit_vect=True, but why?\n",
        "  results.append(res)\n",
        "  print(names[i], '=>', res)\n",
        "  \n",
        "plt.plot(xs, results)\n",
        "plt.xticks(xs, names)\n",
        "plt.legend([\"Train\", \"Test\"])\n",
        "plt.show()"
      ]
    },
    {
      "cell_type": "markdown",
      "metadata": {
        "id": "hJTNDfXM3rSM"
      },
      "source": [
        "### What parameter did you change to get the best test performance?"
      ]
    },
    {
      "cell_type": "markdown",
      "metadata": {
        "id": "xCLHtNWK8CAI"
      },
      "source": [
        "### [Optional] Let's tune parameters of TfidfVectorizer and MNB simultaneously\n",
        "This parameter tuning is called ***grid search***"
      ]
    },
    {
      "cell_type": "code",
      "execution_count": null,
      "metadata": {
        "id": "rsazUnuA8YpE",
        "colab": {
          "base_uri": "https://localhost:8080/",
          "height": 279
        },
        "outputId": "5a768fa2-eb30-4334-f901-4121154cc238"
      },
      "outputs": [
        {
          "output_type": "display_data",
          "data": {
            "text/plain": [
              "<Figure size 432x288 with 2 Axes>"
            ],
            "image/png": "[encoded data removed]"
          },
          "metadata": {
            "needs_background": "light"
          }
        }
      ],
      "source": [
        "min_dfs = np.arange(1, 50, 5)\n",
        "alphas = np.arange(0.001, 1.0, 0.1)\n",
        "xx, yy = np.meshgrid(alphas, min_dfs)\n",
        "f1_score_mat = np.zeros((len(min_dfs), len(alphas)))\n",
        "for i in range(len(min_dfs)):\n",
        "  tfidf_vectorizer = TfidfVectorizer(min_df=min_dfs[i])\n",
        "  for j in range(len(alphas)):\n",
        "    model = MultinomialNB(alpha=alphas[j])\n",
        "    res = classification(tfidf_vectorizer, model, fit_vect=True)\n",
        "    f1_score_mat[i][j] = res[1]\n",
        "    \n",
        "plt.contourf(alphas, min_dfs, f1_score_mat, cmap=plt.cm.viridis, levels=np.arange(0.0,1.05,0.05))\n",
        "plt.ylabel('min_df')\n",
        "plt.xlabel('alpha')\n",
        "plt.colorbar()\n",
        "plt.show()"
      ]
    }
  ],
  "metadata": {
    "colab": {
      "collapsed_sections": [],
      "name": "Wk3 - TFIDF and Ngrams.ipynb",
      "provenance": [],
      "include_colab_link": true
    },
    "kernelspec": {
      "display_name": "Python 3",
      "language": "python",
      "name": "python3"
    },
    "language_info": {
      "codemirror_mode": {
        "name": "ipython",
        "version": 3
      },
      "file_extension": ".py",
      "mimetype": "text/x-python",
      "name": "python",
      "nbconvert_exporter": "python",
      "pygments_lexer": "ipython3",
      "version": "3.7.6"
    }
  },
  "nbformat": 4,
  "nbformat_minor": 0
}