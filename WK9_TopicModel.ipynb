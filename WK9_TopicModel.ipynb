{
  "cells": [
    {
      "cell_type": "markdown",
      "metadata": {
        "id": "view-in-github",
        "colab_type": "text"
      },
      "source": [
        "<a href=\"https://colab.research.google.com/github/jnlinao/NLP/blob/main/WK9_TopicModel.ipynb\" target=\"_parent\"><img src=\"https://colab.research.google.com/assets/colab-badge.svg\" alt=\"Open In Colab\"/></a>"
      ]
    },
    {
      "cell_type": "code",
      "execution_count": null,
      "metadata": {
        "id": "YgKxu3zXiQib",
        "colab": {
          "base_uri": "https://localhost:8080/"
        },
        "outputId": "8b3d93a4-ddf5-4953-c0d7-5fd1f62120f5"
      },
      "outputs": [
        {
          "output_type": "stream",
          "name": "stdout",
          "text": [
            "Requirement already satisfied: spacy in /usr/local/lib/python3.7/dist-packages (2.2.4)\n",
            "Requirement already satisfied: srsly<1.1.0,>=1.0.2 in /usr/local/lib/python3.7/dist-packages (from spacy) (1.0.5)\n",
            "Requirement already satisfied: wasabi<1.1.0,>=0.4.0 in /usr/local/lib/python3.7/dist-packages (from spacy) (0.9.1)\n",
            "Requirement already satisfied: preshed<3.1.0,>=3.0.2 in /usr/local/lib/python3.7/dist-packages (from spacy) (3.0.6)\n",
            "Requirement already satisfied: cymem<2.1.0,>=2.0.2 in /usr/local/lib/python3.7/dist-packages (from spacy) (2.0.6)\n",
            "Requirement already satisfied: plac<1.2.0,>=0.9.6 in /usr/local/lib/python3.7/dist-packages (from spacy) (1.1.3)\n",
            "Requirement already satisfied: requests<3.0.0,>=2.13.0 in /usr/local/lib/python3.7/dist-packages (from spacy) (2.23.0)\n",
            "Requirement already satisfied: tqdm<5.0.0,>=4.38.0 in /usr/local/lib/python3.7/dist-packages (from spacy) (4.64.0)\n",
            "Requirement already satisfied: thinc==7.4.0 in /usr/local/lib/python3.7/dist-packages (from spacy) (7.4.0)\n",
            "Requirement already satisfied: murmurhash<1.1.0,>=0.28.0 in /usr/local/lib/python3.7/dist-packages (from spacy) (1.0.7)\n",
            "Requirement already satisfied: blis<0.5.0,>=0.4.0 in /usr/local/lib/python3.7/dist-packages (from spacy) (0.4.1)\n",
            "Requirement already satisfied: catalogue<1.1.0,>=0.0.7 in /usr/local/lib/python3.7/dist-packages (from spacy) (1.0.0)\n",
            "Requirement already satisfied: numpy>=1.15.0 in /usr/local/lib/python3.7/dist-packages (from spacy) (1.21.6)\n",
            "Requirement already satisfied: setuptools in /usr/local/lib/python3.7/dist-packages (from spacy) (57.4.0)\n",
            "Requirement already satisfied: importlib-metadata>=0.20 in /usr/local/lib/python3.7/dist-packages (from catalogue<1.1.0,>=0.0.7->spacy) (4.11.3)\n",
            "Requirement already satisfied: zipp>=0.5 in /usr/local/lib/python3.7/dist-packages (from importlib-metadata>=0.20->catalogue<1.1.0,>=0.0.7->spacy) (3.8.0)\n",
            "Requirement already satisfied: typing-extensions>=3.6.4 in /usr/local/lib/python3.7/dist-packages (from importlib-metadata>=0.20->catalogue<1.1.0,>=0.0.7->spacy) (4.2.0)\n",
            "Requirement already satisfied: urllib3!=1.25.0,!=1.25.1,<1.26,>=1.21.1 in /usr/local/lib/python3.7/dist-packages (from requests<3.0.0,>=2.13.0->spacy) (1.24.3)\n",
            "Requirement already satisfied: chardet<4,>=3.0.2 in /usr/local/lib/python3.7/dist-packages (from requests<3.0.0,>=2.13.0->spacy) (3.0.4)\n",
            "Requirement already satisfied: certifi>=2017.4.17 in /usr/local/lib/python3.7/dist-packages (from requests<3.0.0,>=2.13.0->spacy) (2021.10.8)\n",
            "Requirement already satisfied: idna<3,>=2.5 in /usr/local/lib/python3.7/dist-packages (from requests<3.0.0,>=2.13.0->spacy) (2.10)\n",
            "Requirement already satisfied: pyLDAvis in /usr/local/lib/python3.7/dist-packages (3.3.1)\n",
            "Requirement already satisfied: pandas>=1.2.0 in /usr/local/lib/python3.7/dist-packages (from pyLDAvis) (1.3.5)\n",
            "Requirement already satisfied: sklearn in /usr/local/lib/python3.7/dist-packages (from pyLDAvis) (0.0)\n",
            "Requirement already satisfied: future in /usr/local/lib/python3.7/dist-packages (from pyLDAvis) (0.16.0)\n",
            "Requirement already satisfied: numexpr in /usr/local/lib/python3.7/dist-packages (from pyLDAvis) (2.8.1)\n",
            "Requirement already satisfied: gensim in /usr/local/lib/python3.7/dist-packages (from pyLDAvis) (4.2.0)\n",
            "Requirement already satisfied: numpy>=1.20.0 in /usr/local/lib/python3.7/dist-packages (from pyLDAvis) (1.21.6)\n",
            "Requirement already satisfied: funcy in /usr/local/lib/python3.7/dist-packages (from pyLDAvis) (1.17)\n",
            "Requirement already satisfied: setuptools in /usr/local/lib/python3.7/dist-packages (from pyLDAvis) (57.4.0)\n",
            "Requirement already satisfied: scipy in /usr/local/lib/python3.7/dist-packages (from pyLDAvis) (1.4.1)\n",
            "Requirement already satisfied: joblib in /usr/local/lib/python3.7/dist-packages (from pyLDAvis) (1.1.0)\n",
            "Requirement already satisfied: jinja2 in /usr/local/lib/python3.7/dist-packages (from pyLDAvis) (2.11.3)\n",
            "Requirement already satisfied: scikit-learn in /usr/local/lib/python3.7/dist-packages (from pyLDAvis) (1.0.2)\n",
            "Requirement already satisfied: python-dateutil>=2.7.3 in /usr/local/lib/python3.7/dist-packages (from pandas>=1.2.0->pyLDAvis) (2.8.2)\n",
            "Requirement already satisfied: pytz>=2017.3 in /usr/local/lib/python3.7/dist-packages (from pandas>=1.2.0->pyLDAvis) (2022.1)\n",
            "Requirement already satisfied: six>=1.5 in /usr/local/lib/python3.7/dist-packages (from python-dateutil>=2.7.3->pandas>=1.2.0->pyLDAvis) (1.15.0)\n",
            "Requirement already satisfied: smart-open>=1.8.1 in /usr/local/lib/python3.7/dist-packages (from gensim->pyLDAvis) (6.0.0)\n",
            "Requirement already satisfied: MarkupSafe>=0.23 in /usr/local/lib/python3.7/dist-packages (from jinja2->pyLDAvis) (2.0.1)\n",
            "Requirement already satisfied: packaging in /usr/local/lib/python3.7/dist-packages (from numexpr->pyLDAvis) (21.3)\n",
            "Requirement already satisfied: pyparsing!=3.0.5,>=2.0.2 in /usr/local/lib/python3.7/dist-packages (from packaging->numexpr->pyLDAvis) (3.0.9)\n",
            "Requirement already satisfied: threadpoolctl>=2.0.0 in /usr/local/lib/python3.7/dist-packages (from scikit-learn->pyLDAvis) (3.1.0)\n",
            "Requirement already satisfied: gensim in /usr/local/lib/python3.7/dist-packages (4.2.0)\n",
            "Requirement already satisfied: smart-open>=1.8.1 in /usr/local/lib/python3.7/dist-packages (from gensim) (6.0.0)\n",
            "Requirement already satisfied: numpy>=1.17.0 in /usr/local/lib/python3.7/dist-packages (from gensim) (1.21.6)\n",
            "Requirement already satisfied: scipy>=0.18.1 in /usr/local/lib/python3.7/dist-packages (from gensim) (1.4.1)\n"
          ]
        }
      ],
      "source": [
        "!pip install spacy\n",
        "!pip install pyLDAvis\n",
        "!pip install --upgrade gensim"
      ]
    },
    {
      "cell_type": "code",
      "execution_count": null,
      "metadata": {
        "id": "AXBfG9_8iQie",
        "colab": {
          "base_uri": "https://localhost:8080/"
        },
        "outputId": "dbed7d23-4396-48ce-829c-28e409716d48"
      },
      "outputs": [
        {
          "output_type": "stream",
          "name": "stderr",
          "text": [
            "/usr/local/lib/python3.7/dist-packages/past/types/oldstr.py:5: DeprecationWarning: Using or importing the ABCs from 'collections' instead of from 'collections.abc' is deprecated since Python 3.3,and in 3.9 it will stop working\n",
            "  from collections import Iterable\n",
            "/usr/local/lib/python3.7/dist-packages/past/builtins/misc.py:4: DeprecationWarning: Using or importing the ABCs from 'collections' instead of from 'collections.abc' is deprecated since Python 3.3,and in 3.9 it will stop working\n",
            "  from collections import Mapping\n"
          ]
        }
      ],
      "source": [
        "import re\n",
        "import numpy as np\n",
        "import pandas as pd\n",
        "import nltk\n",
        "import sklearn\n",
        "from pprint import pprint\n",
        "from sklearn.feature_extraction.text import CountVectorizer\n",
        "\n",
        "# Gensim\n",
        "import gensim\n",
        "import gensim.corpora as corpora\n",
        "from gensim.utils import simple_preprocess\n",
        "from gensim.models import CoherenceModel\n",
        "\n",
        "# spacy for lemmatization\n",
        "import spacy\n",
        "\n",
        "# Plotting tools\n",
        "import pyLDAvis\n",
        "import pyLDAvis.gensim_models as plt_gensim # don't skip this\n",
        "import matplotlib.pyplot as plt\n",
        "%matplotlib inline\n",
        "\n",
        "# Enable logging for gensim - optional\n",
        "import logging\n",
        "logging.basicConfig(format='%(asctime)s : %(levelname)s : %(message)s', level=logging.ERROR)\n",
        "\n",
        "import warnings\n",
        "warnings.filterwarnings(\"ignore\",category=DeprecationWarning)"
      ]
    },
    {
      "cell_type": "code",
      "execution_count": null,
      "metadata": {
        "id": "vipVDofHiQif"
      },
      "outputs": [],
      "source": [
        "# NLTK Stop words\n",
        "from nltk.corpus import stopwords\n",
        "stop_words = stopwords.words('english')\n",
        "stop_words.extend(['from', 'subject', 're', 'edu', 'use'])"
      ]
    },
    {
      "cell_type": "code",
      "execution_count": null,
      "metadata": {
        "id": "l93ZGYWiiQig",
        "colab": {
          "base_uri": "https://localhost:8080/",
          "height": 310
        },
        "outputId": "3066187b-90f2-4cbd-f4ed-c5f1b395675b"
      },
      "outputs": [
        {
          "output_type": "stream",
          "name": "stdout",
          "text": [
            "['rec.autos' 'comp.sys.mac.hardware' 'comp.graphics' 'sci.space'\n",
            " 'talk.politics.guns' 'sci.med' 'comp.sys.ibm.pc.hardware'\n",
            " 'comp.os.ms-windows.misc' 'rec.motorcycles' 'talk.religion.misc'\n",
            " 'misc.forsale' 'alt.atheism' 'sci.electronics' 'comp.windows.x'\n",
            " 'rec.sport.hockey' 'rec.sport.baseball' 'soc.religion.christian'\n",
            " 'talk.politics.mideast' 'talk.politics.misc' 'sci.crypt']\n"
          ]
        },
        {
          "output_type": "execute_result",
          "data": {
            "text/plain": [
              "                                             content  target  \\\n",
              "0  From: lerxst@wam.umd.edu (where's my thing)\\nS...       7   \n",
              "1  From: guykuo@carson.u.washington.edu (Guy Kuo)...       4   \n",
              "2  From: twillis@ec.ecn.purdue.edu (Thomas E Will...       4   \n",
              "3  From: jgreen@amber (Joe Green)\\nSubject: Re: W...       1   \n",
              "4  From: jcm@head-cfa.harvard.edu (Jonathan McDow...      14   \n",
              "\n",
              "            target_names  \n",
              "0              rec.autos  \n",
              "1  comp.sys.mac.hardware  \n",
              "2  comp.sys.mac.hardware  \n",
              "3          comp.graphics  \n",
              "4              sci.space  "
            ],
            "text/html": [
              "\n",
              "  <div id=\"df-d6a40c85-4556-4ff4-a398-a6566a7e02fb\">\n",
              "    <div class=\"colab-df-container\">\n",
              "      <div>\n",
              "<style scoped>\n",
              "    .dataframe tbody tr th:only-of-type {\n",
              "        vertical-align: middle;\n",
              "    }\n",
              "\n",
              "    .dataframe tbody tr th {\n",
              "        vertical-align: top;\n",
              "    }\n",
              "\n",
              "    .dataframe thead th {\n",
              "        text-align: right;\n",
              "    }\n",
              "</style>\n",
              "<table border=\"1\" class=\"dataframe\">\n",
              "  <thead>\n",
              "    <tr style=\"text-align: right;\">\n",
              "      <th></th>\n",
              "      <th>content</th>\n",
              "      <th>target</th>\n",
              "      <th>target_names</th>\n",
              "    </tr>\n",
              "  </thead>\n",
              "  <tbody>\n",
              "    <tr>\n",
              "      <th>0</th>\n",
              "      <td>From: lerxst@wam.umd.edu (where's my thing)\\nS...</td>\n",
              "      <td>7</td>\n",
              "      <td>rec.autos</td>\n",
              "    </tr>\n",
              "    <tr>\n",
              "      <th>1</th>\n",
              "      <td>From: guykuo@carson.u.washington.edu (Guy Kuo)...</td>\n",
              "      <td>4</td>\n",
              "      <td>comp.sys.mac.hardware</td>\n",
              "    </tr>\n",
              "    <tr>\n",
              "      <th>2</th>\n",
              "      <td>From: twillis@ec.ecn.purdue.edu (Thomas E Will...</td>\n",
              "      <td>4</td>\n",
              "      <td>comp.sys.mac.hardware</td>\n",
              "    </tr>\n",
              "    <tr>\n",
              "      <th>3</th>\n",
              "      <td>From: jgreen@amber (Joe Green)\\nSubject: Re: W...</td>\n",
              "      <td>1</td>\n",
              "      <td>comp.graphics</td>\n",
              "    </tr>\n",
              "    <tr>\n",
              "      <th>4</th>\n",
              "      <td>From: jcm@head-cfa.harvard.edu (Jonathan McDow...</td>\n",
              "      <td>14</td>\n",
              "      <td>sci.space</td>\n",
              "    </tr>\n",
              "  </tbody>\n",
              "</table>\n",
              "</div>\n",
              "      <button class=\"colab-df-convert\" onclick=\"convertToInteractive('df-d6a40c85-4556-4ff4-a398-a6566a7e02fb')\"\n",
              "              title=\"Convert this dataframe to an interactive table.\"\n",
              "              style=\"display:none;\">\n",
              "        \n",
              "  <svg xmlns=\"http://www.w3.org/2000/svg\" height=\"24px\"viewBox=\"0 0 24 24\"\n",
              "       width=\"24px\">\n",
              "    <path d=\"M0 0h24v24H0V0z\" fill=\"none\"/>\n",
              "    <path d=\"M18.56 5.44l.94 2.06.94-2.06 2.06-.94-2.06-.94-.94-2.06-.94 2.06-2.06.94zm-11 1L8.5 8.5l.94-2.06 2.06-.94-2.06-.94L8.5 2.5l-.94 2.06-2.06.94zm10 10l.94 2.06.94-2.06 2.06-.94-2.06-.94-.94-2.06-.94 2.06-2.06.94z\"/><path d=\"M17.41 7.96l-1.37-1.37c-.4-.4-.92-.59-1.43-.59-.52 0-1.04.2-1.43.59L10.3 9.45l-7.72 7.72c-.78.78-.78 2.05 0 2.83L4 21.41c.39.39.9.59 1.41.59.51 0 1.02-.2 1.41-.59l7.78-7.78 2.81-2.81c.8-.78.8-2.07 0-2.86zM5.41 20L4 18.59l7.72-7.72 1.47 1.35L5.41 20z\"/>\n",
              "  </svg>\n",
              "      </button>\n",
              "      \n",
              "  <style>\n",
              "    .colab-df-container {\n",
              "      display:flex;\n",
              "      flex-wrap:wrap;\n",
              "      gap: 12px;\n",
              "    }\n",
              "\n",
              "    .colab-df-convert {\n",
              "      background-color: #E8F0FE;\n",
              "      border: none;\n",
              "      border-radius: 50%;\n",
              "      cursor: pointer;\n",
              "      display: none;\n",
              "      fill: #1967D2;\n",
              "      height: 32px;\n",
              "      padding: 0 0 0 0;\n",
              "      width: 32px;\n",
              "    }\n",
              "\n",
              "    .colab-df-convert:hover {\n",
              "      background-color: #E2EBFA;\n",
              "      box-shadow: 0px 1px 2px rgba(60, 64, 67, 0.3), 0px 1px 3px 1px rgba(60, 64, 67, 0.15);\n",
              "      fill: #174EA6;\n",
              "    }\n",
              "\n",
              "    [theme=dark] .colab-df-convert {\n",
              "      background-color: #3B4455;\n",
              "      fill: #D2E3FC;\n",
              "    }\n",
              "\n",
              "    [theme=dark] .colab-df-convert:hover {\n",
              "      background-color: #434B5C;\n",
              "      box-shadow: 0px 1px 3px 1px rgba(0, 0, 0, 0.15);\n",
              "      filter: drop-shadow(0px 1px 2px rgba(0, 0, 0, 0.3));\n",
              "      fill: #FFFFFF;\n",
              "    }\n",
              "  </style>\n",
              "\n",
              "      <script>\n",
              "        const buttonEl =\n",
              "          document.querySelector('#df-d6a40c85-4556-4ff4-a398-a6566a7e02fb button.colab-df-convert');\n",
              "        buttonEl.style.display =\n",
              "          google.colab.kernel.accessAllowed ? 'block' : 'none';\n",
              "\n",
              "        async function convertToInteractive(key) {\n",
              "          const element = document.querySelector('#df-d6a40c85-4556-4ff4-a398-a6566a7e02fb');\n",
              "          const dataTable =\n",
              "            await google.colab.kernel.invokeFunction('convertToInteractive',\n",
              "                                                     [key], {});\n",
              "          if (!dataTable) return;\n",
              "\n",
              "          const docLinkHtml = 'Like what you see? Visit the ' +\n",
              "            '<a target=\"_blank\" href=https://colab.research.google.com/notebooks/data_table.ipynb>data table notebook</a>'\n",
              "            + ' to learn more about interactive tables.';\n",
              "          element.innerHTML = '';\n",
              "          dataTable['output_type'] = 'display_data';\n",
              "          await google.colab.output.renderOutput(dataTable, element);\n",
              "          const docLink = document.createElement('div');\n",
              "          docLink.innerHTML = docLinkHtml;\n",
              "          element.appendChild(docLink);\n",
              "        }\n",
              "      </script>\n",
              "    </div>\n",
              "  </div>\n",
              "  "
            ]
          },
          "metadata": {},
          "execution_count": 4
        }
      ],
      "source": [
        "# Import Dataset\n",
        "df = pd.read_json('https://raw.githubusercontent.com/selva86/datasets/master/newsgroups.json')\n",
        "print(df.target_names.unique())\n",
        "df.head()"
      ]
    },
    {
      "cell_type": "code",
      "execution_count": null,
      "metadata": {
        "id": "TFuGVOAEiQig",
        "colab": {
          "base_uri": "https://localhost:8080/"
        },
        "outputId": "e7db0c2c-1d4b-4ad4-a0e5-3ebc95ed5195"
      },
      "outputs": [
        {
          "output_type": "stream",
          "name": "stdout",
          "text": [
            "['From: (wheres my thing) Subject: WHAT car is this!? Nntp-Posting-Host: '\n",
            " 'rac3.wam.umd.edu Organization: University of Maryland, College Park Lines: '\n",
            " '15 I was wondering if anyone out there could enlighten me on this car I saw '\n",
            " 'the other day. It was a 2-door sports car, looked to be from the late 60s/ '\n",
            " 'early 70s. It was called a Bricklin. The doors were really small. In '\n",
            " 'addition, the front bumper was separate from the rest of the body. This is '\n",
            " 'all I know. If anyone can tellme a model name, engine specs, years of '\n",
            " 'production, where this car is made, history, or whatever info you have on '\n",
            " 'this funky looking car, please e-mail. Thanks, - IL ---- brought to you by '\n",
            " 'your neighborhood Lerxst ---- ']\n"
          ]
        }
      ],
      "source": [
        "# Convert to list\n",
        "data = df.content.values.tolist()\n",
        "\n",
        "# Remove Emails\n",
        "data = [re.sub('\\S*@\\S*\\s?', '', sent) for sent in data]\n",
        "\n",
        "# Remove new line characters\n",
        "data = [re.sub('\\s+', ' ', sent) for sent in data]\n",
        "\n",
        "# Remove distracting single quotes\n",
        "data = [re.sub(\"\\'\", \"\", sent) for sent in data]\n",
        "\n",
        "pprint(data[:1])"
      ]
    },
    {
      "cell_type": "code",
      "execution_count": null,
      "metadata": {
        "id": "A__WtXktiQih",
        "colab": {
          "base_uri": "https://localhost:8080/"
        },
        "outputId": "3ad6e0a0-dc8c-4ea1-d88d-b76f6608828e"
      },
      "outputs": [
        {
          "output_type": "stream",
          "name": "stdout",
          "text": [
            "[['from', 'wheres', 'my', 'thing', 'subject', 'what', 'car', 'is', 'this', 'nntp', 'posting', 'host', 'rac', 'wam', 'umd', 'edu', 'organization', 'university', 'of', 'maryland', 'college', 'park', 'lines', 'was', 'wondering', 'if', 'anyone', 'out', 'there', 'could', 'enlighten', 'me', 'on', 'this', 'car', 'saw', 'the', 'other', 'day', 'it', 'was', 'door', 'sports', 'car', 'looked', 'to', 'be', 'from', 'the', 'late', 'early', 'it', 'was', 'called', 'bricklin', 'the', 'doors', 'were', 'really', 'small', 'in', 'addition', 'the', 'front', 'bumper', 'was', 'separate', 'from', 'the', 'rest', 'of', 'the', 'body', 'this', 'is', 'all', 'know', 'if', 'anyone', 'can', 'tellme', 'model', 'name', 'engine', 'specs', 'years', 'of', 'production', 'where', 'this', 'car', 'is', 'made', 'history', 'or', 'whatever', 'info', 'you', 'have', 'on', 'this', 'funky', 'looking', 'car', 'please', 'mail', 'thanks', 'il', 'brought', 'to', 'you', 'by', 'your', 'neighborhood', 'lerxst']]\n"
          ]
        }
      ],
      "source": [
        "def sent_to_words(sentences):\n",
        "    for sentence in sentences:\n",
        "        yield(gensim.utils.simple_preprocess(str(sentence), deacc=True))  # deacc=True removes punctuations\n",
        "\n",
        "data_words = list(sent_to_words(data))\n",
        "\n",
        "print(data_words[:1])"
      ]
    },
    {
      "cell_type": "code",
      "execution_count": null,
      "metadata": {
        "id": "0noD3Mk7iQih",
        "colab": {
          "base_uri": "https://localhost:8080/"
        },
        "outputId": "daa43c1d-101a-45f3-8628-7830ee51f330"
      },
      "outputs": [
        {
          "output_type": "stream",
          "name": "stdout",
          "text": [
            "['from', 'wheres', 'my', 'thing', 'subject', 'what', 'car', 'is', 'this', 'nntp_posting_host', 'rac_wam_umd_edu', 'organization', 'university', 'of', 'maryland_college_park', 'lines', 'was', 'wondering', 'if', 'anyone', 'out', 'there', 'could', 'enlighten', 'me', 'on', 'this', 'car', 'saw', 'the', 'other', 'day', 'it', 'was', 'door', 'sports', 'car', 'looked', 'to', 'be', 'from', 'the', 'late', 'early', 'it', 'was', 'called', 'bricklin', 'the', 'doors', 'were', 'really', 'small', 'in', 'addition', 'the', 'front_bumper', 'was', 'separate', 'from', 'the', 'rest', 'of', 'the', 'body', 'this', 'is', 'all', 'know', 'if', 'anyone', 'can', 'tellme', 'model', 'name', 'engine', 'specs', 'years', 'of', 'production', 'where', 'this', 'car', 'is', 'made', 'history', 'or', 'whatever', 'info', 'you', 'have', 'on', 'this', 'funky', 'looking', 'car', 'please', 'mail', 'thanks', 'il', 'brought', 'to', 'you', 'by', 'your', 'neighborhood', 'lerxst']\n"
          ]
        }
      ],
      "source": [
        "# Build the bigram and trigram models\n",
        "bigram = gensim.models.Phrases(data_words, min_count=5, threshold=100) # higher threshold fewer phrases.\n",
        "trigram = gensim.models.Phrases(bigram[data_words], threshold=100)  \n",
        "\n",
        "# Faster way to get a sentence clubbed as a trigram/bigram\n",
        "bigram_mod = gensim.models.phrases.Phraser(bigram)\n",
        "trigram_mod = gensim.models.phrases.Phraser(trigram)\n",
        "\n",
        "# See trigram example\n",
        "print(trigram_mod[bigram_mod[data_words[0]]])"
      ]
    },
    {
      "cell_type": "code",
      "execution_count": null,
      "metadata": {
        "id": "hqq0OfMFiQii"
      },
      "outputs": [],
      "source": [
        "# Define functions for stopwords, bigrams, trigrams and lemmatization\n",
        "def remove_stopwords(texts):\n",
        "    return [[word for word in simple_preprocess(str(doc)) if word not in stop_words] for doc in texts]\n",
        "\n",
        "def make_bigrams(texts):\n",
        "    return [bigram_mod[doc] for doc in texts]\n",
        "\n",
        "def make_trigrams(texts):\n",
        "    return [trigram_mod[bigram_mod[doc]] for doc in texts]\n",
        "\n",
        "def lemmatization(texts, allowed_postags=['NOUN', 'ADJ', 'VERB', 'ADV']):\n",
        "    \"\"\"https://spacy.io/api/annotation\"\"\"\n",
        "    texts_out = []\n",
        "    for sent in texts:\n",
        "        doc = nlp(\" \".join(sent)) \n",
        "        texts_out.append([token.lemma_ for token in doc if token.pos_ in allowed_postags])\n",
        "    return texts_out"
      ]
    },
    {
      "cell_type": "code",
      "execution_count": null,
      "metadata": {
        "id": "BtcRsyl8iQij",
        "colab": {
          "base_uri": "https://localhost:8080/"
        },
        "outputId": "86bc1576-acee-41e7-addb-667699d26316"
      },
      "outputs": [
        {
          "output_type": "stream",
          "name": "stdout",
          "text": [
            "[['where', 'thing', 'car', 'nntp_poste', 'host', 'park', 'line', 'wonder', 'could', 'enlighten', 'car', 'see', 'day', 'door', 'sport', 'car', 'look', 'late', 'early', 'call', 'bricklin', 'door', 'really', 'small', 'addition', 'separate', 'rest', 'body', 'know', 'tellme', 'model', 'name', 'engine', 'year', 'production', 'car', 'make', 'history', 'info', 'funky', 'look', 'car', 'mail', 'thank', 'bring', 'neighborhood', 'lerxst']]\n"
          ]
        }
      ],
      "source": [
        "# Remove Stop Words\n",
        "data_words_nostops = remove_stopwords(data_words)\n",
        "\n",
        "# Form Bigrams\n",
        "data_words_bigrams = make_bigrams(data_words_nostops)\n",
        "\n",
        "# Initialize spacy 'en_core_web_sm' model, keeping only tagger component (for efficiency)\n",
        "# python3 -m spacy download en\n",
        "nlp = spacy.load('en_core_web_sm', disable=['parser', 'ner'])\n",
        "\n",
        "# Do lemmatization keeping only noun, adj, vb, adv\n",
        "data_lemmatized = lemmatization(data_words_bigrams, allowed_postags=['NOUN', 'ADJ', 'VERB', 'ADV'])\n",
        "\n",
        "print(data_lemmatized[:1])"
      ]
    },
    {
      "cell_type": "code",
      "execution_count": null,
      "metadata": {
        "id": "Xt4qJup3iQik",
        "colab": {
          "base_uri": "https://localhost:8080/"
        },
        "outputId": "9c214f43-a55a-4702-dba1-0fc2799aa4c9"
      },
      "outputs": [
        {
          "output_type": "stream",
          "name": "stdout",
          "text": [
            "[[(0, 1), (1, 1), (2, 1), (3, 1), (4, 1), (5, 5), (6, 1), (7, 1), (8, 2), (9, 1), (10, 1), (11, 1), (12, 1), (13, 1), (14, 1), (15, 1), (16, 1), (17, 1), (18, 1), (19, 1), (20, 2), (21, 1), (22, 1), (23, 1), (24, 1), (25, 1), (26, 1), (27, 1), (28, 1), (29, 1), (30, 1), (31, 1), (32, 1), (33, 1), (34, 1), (35, 1), (36, 1), (37, 1), (38, 1), (39, 1), (40, 1)]]\n"
          ]
        }
      ],
      "source": [
        "# Create Dictionary\n",
        "id2word = corpora.Dictionary(data_lemmatized)\n",
        "\n",
        "# Create Corpus\n",
        "texts = data_lemmatized\n",
        "\n",
        "# Term Document Frequency\n",
        "corpus = [id2word.doc2bow(text) for text in texts]\n",
        "\n",
        "# View\n",
        "print(corpus[:1])"
      ]
    },
    {
      "cell_type": "code",
      "execution_count": null,
      "metadata": {
        "id": "dOznW4_yiQik"
      },
      "outputs": [],
      "source": [
        "# Build LDA model\n",
        "lda_model = gensim.models.ldamodel.LdaModel(corpus=corpus,\n",
        "                                           id2word=id2word,\n",
        "                                           num_topics=10, \n",
        "                                           random_state=100,\n",
        "                                           update_every=1,\n",
        "                                           chunksize=100,\n",
        "                                           passes=10,\n",
        "                                           alpha='auto',\n",
        "                                           per_word_topics=True)"
      ]
    },
    {
      "cell_type": "code",
      "execution_count": null,
      "metadata": {
        "id": "JvMxFMMfiQil",
        "colab": {
          "base_uri": "https://localhost:8080/"
        },
        "outputId": "902c7ff7-c36f-4e3b-b310-a1540b7f770d"
      },
      "outputs": [
        {
          "output_type": "stream",
          "name": "stdout",
          "text": [
            "[(0,\n",
            "  '0.031*\"year\" + 0.028*\"team\" + 0.026*\"game\" + 0.020*\"play\" + 0.016*\"win\" + '\n",
            "  '0.014*\"player\" + 0.014*\"god\" + 0.012*\"belief\" + 0.011*\"good\" + '\n",
            "  '0.010*\"last\"'),\n",
            " (1,\n",
            "  '0.044*\"drive\" + 0.026*\"card\" + 0.025*\"system\" + 0.021*\"chip\" + '\n",
            "  '0.021*\"driver\" + 0.021*\"bit\" + 0.015*\"key\" + 0.015*\"use\" + 0.014*\"run\" + '\n",
            "  '0.013*\"machine\"'),\n",
            " (2,\n",
            "  '0.177*\"ax\" + 0.150*\"max\" + 0.046*\"notice\" + 0.035*\"di_di\" + 0.021*\"rsa\" + '\n",
            "  '0.013*\"enable\" + 0.008*\"uunet\" + 0.007*\"annual\" + 0.003*\"pk\" + '\n",
            "  '0.003*\"deck\"'),\n",
            " (3,\n",
            "  '0.044*\"line\" + 0.031*\"write\" + 0.026*\"would\" + 0.021*\"article\" + '\n",
            "  '0.014*\"host\" + 0.013*\"be\" + 0.012*\"get\" + 0.011*\"know\" + 0.011*\"work\" + '\n",
            "  '0.011*\"need\"'),\n",
            " (4,\n",
            "  '0.024*\"go\" + 0.020*\"say\" + 0.018*\"think\" + 0.015*\"would\" + 0.014*\"see\" + '\n",
            "  '0.013*\"time\" + 0.013*\"come\" + 0.012*\"take\" + 0.012*\"know\" + 0.011*\"s\"'),\n",
            " (5,\n",
            "  '0.013*\"people\" + 0.011*\"may\" + 0.010*\"reason\" + 0.009*\"evidence\" + '\n",
            "  '0.009*\"say\" + 0.009*\"believe\" + 0.007*\"make\" + 0.007*\"claim\" + '\n",
            "  '0.006*\"state\" + 0.006*\"would\"'),\n",
            " (6,\n",
            "  '0.030*\"gun\" + 0.022*\"kill\" + 0.015*\"death\" + 0.015*\"attack\" + 0.014*\"war\" + '\n",
            "  '0.014*\"soldier\" + 0.013*\"child\" + 0.012*\"crime\" + 0.012*\"murder\" + '\n",
            "  '0.012*\"village\"'),\n",
            " (7,\n",
            "  '0.018*\"program\" + 0.016*\"file\" + 0.014*\"mail\" + 0.013*\"include\" + '\n",
            "  '0.012*\"send\" + 0.011*\"information\" + 0.011*\"use\" + 0.010*\"available\" + '\n",
            "  '0.009*\"source\" + 0.009*\"list\"'),\n",
            " (8,\n",
            "  '0.023*\"space\" + 0.019*\"patient\" + 0.011*\"launch\" + 0.011*\"science\" + '\n",
            "  '0.011*\"research\" + 0.010*\"scientific\" + 0.009*\"study\" + 0.009*\"test\" + '\n",
            "  '0.009*\"disease\" + 0.008*\"report\"'),\n",
            " (9,\n",
            "  '0.026*\"observation\" + 0.025*\"planet\" + 0.023*\"moral\" + 0.021*\"morality\" + '\n",
            "  '0.021*\"bug\" + 0.019*\"objective\" + 0.018*\"spacecraft\" + 0.018*\"qualify\" + '\n",
            "  '0.012*\"evolution\" + 0.011*\"theist\"')]\n"
          ]
        }
      ],
      "source": [
        "# Print the Keyword in the 10 topics\n",
        "pprint(lda_model.print_topics())\n",
        "doc_lda = lda_model[corpus]"
      ]
    },
    {
      "cell_type": "code",
      "execution_count": null,
      "metadata": {
        "id": "Mlm-xEjPiQil",
        "colab": {
          "base_uri": "https://localhost:8080/"
        },
        "outputId": "cc44e4c9-d77e-4dfb-ebd2-f8dd1b9bfd29"
      },
      "outputs": [
        {
          "output_type": "stream",
          "name": "stdout",
          "text": [
            "\n",
            "Perplexity:  -8.66383198707778\n",
            "\n",
            "Coherence Score:  0.5011670886409993\n"
          ]
        }
      ],
      "source": [
        "# Compute Perplexity\n",
        "print('\\nPerplexity: ', lda_model.log_perplexity(corpus))  # a measure of how good the model is. lower the better.\n",
        "\n",
        "# Compute Coherence Score\n",
        "coherence_model_lda = CoherenceModel(model=lda_model, texts=data_lemmatized, dictionary=id2word, coherence='c_v')\n",
        "coherence_lda = coherence_model_lda.get_coherence()\n",
        "print('\\nCoherence Score: ', coherence_lda)"
      ]
    },
    {
      "cell_type": "markdown",
      "source": [
        "**Q1. How do the measures of perplexity and coherence change as we change the number of topics from 5-30?**"
      ],
      "metadata": {
        "id": "9ITpsI_IVMTL"
      }
    },
    {
      "cell_type": "code",
      "execution_count": null,
      "metadata": {
        "id": "K9WSR3dDiQil",
        "colab": {
          "base_uri": "https://localhost:8080/",
          "height": 1000
        },
        "outputId": "7c7b73a1-59d7-457d-d48b-21851fa5cf2c"
      },
      "outputs": [
        {
          "output_type": "stream",
          "name": "stderr",
          "text": [
            "/usr/local/lib/python3.7/dist-packages/pyLDAvis/_prepare.py:247: FutureWarning: In a future version of pandas all arguments of DataFrame.drop except for the argument 'labels' will be keyword-only\n",
            "  by='saliency', ascending=False).head(R).drop('saliency', 1)\n",
            "/usr/local/lib/python3.7/dist-packages/pyLDAvis/_prepare.py:302: SettingWithCopyWarning: \n",
            "A value is trying to be set on a copy of a slice from a DataFrame.\n",
            "Try using .loc[row_indexer,col_indexer] = value instead\n",
            "\n",
            "See the caveats in the documentation: https://pandas.pydata.org/pandas-docs/stable/user_guide/indexing.html#returning-a-view-versus-a-copy\n",
            "  token_table['Freq'] = token_table['Freq'].round()\n",
            "/usr/local/lib/python3.7/dist-packages/pyLDAvis/_prepare.py:303: SettingWithCopyWarning: \n",
            "A value is trying to be set on a copy of a slice from a DataFrame.\n",
            "Try using .loc[row_indexer,col_indexer] = value instead\n",
            "\n",
            "See the caveats in the documentation: https://pandas.pydata.org/pandas-docs/stable/user_guide/indexing.html#returning-a-view-versus-a-copy\n",
            "  token_table['Term'] = vocab[token_table.index.values].values\n",
            "/usr/local/lib/python3.7/dist-packages/pyLDAvis/_prepare.py:305: SettingWithCopyWarning: \n",
            "A value is trying to be set on a copy of a slice from a DataFrame.\n",
            "Try using .loc[row_indexer,col_indexer] = value instead\n",
            "\n",
            "See the caveats in the documentation: https://pandas.pydata.org/pandas-docs/stable/user_guide/indexing.html#returning-a-view-versus-a-copy\n",
            "  token_table['Freq'] = token_table.Freq / term_frequency[token_table.index]\n"
          ]
        },
        {
          "output_type": "execute_result",
          "data": {
            "text/plain": [
              "PreparedData(topic_coordinates=              x         y  topics  cluster       Freq\n",
              "topic                                                \n",
              "3      0.282914 -0.005855       1        1  26.090883\n",
              "5      0.233378 -0.027035       2        1  22.593463\n",
              "4      0.267126 -0.152930       3        1  22.213830\n",
              "7      0.079036  0.260665       4        1  11.595591\n",
              "0     -0.025204 -0.067356       5        1   5.278222\n",
              "1     -0.084880  0.296641       6        1   4.302849\n",
              "6     -0.109046 -0.169503       7        1   3.426252\n",
              "8     -0.141085 -0.005503       8        1   3.118046\n",
              "2     -0.253680 -0.066619       9        1   1.019600\n",
              "9     -0.248559 -0.062507      10        1   0.361264, topic_info=           Term          Freq         Total Category  logprob  loglift\n",
              "19         line  12909.000000  12909.000000  Default  30.0000  30.0000\n",
              "3683         ax   2043.000000   2043.000000  Default  29.0000  29.0000\n",
              "113          go   6181.000000   6181.000000  Default  28.0000  28.0000\n",
              "197       write  10901.000000  10901.000000  Default  27.0000  27.0000\n",
              "1778        max   1728.000000   1728.000000  Default  26.0000  26.0000\n",
              "...         ...           ...           ...      ...      ...      ...\n",
              "9750   instinct     17.582242     18.603423  Topic10  -5.4468   5.5669\n",
              "2147      outer     16.947593     17.968649  Topic10  -5.4835   5.5648\n",
              "2139  objective     76.833969    199.248095  Topic10  -3.9720   4.6704\n",
              "531       moral     93.463626    293.804394  Topic10  -3.7761   4.4780\n",
              "228       value     24.984084    669.510163  Topic10  -5.0954   2.3350\n",
              "\n",
              "[518 rows x 6 columns], token_table=      Topic      Freq     Term\n",
              "term                          \n",
              "1209      1  0.022094   accept\n",
              "1209      2  0.975800   accept\n",
              "176       2  0.093042  address\n",
              "176       4  0.906293  address\n",
              "84        4  0.998110  advance\n",
              "...     ...       ...      ...\n",
              "40        1  0.130079     year\n",
              "40        3  0.271399     year\n",
              "40        5  0.502115     year\n",
              "40        7  0.043092     year\n",
              "40        8  0.053263     year\n",
              "\n",
              "[768 rows x 3 columns], R=30, lambda_step=0.01, plot_opts={'xlab': 'PC1', 'ylab': 'PC2'}, topic_order=[4, 6, 5, 8, 1, 2, 7, 9, 3, 10])"
            ],
            "text/html": [
              "\n",
              "<link rel=\"stylesheet\" type=\"text/css\" href=\"https://cdn.jsdelivr.net/gh/bmabey/pyLDAvis@3.3.1/pyLDAvis/js/ldavis.v1.0.0.css\">\n",
              "\n",
              "\n",
              "<div id=\"ldavis_el5161403608020263201169062967\"></div>\n",
              "<script type=\"text/javascript\">\n",
              "\n",
              "var ldavis_el5161403608020263201169062967_data = {\"mdsDat\": {\"x\": [0.28291441785563576, 0.23337750780236538, 0.2671257136960283, 0.07903590608750846, -0.02520371700836876, -0.08487951489854258, -0.10904615385713212, -0.1410850290946247, -0.25367972639208297, -0.24855940419078734], \"y\": [-0.00585488174501213, -0.027035192862172135, -0.15292955013779025, 0.26066501038661083, -0.0673555566946067, 0.2966414317376866, -0.16950262292834195, -0.005502751896341566, -0.06661856309137514, -0.06250732276865785], \"topics\": [1, 2, 3, 4, 5, 6, 7, 8, 9, 10], \"cluster\": [1, 1, 1, 1, 1, 1, 1, 1, 1, 1], \"Freq\": [26.090883325305196, 22.593463271088503, 22.213830089469003, 11.595590957374101, 5.278221620126621, 4.30284882733473, 3.4262515669114704, 3.1180463682113286, 1.0195995249437724, 0.36126444923525725]}, \"tinfo\": {\"Term\": [\"line\", \"ax\", \"go\", \"write\", \"max\", \"drive\", \"year\", \"say\", \"article\", \"would\", \"system\", \"people\", \"use\", \"host\", \"problem\", \"team\", \"program\", \"think\", \"good\", \"game\", \"file\", \"be\", \"key\", \"bit\", \"card\", \"get\", \"gun\", \"mail\", \"come\", \"run\", \"host\", \"line\", \"buy\", \"nntp_poste\", \"like\", \"com\", \"rate\", \"distribution_usa\", \"cheap\", \"company\", \"internet\", \"fast\", \"appreciate\", \"business\", \"replace\", \"character\", \"connect\", \"ride\", \"normal\", \"eat\", \"wait\", \"box\", \"quality\", \"advice\", \"telnet\", \"purchase\", \"external\", \"disclaimer\", \"tv\", \"signal\", \"sound\", \"organization\", \"reply\", \"sell\", \"stuff\", \"will\", \"need\", \"article\", \"write\", \"high\", \"work\", \"help\", \"cost\", \"thank\", \"problem\", \"would\", \"look\", \"be\", \"get\", \"good\", \"try\", \"want\", \"power\", \"probably\", \"new\", \"know\", \"much\", \"find\", \"have\", \"may\", \"use\", \"make\", \"also\", \"could\", \"post\", \"well\", \"evidence\", \"claim\", \"law\", \"sense\", \"public\", \"faith\", \"religion\", \"argument\", \"truth\", \"atheist\", \"encryption\", \"church\", \"valid\", \"conclusion\", \"security\", \"statement\", \"christian\", \"protect\", \"religious\", \"existence\", \"publish\", \"ripem\", \"indeed\", \"grant\", \"deny\", \"clipper\", \"shall\", \"encrypt\", \"therefore\", \"nature\", \"prove\", \"exist\", \"accept\", \"human\", \"reason\", \"issue\", \"believe\", \"state\", \"word\", \"fact\", \"government\", \"true\", \"person\", \"people\", \"example\", \"mean\", \"may\", \"key\", \"group\", \"rule\", \"must\", \"many\", \"say\", \"right\", \"case\", \"make\", \"question\", \"however\", \"would\", \"part\", \"point\", \"give\", \"car\", \"happen\", \"stop\", \"die\", \"face\", \"bike\", \"fire\", \"israeli\", \"season\", \"goal\", \"lebanese\", \"reality\", \"hell\", \"brain\", \"trade\", \"steal\", \"pain\", \"playoff\", \"eye\", \"thought\", \"route\", \"recommend\", \"cool\", \"greek\", \"pull\", \"bomb\", \"kid\", \"atheism\", \"front\", \"laugh\", \"go\", \"guy\", \"never\", \"away\", \"day\", \"s\", \"leave\", \"come\", \"ever\", \"hand\", \"start\", \"back\", \"take\", \"think\", \"story\", \"say\", \"tell\", \"see\", \"bad\", \"time\", \"love\", \"remember\", \"still\", \"let\", \"even\", \"thing\", \"know\", \"really\", \"people\", \"would\", \"be\", \"get\", \"make\", \"could\", \"right\", \"way\", \"first\", \"program\", \"file\", \"available\", \"email\", \"physical\", \"image\", \"copy\", \"sale\", \"entry\", \"color\", \"application\", \"user\", \"contain\", \"disk\", \"advance\", \"display\", \"server\", \"graphic\", \"distribution\", \"faq\", \"item\", \"university\", \"format\", \"print\", \"direct\", \"seller\", \"library\", \"motif\", \"printer\", \"cd\", \"network\", \"code\", \"mail\", \"input\", \"address\", \"include\", \"send\", \"version\", \"information\", \"list\", \"source\", \"software\", \"window\", \"set\", \"use\", \"message\", \"system\", \"also\", \"follow\", \"team\", \"game\", \"play\", \"player\", \"god\", \"belief\", \"fan\", \"hockey\", \"score\", \"sin\", \"division\", \"wing\", \"judge\", \"capable\", \"average\", \"beat\", \"baseball\", \"star\", \"keyboard\", \"desire\", \"helmet\", \"ice\", \"winner\", \"ignorant\", \"stat\", \"coach\", \"tomorrow\", \"king\", \"contradict\", \"predict\", \"win\", \"period\", \"year\", \"final\", \"lose\", \"last\", \"hit\", \"first\", \"good\", \"run\", \"second\", \"point\", \"next\", \"well\", \"card\", \"chip\", \"driver\", \"memory\", \"pc\", \"pin\", \"tape\", \"slow\", \"instal\", \"mode\", \"device\", \"monitor\", \"video\", \"scsi\", \"cpu\", \"board\", \"internal\", \"port\", \"scan\", \"nntp_posting\", \"mount\", \"controller\", \"install\", \"mouse\", \"apple\", \"interface\", \"warranty\", \"ide\", \"cable\", \"crash\", \"drive\", \"bus\", \"screen\", \"bit\", \"machine\", \"speed\", \"system\", \"key\", \"computer\", \"window\", \"run\", \"hardware\", \"use\", \"problem\", \"gun\", \"war\", \"soldier\", \"crime\", \"murder\", \"village\", \"terrorist\", \"turkish\", \"withdraw\", \"occupy\", \"armenian\", \"civilian\", \"workstation\", \"percent\", \"northern\", \"inhabitant\", \"border\", \"victim\", \"escape\", \"troop\", \"proceed\", \"closed\", \"sink\", \"decade\", \"officer\", \"participate\", \"bend\", \"british\", \"surveillance\", \"genocide\", \"kill\", \"military\", \"attack\", \"family\", \"land\", \"population\", \"death\", \"aim\", \"jewish\", \"criminal\", \"child\", \"force\", \"country\", \"police\", \"government\", \"area\", \"people\", \"report\", \"city\", \"patient\", \"launch\", \"scientific\", \"disease\", \"orbit\", \"doctor\", \"mission\", \"tumor\", \"satellite\", \"processor\", \"flight\", \"equipment\", \"medical\", \"attitude\", \"syndrome\", \"slightly\", \"health\", \"sector\", \"fuel\", \"pad\", \"neurologist\", \"moon\", \"shuttle\", \"probe\", \"storage\", \"experiment\", \"lunar\", \"grade\", \"researcher\", \"radiation\", \"energy\", \"space\", \"treatment\", \"research\", \"food\", \"study\", \"science\", \"earth\", \"test\", \"report\", \"field\", \"increase\", \"effect\", \"year\", \"ax\", \"max\", \"notice\", \"di_di\", \"rsa\", \"enable\", \"uunet\", \"annual\", \"pk\", \"deck\", \"iq\", \"rushdie\", \"bf\", \"precedent\", \"tm\", \"wt\", \"qw\", \"oa\", \"sl\", \"ms_window\", \"pe\", \"bhj\", \"tad\", \"rl\", \"emu\", \"mk\", \"gk\", \"wo\", \"where\", \"rcs\", \"observation\", \"planet\", \"morality\", \"bug\", \"spacecraft\", \"qualify\", \"evolution\", \"theist\", \"ether\", \"specie\", \"dumb\", \"speculation\", \"venus\", \"numerous\", \"behaviour\", \"apology\", \"south\", \"spec\", \"omniscient\", \"successfully\", \"poll\", \"shaft\", \"firstly\", \"perception\", \"evolve\", \"henry\", \"infinitely\", \"atom\", \"instinct\", \"outer\", \"objective\", \"moral\", \"value\"], \"Freq\": [12909.0, 2043.0, 6181.0, 10901.0, 1728.0, 2325.0, 3736.0, 7206.0, 6995.0, 13139.0, 3555.0, 6296.0, 4792.0, 3989.0, 3104.0, 1695.0, 2312.0, 6181.0, 4953.0, 1548.0, 2106.0, 6189.0, 2045.0, 1534.0, 1261.0, 5873.0, 1162.0, 1989.0, 3807.0, 2362.0, 3988.0807785962857, 12900.277692056417, 1338.7638939024798, 1176.3716950431608, 959.1685108265873, 903.8111880400131, 781.1706788778997, 722.4388907840042, 719.3217836731435, 689.763042459525, 683.8743275010154, 654.4566119941993, 613.5522292022395, 504.2862866643637, 488.4676745771246, 481.3407319633634, 465.08189468825566, 416.77030126794557, 411.5966264264408, 399.24826875136233, 392.52300246981656, 384.46176454848916, 383.70748965313265, 368.049006219848, 361.67194859617314, 338.691240356877, 331.09975659558677, 327.9008532029352, 323.68582392479175, 314.8686991897665, 843.7286123760493, 2979.4726058795086, 1849.5181229480638, 1022.8139061708682, 629.8521532469846, 1378.9490867451093, 3155.148932455274, 6047.607031023205, 9034.389926653772, 1478.650831840937, 3182.6599200449236, 2061.8825340806534, 914.4781777005028, 2196.849622872169, 2495.705593851034, 7746.888328435818, 2305.7099450223136, 3796.6449664698885, 3641.6338445841084, 3130.9657674294504, 2281.197262732152, 2452.7341830072787, 1104.7149283577303, 1217.1740811298605, 1766.8958530437758, 3303.4413043251434, 1863.5645851515733, 1829.618682358634, 1518.350802966679, 2567.4355484883895, 2257.1770729394816, 2566.6810335200885, 2187.565796333115, 1914.8652925072124, 1453.622747235156, 1493.6658168946658, 2343.2749645000035, 1685.0086826684258, 1444.637951395412, 1442.8725347001478, 1259.9566666932594, 1173.4678799648686, 876.1046366657517, 834.8182865476163, 718.6872257145772, 708.4098894278255, 592.2503771245949, 575.5688465485383, 571.6568584936693, 546.8995058086849, 543.1401696920042, 529.4398661313577, 524.6506937094991, 521.4422113184049, 519.0693349453775, 500.2428961436733, 491.68654711647997, 484.55502870923164, 468.49738125876246, 464.04612201836403, 458.4548438481423, 444.2806065074165, 430.71718481118813, 417.8091566892667, 402.5733350040784, 379.37398245087473, 779.9910561381328, 1350.310933123367, 795.3780745192969, 583.7395266906515, 2450.168860541058, 1390.1685323772306, 2296.8887328982732, 1621.8205214716863, 909.2053384361618, 1415.9920133262383, 1322.8338218400559, 1108.086401464807, 1092.122691384083, 3323.177810936579, 866.4189602841723, 1472.041884784619, 2710.239532329004, 1316.0930211173998, 1264.0046159491062, 745.2826978077998, 1172.9336575788511, 1539.1346093310626, 2299.8579021924957, 1398.9940715148787, 1184.9079844780686, 1719.8905415090496, 1220.4297935062566, 1010.6739133168381, 1547.4802155268583, 1021.0645803032253, 1066.1989472165299, 1026.2238594281387, 1715.4417433146575, 1494.5744738056185, 1016.879215975911, 842.7270091567027, 771.61189474606, 680.9938850799543, 610.2725007409748, 604.1019410996224, 597.0058646716019, 529.015011811513, 506.2892764885921, 495.3186205093165, 469.59853353563636, 450.88169683321195, 424.757601459092, 399.079124197079, 377.7276481512832, 375.4620650505512, 371.50958043913613, 368.94837858688254, 369.13370970263793, 354.3033368691167, 348.0955766855441, 342.2691950592238, 338.10527471294427, 332.1672914599631, 328.174306729192, 327.85827731910524, 324.1785480176431, 321.7954357313249, 6093.210545339834, 536.1258049375548, 1967.7540413266222, 740.9625607294013, 1766.6100671457923, 2763.8430752593194, 1212.4975372465328, 3238.3180626037633, 1027.76805412214, 974.2058140795525, 1499.5823559036985, 1731.9038884408776, 3009.5965147206334, 4591.662108660014, 573.9688011060177, 4905.453412655652, 2049.6298067717617, 3433.808138363057, 1405.4255059598459, 3260.6594117902723, 821.9260660960105, 877.4546789126962, 1468.538299022256, 1224.9541709287853, 1909.9899504005932, 2021.9030805030086, 2984.173769286537, 1516.7657360321493, 2616.7543505047884, 3844.731050889076, 2392.3915148181363, 2205.4333863370525, 2166.373634600049, 1758.4744195214391, 1476.641242873229, 1298.0898529379851, 1256.2460756927755, 2311.377815503199, 2105.747329349561, 1361.5530272222857, 1060.6177067932972, 1042.4624714373758, 989.9578951389647, 939.4460915356764, 899.9968133008008, 884.464465549107, 843.1777027345889, 797.7070013112256, 779.7683279443839, 732.8488194977925, 729.9247448929863, 691.3543352033209, 661.6775386637327, 650.5900159936525, 641.1156728475208, 573.1047825725672, 552.5951672137433, 530.3522023758817, 506.652260664979, 486.35804888369427, 450.9623269903084, 401.4942826696928, 389.2920937368443, 379.8952117413675, 379.32923625019953, 343.400126811356, 336.0856724673484, 546.0511175133205, 617.9145187584263, 1770.8746966723963, 528.5673950368263, 1051.5534413325686, 1688.5177330324402, 1520.212973852514, 817.7016722557003, 1472.940393762127, 1138.3760204928424, 1238.9646746504054, 1007.2312744672815, 980.7836415508992, 936.5363446525575, 1379.808373722934, 846.3079745936374, 991.5028503200695, 989.114449599288, 794.3032833595468, 1694.9003150406224, 1548.0224532787508, 1176.2485608604325, 852.9921339655642, 841.2405640179551, 692.5265888333228, 500.2418863496443, 480.28725211435705, 474.1938865898505, 437.61879028519274, 434.3011309289274, 411.1261102749017, 378.44792603751085, 314.7810816399787, 304.1768050553824, 288.2875135458072, 284.5356089246396, 269.9897663051642, 263.75674959046216, 208.91551628077997, 201.7978570106982, 194.45218220431954, 192.9380130645203, 190.70541181808554, 190.31340604274553, 178.668794697484, 174.30659605843212, 173.4902249513594, 171.18989343273225, 166.73941370544273, 949.1935982906937, 326.63794503265973, 1876.1462459012107, 301.12301762208574, 524.3655748563035, 622.7910787442081, 293.8630984154098, 584.7440111603815, 659.823621505144, 493.1996031989129, 337.81459167818434, 415.58764942176447, 349.481377367835, 316.4767945517699, 1260.2576020541012, 1041.8769864556816, 1019.3424174862032, 608.3536798821248, 553.8053353708957, 551.0236043228723, 535.6413017549411, 522.8560718358436, 507.1854922129657, 493.76610707097103, 487.22528123503275, 478.03475895259896, 444.4265683135079, 401.51767572963877, 382.81921419091293, 341.99604297696493, 337.64258886472857, 330.9404753875475, 331.0603155664875, 330.39926021658266, 319.3515205867486, 304.5038948073557, 276.67909572994773, 274.3513410894396, 258.465967685392, 245.13293896458177, 240.1679990384152, 235.15124978437012, 227.97106516858616, 224.63339062101753, 2152.7254460757913, 394.63572279948556, 536.6209279108971, 1006.8420257496343, 648.8319231428694, 512.5846576544039, 1205.9889374167735, 728.5454835268089, 553.069642915021, 591.0641605717665, 683.7162521873382, 411.698140785283, 714.8487261752987, 592.8793422286872, 1161.609418800589, 557.2534095148258, 524.4616825946065, 467.66874776134756, 456.92647750458735, 455.26296716319666, 318.27661966642046, 315.1630053460401, 286.002285176402, 283.76038342261484, 242.93437354796552, 229.45712943384584, 199.02640180766647, 182.9635646868567, 182.08900574129515, 157.97012347748702, 157.4435253532809, 148.81114251435693, 147.56752711597179, 142.98546948881818, 137.27118355923804, 136.30758519563096, 136.0172275182716, 134.31030989761314, 127.97876507067281, 127.79860549552576, 126.78982536955994, 124.67359665174351, 121.34009955605617, 119.98842984721337, 860.3749707706669, 357.5717100174464, 566.1119894064517, 349.9181572726216, 334.07636489827996, 230.57750382892306, 566.7243932460145, 181.05313997748783, 301.6320403326565, 226.98800376912124, 517.5407301480598, 346.9362330171705, 315.4569390121667, 236.33740388222424, 339.9048482726736, 254.45788475626082, 356.14686314803686, 243.33591114813078, 213.22988690502729, 665.888799972584, 376.4695805136856, 339.7067827159193, 304.92654257875154, 291.680123440958, 288.3632478152828, 283.333668484201, 257.19124688165607, 255.02852973663443, 226.6209415743659, 225.58667628777786, 205.8473349068416, 197.4573032907346, 178.45238764678092, 176.5287847141818, 174.48082927549936, 173.23259898470656, 173.26484702418787, 170.76779623954113, 168.4039182178363, 165.01385741257556, 159.831694195651, 148.73074515786934, 130.16680137052415, 125.43138088458397, 124.19674165872763, 123.34946417808987, 122.14623687071152, 119.8787094987432, 119.54970408119813, 177.73527453292607, 811.0239297146096, 259.3475701601817, 375.97961360573504, 237.74754805077913, 324.93265574333805, 376.08801423463717, 255.70154156619606, 312.8355587000024, 298.53674192601926, 214.03320544737113, 229.42348802128768, 185.70780306137098, 199.15803898962292, 2042.1168576071088, 1727.801708194395, 527.3214611802965, 403.7276222291848, 247.36321856904294, 153.97617353138378, 88.00074929842495, 84.26323524807978, 37.28679386227013, 35.12814866682938, 34.54189087423515, 31.26735032181914, 29.589603136264284, 29.286462567743694, 24.43358658017492, 24.342736350812125, 23.743440600066627, 22.764677007289617, 21.944316296496496, 20.89537315985904, 20.526374015516623, 20.46282737203555, 19.878412424060762, 19.06408954236627, 19.01936403851494, 18.061234944473213, 17.14247035175351, 16.806517767252334, 14.947243015303448, 14.82629477749052, 104.0262163828752, 101.77430153560678, 84.64797629238556, 84.37971987379713, 74.21856396322559, 73.8521560572037, 47.084061757256414, 46.84112580869987, 44.96129080470129, 43.895008391308785, 43.17233976237907, 38.63151900757208, 38.27382985304655, 37.3421733206023, 35.02956532566253, 33.221239280015084, 31.94649702692416, 28.621484323917063, 26.62617050107986, 26.37711243137457, 25.378274024655155, 23.26552488754551, 22.584597993720884, 21.87097863105013, 21.278130122439965, 21.06859516000801, 19.138852426855795, 18.53648167396432, 17.5822418655854, 16.94759273705612, 76.83396906895634, 93.46362559948598, 24.984083883472998], \"Total\": [12909.0, 2043.0, 6181.0, 10901.0, 1728.0, 2325.0, 3736.0, 7206.0, 6995.0, 13139.0, 3555.0, 6296.0, 4792.0, 3989.0, 3104.0, 1695.0, 2312.0, 6181.0, 4953.0, 1548.0, 2106.0, 6189.0, 2045.0, 1534.0, 1261.0, 5873.0, 1162.0, 1989.0, 3807.0, 2362.0, 3989.047013382593, 12909.384620463556, 1339.7300848021214, 1177.3379061860273, 960.1347747946861, 904.7774840153521, 782.1369889053532, 723.4051383059452, 720.2880674279468, 690.7292258662374, 684.8405770654342, 655.4228370333004, 614.5184330293011, 505.2526052861783, 489.43394197187945, 482.3070203873048, 466.0481694924252, 417.7364940194084, 412.56289797892236, 400.2145975953805, 393.48923392349616, 385.42796566997214, 384.67367172058823, 369.0152565515608, 362.63884366178735, 339.65761903612395, 332.06624145997813, 328.8671356487147, 324.65208690440454, 315.83495359283717, 851.0828833783173, 3128.6308202378764, 1944.1003321535582, 1056.4300251803852, 642.6939043414023, 1445.6623644901842, 3448.8169432427726, 6995.591675227739, 10901.001528497674, 1604.3911442318586, 3629.701192822972, 2296.417294642435, 999.9147263965235, 2660.0521650697656, 3104.5428512094895, 13139.843175289066, 3166.8237188209882, 6189.887466146689, 5873.026845299495, 4953.087809606825, 3340.510820213786, 3677.5707228163233, 1336.3570150075677, 1549.982243971844, 2690.2350276567404, 6940.393312957892, 2964.5769092409446, 3167.116391264773, 2299.7073181304468, 5887.697040773524, 4792.489504149267, 6456.737440727911, 4731.425987862541, 4116.62705874759, 2262.5239215522265, 3402.0086600996297, 2344.247130180934, 1685.9809083054097, 1445.6100898618854, 1443.8447583856312, 1260.9288636010413, 1174.4399968243458, 877.0767538363197, 835.7904475405812, 719.6594335875476, 709.3820047927303, 593.2224900237825, 576.5409489416778, 572.6291563727241, 547.8716640380666, 544.1123152637119, 530.4120222843917, 525.6228071654513, 522.4144199795319, 520.0414571166679, 501.2150240239378, 492.658862657809, 485.5297175365846, 469.4695941281442, 465.01841260916115, 459.4269961672564, 445.2528671625934, 431.68933741344136, 418.7813212286619, 403.545488293512, 380.3461310978403, 795.0297053536974, 1400.2398242575068, 814.7162003968253, 594.7493821935657, 2764.3012905020523, 1519.5289169351736, 2724.2178874227216, 1994.1702565538874, 1042.3732106654966, 1807.3050346826408, 1663.6026311745732, 1337.8959381772086, 1319.8746299448308, 6296.8277687733635, 1055.8733710647386, 2264.762848517977, 5887.697040773524, 2045.5093542969378, 2051.740058463086, 877.8953439244991, 1882.418586912935, 3174.5664405802963, 7206.168241286235, 2880.7341503349153, 2162.9514973592077, 6456.737440727911, 2662.958441949351, 1703.4481002139362, 13139.843175289066, 1829.3822293035796, 2937.1490342535735, 3280.8365656586034, 1716.4060373330806, 1495.5388789574652, 1017.8436436001473, 843.6913643614744, 772.5763042076866, 681.9581494541181, 611.236831071063, 605.066412836395, 597.9703339518247, 529.9794626665613, 507.25497852462195, 496.2833757830262, 470.562856829358, 451.84619718988205, 425.72195127486606, 400.04355663906756, 378.6919800018299, 376.42647762030504, 372.47389822462304, 369.9127510382875, 370.09859638247246, 355.2679932265287, 349.0602190494401, 343.2336350070461, 339.0695967835996, 333.1320191701433, 329.13868732840587, 328.82288182227774, 325.1428980631559, 322.75984492795186, 6181.618182849722, 538.8348164322038, 2031.9406497075115, 762.7448729534956, 1927.722115295035, 3145.549371107995, 1314.1126409395417, 3807.124742418446, 1118.9503470202758, 1064.9186037282147, 1710.7694735891132, 2018.8902116558836, 3759.997316694406, 6181.869352816725, 606.6601482730755, 7206.168241286235, 2641.002199343191, 4843.817227959821, 1751.301795915261, 5143.302537824661, 934.942555947577, 1041.321021764906, 2159.3900200379744, 1679.4949033377354, 3262.880729505451, 3661.082772379531, 6940.393312957892, 2450.245520823024, 6296.8277687733635, 13139.843175289066, 6189.887466146689, 5873.026845299495, 6456.737440727911, 4116.62705874759, 2880.7341503349153, 3229.106730840249, 2981.952771956261, 2312.33222591052, 2106.7016691716694, 1362.5074253654473, 1061.5720651131408, 1043.417829001329, 990.9123365640576, 940.4004987095924, 900.9511887935572, 885.4189146504551, 844.132079214, 798.6790291309104, 780.7227317318926, 733.8033326767915, 730.8791341630621, 692.3087626076067, 662.6319216790255, 651.5443257446644, 642.0699946687702, 574.0592215913789, 553.5495782012975, 531.3066956686579, 507.606864169516, 487.31239340809253, 451.9167536079783, 402.4488410394262, 390.248137004116, 380.8496209469743, 380.28356890647814, 344.3544561665281, 337.0400319578518, 552.1016024895214, 635.2006130585185, 1989.5426619981924, 543.34452917528, 1160.7720020403708, 2009.703290505218, 1787.7153090392603, 898.0315768292654, 1780.4743296447984, 1333.165891084608, 1490.6461304660374, 1250.6022263574682, 1572.7008245035715, 1646.5309948638655, 4792.489504149267, 1429.9345881429742, 3555.319425698732, 4731.425987862541, 1859.172120505174, 1695.8723254230654, 1548.994447211578, 1177.2207011979058, 853.9641054689148, 842.2128878638471, 693.4988959802491, 501.21409752862553, 481.25922382306135, 475.1658529559001, 438.59093519721097, 435.27328685749603, 412.0981729735554, 379.4202489432832, 315.75377540251014, 305.1491860298142, 289.2596702235744, 285.50758138345486, 270.96186659197446, 264.7291785269342, 209.88777560221675, 202.7699280756894, 195.42419417320346, 193.9102343234939, 191.6777920246287, 191.2854532492019, 179.64078189173688, 175.2789248387251, 174.462267358247, 172.16226536714984, 167.71153629145357, 1083.1649047980375, 362.2286756825559, 3736.1959835788944, 359.31798310692113, 1005.9290394589523, 1776.7702114442766, 529.6904909622524, 2981.952771956261, 4953.087809606825, 2362.432707879096, 1003.7302550061728, 2937.1490342535735, 1331.4740550709848, 3402.0086600996297, 1261.2359533328627, 1042.8552608021828, 1020.3206260851988, 609.3319848674857, 554.7835571861458, 552.0018696086585, 536.6196284104241, 523.8344866794126, 508.16369472823936, 494.7443464111672, 488.2035652251899, 479.01301629247183, 445.4047720798306, 402.495820001637, 383.79744457033206, 342.97428761810255, 338.62100983235916, 331.91870692143027, 332.0397355575898, 331.37769919292566, 320.32986112833356, 305.4821018339617, 277.65730563700976, 275.3295604185787, 259.44420890586235, 246.11114607672286, 241.14683550042852, 236.12941261734966, 228.94929760599018, 225.61205329014103, 2325.321895894704, 422.3609642609447, 629.7651164971849, 1534.404895133071, 878.2119685595757, 667.3526438383295, 3555.319425698732, 2045.5093542969378, 1304.7424944157844, 1572.7008245035715, 2362.432707879096, 636.3110973118652, 4792.489504149267, 3104.5428512094895, 1162.5807602741686, 558.2248173076741, 525.4330426102292, 468.64008886542877, 457.8978358396222, 456.23427022988443, 319.2479862358514, 316.1342894273622, 286.9737921888646, 284.73177963720565, 243.90564944822938, 230.42852116357827, 199.9986644460632, 183.93509252973797, 183.0604517722302, 158.9414377462518, 158.41494240452806, 149.78257214880023, 148.53889889865414, 143.9567804211311, 138.24296208287114, 137.28019495069216, 136.98908881515854, 135.28199615898043, 128.95012734221908, 128.77025807596246, 127.76268649838123, 125.64499722613772, 122.31432191561687, 120.95973211450445, 1146.144940214513, 424.43697672062535, 728.4978333012964, 431.97511826391565, 416.98640502618656, 270.43332428828074, 927.8854028739552, 203.7936007829082, 464.87058334012596, 300.7198460603896, 1195.9803760506102, 744.8727131385978, 690.2775511036774, 403.6591606362386, 1663.6026311745732, 946.7067640759141, 6296.8277687733635, 1060.5383373556992, 522.5553186372517, 666.8628782941973, 377.44360706283584, 340.6808934474662, 305.9006388423733, 292.6541153974088, 289.33735253039424, 284.3077063703179, 258.1665805310544, 256.0025403512536, 227.5954058405719, 226.5606887923576, 206.82148162359974, 198.43138390428632, 179.4266445258109, 177.50280560149693, 175.45521687814667, 174.20670701600187, 174.24009953504196, 171.7418570667536, 169.3781339932188, 165.98846739911792, 160.80572809957158, 149.70474015652204, 131.14081438192326, 126.4057725383823, 125.17081392116734, 124.32343528629296, 123.12055130416718, 120.85303654162094, 120.52378980908203, 183.77361234684355, 1153.715840288223, 317.42910401737134, 597.4934894455084, 353.64168090346766, 610.4400700336763, 804.3662305386671, 471.2430161794589, 941.6115884693966, 1060.5383373556992, 473.28737407693353, 676.5791011307776, 635.0050488630537, 3736.1959835788944, 2043.058875886168, 1728.7437134375027, 528.264188485904, 404.6696882365294, 248.30564772357116, 154.9193668980261, 88.94393922366392, 85.20670757523253, 38.25302911442821, 36.07058890557155, 35.48442652560388, 32.209743642911405, 30.531701154467793, 30.229676165222376, 25.377474054992355, 25.284804786959885, 24.68615603391583, 23.70689212455497, 22.886740371567818, 21.837724213150125, 21.469574469058777, 21.404862937205788, 20.820870121406593, 20.01385131266367, 19.967550331791575, 19.003273647632945, 18.08447310935331, 17.748916290637027, 15.89056469612292, 15.8030233605241, 105.04734461185316, 102.79545819787363, 85.66899629097685, 85.40113996728702, 75.23968052654902, 74.87493272265358, 48.10519058615388, 47.862294635977975, 45.983934295461786, 44.91602877325311, 44.19352091999532, 39.65316576686637, 39.294978485462806, 38.36341353476904, 36.05129913773458, 34.24249149032747, 32.96806541543979, 29.64268366112998, 27.647243422532412, 27.398241566956578, 26.39959936585219, 24.286622891072096, 23.605860949999133, 22.892905349292217, 22.29920626254377, 22.08984336061903, 20.16018056844814, 19.557478425403158, 18.603423021505204, 17.968648987871685, 199.248095315739, 293.80439355933527, 669.510163445373], \"Category\": [\"Default\", \"Default\", \"Default\", \"Default\", \"Default\", \"Default\", \"Default\", \"Default\", \"Default\", \"Default\", \"Default\", \"Default\", \"Default\", \"Default\", \"Default\", \"Default\", \"Default\", \"Default\", \"Default\", \"Default\", \"Default\", \"Default\", \"Default\", \"Default\", \"Default\", \"Default\", \"Default\", \"Default\", \"Default\", \"Default\", \"Topic1\", \"Topic1\", \"Topic1\", \"Topic1\", \"Topic1\", \"Topic1\", \"Topic1\", \"Topic1\", \"Topic1\", \"Topic1\", \"Topic1\", \"Topic1\", \"Topic1\", \"Topic1\", \"Topic1\", \"Topic1\", \"Topic1\", \"Topic1\", \"Topic1\", \"Topic1\", \"Topic1\", \"Topic1\", \"Topic1\", \"Topic1\", \"Topic1\", \"Topic1\", \"Topic1\", \"Topic1\", \"Topic1\", \"Topic1\", \"Topic1\", \"Topic1\", \"Topic1\", \"Topic1\", \"Topic1\", \"Topic1\", \"Topic1\", \"Topic1\", \"Topic1\", \"Topic1\", \"Topic1\", \"Topic1\", \"Topic1\", \"Topic1\", \"Topic1\", \"Topic1\", \"Topic1\", \"Topic1\", \"Topic1\", \"Topic1\", \"Topic1\", \"Topic1\", \"Topic1\", \"Topic1\", \"Topic1\", \"Topic1\", \"Topic1\", \"Topic1\", \"Topic1\", \"Topic1\", \"Topic1\", \"Topic1\", \"Topic1\", \"Topic1\", \"Topic1\", \"Topic1\", \"Topic2\", \"Topic2\", \"Topic2\", \"Topic2\", \"Topic2\", \"Topic2\", \"Topic2\", \"Topic2\", \"Topic2\", \"Topic2\", \"Topic2\", \"Topic2\", \"Topic2\", \"Topic2\", \"Topic2\", \"Topic2\", \"Topic2\", \"Topic2\", \"Topic2\", \"Topic2\", \"Topic2\", \"Topic2\", \"Topic2\", \"Topic2\", \"Topic2\", \"Topic2\", \"Topic2\", \"Topic2\", \"Topic2\", \"Topic2\", \"Topic2\", \"Topic2\", \"Topic2\", \"Topic2\", \"Topic2\", \"Topic2\", \"Topic2\", \"Topic2\", \"Topic2\", \"Topic2\", \"Topic2\", \"Topic2\", \"Topic2\", \"Topic2\", \"Topic2\", \"Topic2\", \"Topic2\", \"Topic2\", \"Topic2\", \"Topic2\", \"Topic2\", \"Topic2\", \"Topic2\", \"Topic2\", \"Topic2\", \"Topic2\", \"Topic2\", \"Topic2\", \"Topic2\", \"Topic2\", \"Topic2\", \"Topic2\", \"Topic3\", \"Topic3\", \"Topic3\", \"Topic3\", \"Topic3\", \"Topic3\", \"Topic3\", \"Topic3\", \"Topic3\", \"Topic3\", \"Topic3\", \"Topic3\", \"Topic3\", \"Topic3\", \"Topic3\", \"Topic3\", \"Topic3\", \"Topic3\", \"Topic3\", \"Topic3\", \"Topic3\", \"Topic3\", \"Topic3\", \"Topic3\", \"Topic3\", \"Topic3\", \"Topic3\", \"Topic3\", \"Topic3\", \"Topic3\", \"Topic3\", \"Topic3\", \"Topic3\", \"Topic3\", \"Topic3\", \"Topic3\", \"Topic3\", \"Topic3\", \"Topic3\", \"Topic3\", \"Topic3\", \"Topic3\", \"Topic3\", \"Topic3\", \"Topic3\", \"Topic3\", \"Topic3\", \"Topic3\", \"Topic3\", \"Topic3\", \"Topic3\", \"Topic3\", \"Topic3\", \"Topic3\", \"Topic3\", \"Topic3\", \"Topic3\", \"Topic3\", \"Topic3\", \"Topic3\", \"Topic3\", \"Topic3\", \"Topic3\", \"Topic3\", \"Topic3\", \"Topic3\", \"Topic3\", \"Topic4\", \"Topic4\", \"Topic4\", \"Topic4\", \"Topic4\", \"Topic4\", \"Topic4\", \"Topic4\", \"Topic4\", \"Topic4\", \"Topic4\", \"Topic4\", \"Topic4\", \"Topic4\", \"Topic4\", \"Topic4\", \"Topic4\", \"Topic4\", \"Topic4\", \"Topic4\", \"Topic4\", \"Topic4\", \"Topic4\", \"Topic4\", \"Topic4\", \"Topic4\", \"Topic4\", \"Topic4\", \"Topic4\", \"Topic4\", \"Topic4\", \"Topic4\", \"Topic4\", \"Topic4\", \"Topic4\", \"Topic4\", \"Topic4\", \"Topic4\", \"Topic4\", \"Topic4\", \"Topic4\", \"Topic4\", \"Topic4\", \"Topic4\", \"Topic4\", \"Topic4\", \"Topic4\", \"Topic4\", \"Topic4\", \"Topic5\", \"Topic5\", \"Topic5\", \"Topic5\", \"Topic5\", \"Topic5\", \"Topic5\", \"Topic5\", \"Topic5\", \"Topic5\", \"Topic5\", \"Topic5\", \"Topic5\", \"Topic5\", \"Topic5\", \"Topic5\", \"Topic5\", \"Topic5\", \"Topic5\", \"Topic5\", \"Topic5\", \"Topic5\", \"Topic5\", \"Topic5\", \"Topic5\", \"Topic5\", \"Topic5\", \"Topic5\", \"Topic5\", \"Topic5\", \"Topic5\", \"Topic5\", \"Topic5\", \"Topic5\", \"Topic5\", \"Topic5\", \"Topic5\", \"Topic5\", \"Topic5\", \"Topic5\", \"Topic5\", \"Topic5\", \"Topic5\", \"Topic5\", \"Topic6\", \"Topic6\", \"Topic6\", \"Topic6\", \"Topic6\", \"Topic6\", \"Topic6\", \"Topic6\", \"Topic6\", \"Topic6\", \"Topic6\", \"Topic6\", \"Topic6\", \"Topic6\", \"Topic6\", \"Topic6\", \"Topic6\", \"Topic6\", \"Topic6\", \"Topic6\", \"Topic6\", \"Topic6\", \"Topic6\", \"Topic6\", \"Topic6\", \"Topic6\", \"Topic6\", \"Topic6\", \"Topic6\", \"Topic6\", \"Topic6\", \"Topic6\", \"Topic6\", \"Topic6\", \"Topic6\", \"Topic6\", \"Topic6\", \"Topic6\", \"Topic6\", \"Topic6\", \"Topic6\", \"Topic6\", \"Topic6\", \"Topic6\", \"Topic7\", \"Topic7\", \"Topic7\", \"Topic7\", \"Topic7\", \"Topic7\", \"Topic7\", \"Topic7\", \"Topic7\", \"Topic7\", \"Topic7\", \"Topic7\", \"Topic7\", \"Topic7\", \"Topic7\", \"Topic7\", \"Topic7\", \"Topic7\", \"Topic7\", \"Topic7\", \"Topic7\", \"Topic7\", \"Topic7\", \"Topic7\", \"Topic7\", \"Topic7\", \"Topic7\", \"Topic7\", \"Topic7\", \"Topic7\", \"Topic7\", \"Topic7\", \"Topic7\", \"Topic7\", \"Topic7\", \"Topic7\", \"Topic7\", \"Topic7\", \"Topic7\", \"Topic7\", \"Topic7\", \"Topic7\", \"Topic7\", \"Topic7\", \"Topic7\", \"Topic7\", \"Topic7\", \"Topic7\", \"Topic7\", \"Topic8\", \"Topic8\", \"Topic8\", \"Topic8\", \"Topic8\", \"Topic8\", \"Topic8\", \"Topic8\", \"Topic8\", \"Topic8\", \"Topic8\", \"Topic8\", \"Topic8\", \"Topic8\", \"Topic8\", \"Topic8\", \"Topic8\", \"Topic8\", \"Topic8\", \"Topic8\", \"Topic8\", \"Topic8\", \"Topic8\", \"Topic8\", \"Topic8\", \"Topic8\", \"Topic8\", \"Topic8\", \"Topic8\", \"Topic8\", \"Topic8\", \"Topic8\", \"Topic8\", \"Topic8\", \"Topic8\", \"Topic8\", \"Topic8\", \"Topic8\", \"Topic8\", \"Topic8\", \"Topic8\", \"Topic8\", \"Topic8\", \"Topic8\", \"Topic9\", \"Topic9\", \"Topic9\", \"Topic9\", \"Topic9\", \"Topic9\", \"Topic9\", \"Topic9\", \"Topic9\", \"Topic9\", \"Topic9\", \"Topic9\", \"Topic9\", \"Topic9\", \"Topic9\", \"Topic9\", \"Topic9\", \"Topic9\", \"Topic9\", \"Topic9\", \"Topic9\", \"Topic9\", \"Topic9\", \"Topic9\", \"Topic9\", \"Topic9\", \"Topic9\", \"Topic9\", \"Topic9\", \"Topic9\", \"Topic10\", \"Topic10\", \"Topic10\", \"Topic10\", \"Topic10\", \"Topic10\", \"Topic10\", \"Topic10\", \"Topic10\", \"Topic10\", \"Topic10\", \"Topic10\", \"Topic10\", \"Topic10\", \"Topic10\", \"Topic10\", \"Topic10\", \"Topic10\", \"Topic10\", \"Topic10\", \"Topic10\", \"Topic10\", \"Topic10\", \"Topic10\", \"Topic10\", \"Topic10\", \"Topic10\", \"Topic10\", \"Topic10\", \"Topic10\", \"Topic10\", \"Topic10\", \"Topic10\"], \"logprob\": [30.0, 29.0, 28.0, 27.0, 26.0, 25.0, 24.0, 23.0, 22.0, 21.0, 20.0, 19.0, 18.0, 17.0, 16.0, 15.0, 14.0, 13.0, 12.0, 11.0, 10.0, 9.0, 8.0, 7.0, 6.0, 5.0, 4.0, 3.0, 2.0, 1.0, -4.3023, -3.1284, -5.3939, -5.5232, -5.7273, -5.7868, -5.9326, -6.0107, -6.0151, -6.057, -6.0656, -6.1096, -6.1741, -6.3702, -6.4021, -6.4168, -6.4512, -6.5608, -6.5733, -6.6038, -6.6208, -6.6415, -6.6435, -6.6852, -6.7026, -6.7683, -6.791, -6.8007, -6.8136, -6.8412, -5.8555, -4.5939, -5.0707, -5.6631, -6.1479, -5.3643, -4.5366, -3.886, -3.4846, -5.2945, -4.5279, -4.962, -5.775, -4.8986, -4.7711, -3.6383, -4.8502, -4.3515, -4.3932, -4.5443, -4.8609, -4.7884, -5.586, -5.4891, -5.1164, -4.4907, -5.0631, -5.0815, -5.268, -4.7427, -4.8715, -4.743, -4.9028, -5.036, -5.3116, -5.2844, -4.6901, -5.0199, -5.1738, -5.1751, -5.3106, -5.3817, -5.674, -5.7222, -5.872, -5.8864, -6.0655, -6.0941, -6.1009, -6.1452, -6.1521, -6.1776, -6.1867, -6.1929, -6.1974, -6.2344, -6.2516, -6.2662, -6.2999, -6.3095, -6.3216, -6.353, -6.384, -6.4144, -6.4516, -6.5109, -5.7902, -5.2414, -5.7706, -6.08, -4.6455, -5.2123, -4.7101, -5.0581, -5.6369, -5.1939, -5.2619, -5.4391, -5.4536, -4.3408, -5.6851, -5.155, -4.5447, -5.267, -5.3074, -5.8357, -5.3822, -5.1105, -4.7089, -5.2059, -5.372, -4.9994, -5.3425, -5.5311, -5.1051, -5.5209, -5.4776, -5.5158, -4.9851, -5.1229, -5.508, -5.6959, -5.784, -5.909, -6.0186, -6.0288, -6.0406, -6.1615, -6.2054, -6.2273, -6.2806, -6.3213, -6.381, -6.4433, -6.4983, -6.5044, -6.5149, -6.5219, -6.5213, -6.5624, -6.58, -6.5969, -6.6092, -6.6269, -6.639, -6.6399, -6.6512, -6.6586, -3.7176, -6.1481, -4.8479, -5.8246, -4.9557, -4.5081, -5.3321, -4.3497, -5.4974, -5.5509, -5.1196, -4.9755, -4.4229, -4.0005, -6.0799, -3.9344, -4.8071, -4.2911, -5.1844, -4.3428, -5.7209, -5.6555, -5.1405, -5.3218, -4.8777, -4.8207, -4.4314, -5.1082, -4.5628, -4.178, -4.6525, -4.7338, -4.7517, -4.9603, -5.135, -5.2639, -5.2966, -4.0368, -4.13, -4.566, -4.8158, -4.8331, -4.8848, -4.9371, -4.98, -4.9974, -5.0452, -5.1007, -5.1234, -5.1855, -5.1895, -5.2438, -5.2876, -5.3045, -5.3192, -5.4313, -5.4678, -5.5089, -5.5546, -5.5955, -5.671, -5.7872, -5.8181, -5.8425, -5.844, -5.9435, -5.9651, -5.4797, -5.3561, -4.3032, -5.5122, -4.8244, -4.3508, -4.4558, -5.0759, -4.4874, -4.7451, -4.6604, -4.8675, -4.8941, -4.9402, -4.5527, -5.0415, -4.8832, -4.8856, -5.105, -3.56, -3.6506, -3.9253, -4.2466, -4.2605, -4.455, -4.7803, -4.821, -4.8338, -4.914, -4.9216, -4.9765, -5.0593, -5.2435, -5.2778, -5.3314, -5.3445, -5.397, -5.4204, -5.6535, -5.6881, -5.7252, -5.733, -5.7447, -5.7467, -5.8098, -5.8346, -5.8393, -5.8526, -5.879, -4.1398, -5.2065, -3.4584, -5.2879, -4.7332, -4.5612, -5.3123, -4.6242, -4.5034, -4.7945, -5.1729, -4.9657, -5.1389, -5.2381, -3.652, -3.8423, -3.8642, -4.3803, -4.4743, -4.4793, -4.5076, -4.5318, -4.5622, -4.589, -4.6023, -4.6214, -4.6943, -4.7958, -4.8435, -4.9563, -4.9691, -4.9891, -4.9888, -4.9908, -5.0248, -5.0724, -5.1682, -5.1767, -5.2363, -5.2893, -5.3097, -5.3308, -5.3619, -5.3766, -3.1166, -4.8131, -4.5058, -3.8765, -4.3159, -4.5516, -3.696, -4.2, -4.4756, -4.4091, -4.2635, -4.7708, -4.219, -4.4061, -3.5057, -4.2402, -4.3009, -4.4155, -4.4387, -4.4424, -4.8003, -4.8102, -4.9073, -4.9151, -5.0705, -5.1275, -5.2698, -5.354, -5.3588, -5.5009, -5.5042, -5.5606, -5.569, -5.6005, -5.6413, -5.6483, -5.6505, -5.6631, -5.7114, -5.7128, -5.7207, -5.7376, -5.7647, -5.7759, -3.8059, -4.6839, -4.2245, -4.7056, -4.7519, -5.1227, -4.2234, -5.3645, -4.8541, -5.1384, -4.3142, -4.7141, -4.8092, -5.098, -4.7346, -5.0241, -4.6879, -5.0688, -5.2009, -3.9679, -4.5382, -4.6409, -4.7489, -4.7933, -4.8048, -4.8224, -4.9192, -4.9276, -5.0457, -5.0503, -5.1419, -5.1835, -5.2847, -5.2955, -5.3072, -5.3144, -5.3142, -5.3287, -5.3426, -5.363, -5.3949, -5.4669, -5.6002, -5.6372, -5.6471, -5.654, -5.6638, -5.6825, -5.6853, -5.2887, -3.7707, -4.9108, -4.5395, -4.9978, -4.6854, -4.5392, -4.925, -4.7233, -4.7701, -5.1029, -5.0334, -5.2448, -5.1749, -1.7295, -1.8966, -3.0834, -3.3505, -3.8403, -4.3144, -4.8739, -4.9173, -5.7326, -5.7922, -5.809, -5.9086, -5.9638, -5.9741, -6.1552, -6.159, -6.1839, -6.226, -6.2627, -6.3117, -6.3295, -6.3326, -6.3616, -6.4034, -6.4057, -6.4574, -6.5096, -6.5294, -6.6467, -6.6548, -3.669, -3.6909, -3.8751, -3.8783, -4.0066, -4.0116, -4.4617, -4.4669, -4.5078, -4.5318, -4.5484, -4.6596, -4.6689, -4.6935, -4.7575, -4.8105, -4.8496, -4.9595, -5.0318, -5.0412, -5.0798, -5.1667, -5.1964, -5.2285, -5.256, -5.2659, -5.3619, -5.3939, -5.4468, -5.4835, -3.972, -3.7761, -5.0954], \"loglift\": [30.0, 29.0, 28.0, 27.0, 26.0, 25.0, 24.0, 23.0, 22.0, 21.0, 20.0, 19.0, 18.0, 17.0, 16.0, 15.0, 14.0, 13.0, 12.0, 11.0, 10.0, 9.0, 8.0, 7.0, 6.0, 5.0, 4.0, 3.0, 2.0, 1.0, 1.3433, 1.3429, 1.3429, 1.3428, 1.3426, 1.3425, 1.3423, 1.3422, 1.3422, 1.3422, 1.3422, 1.3421, 1.342, 1.3417, 1.3416, 1.3416, 1.3415, 1.3413, 1.3412, 1.3412, 1.3411, 1.3411, 1.3411, 1.341, 1.3409, 1.3407, 1.3407, 1.3406, 1.3406, 1.3405, 1.3349, 1.2947, 1.2937, 1.3112, 1.3234, 1.2963, 1.2546, 1.198, 1.1558, 1.262, 1.2122, 1.2359, 1.2543, 1.1523, 1.1253, 0.8152, 1.0262, 0.8548, 0.8656, 0.8849, 0.9622, 0.9385, 1.1532, 1.1019, 0.9232, 0.6012, 0.8793, 0.7949, 0.9284, 0.5136, 0.5906, 0.4211, 0.5721, 0.5782, 0.9012, 0.5205, 1.4871, 1.4869, 1.4868, 1.4868, 1.4867, 1.4867, 1.4864, 1.4863, 1.4862, 1.4861, 1.4859, 1.4858, 1.4858, 1.4857, 1.4857, 1.4857, 1.4857, 1.4856, 1.4856, 1.4856, 1.4855, 1.4855, 1.4854, 1.4854, 1.4854, 1.4853, 1.4853, 1.4852, 1.4851, 1.485, 1.4684, 1.4512, 1.4635, 1.4688, 1.3669, 1.3985, 1.3169, 1.2808, 1.3508, 1.2435, 1.2583, 1.299, 1.2981, 0.8484, 1.2898, 1.0567, 0.7117, 1.0465, 1.0031, 1.3237, 1.0145, 0.7636, 0.3454, 0.7652, 0.8857, 0.1646, 0.7073, 0.9655, -0.6515, 0.9044, 0.4742, 0.3253, 1.5039, 1.5038, 1.5035, 1.5033, 1.5032, 1.503, 1.5029, 1.5029, 1.5028, 1.5026, 1.5025, 1.5025, 1.5024, 1.5023, 1.5022, 1.502, 1.5019, 1.5019, 1.5019, 1.5018, 1.5018, 1.5017, 1.5017, 1.5016, 1.5016, 1.5016, 1.5015, 1.5015, 1.5015, 1.5015, 1.4901, 1.4994, 1.4724, 1.4755, 1.4172, 1.3751, 1.424, 1.3426, 1.4195, 1.4154, 1.3727, 1.3511, 1.2818, 1.2071, 1.4491, 1.1199, 1.251, 1.1604, 1.2844, 1.0487, 1.3756, 1.3332, 1.1189, 1.1889, 0.9689, 0.9107, 0.6604, 1.0248, 0.6263, 0.2755, 0.5538, 0.525, 0.4124, 0.6539, 0.8362, 0.5931, 0.64, 2.1541, 2.1541, 2.1538, 2.1536, 2.1536, 2.1536, 2.1535, 2.1535, 2.1535, 2.1534, 2.1533, 2.1533, 2.1532, 2.1532, 2.1532, 2.1531, 2.1531, 2.1531, 2.1529, 2.1528, 2.1527, 2.1527, 2.1526, 2.1524, 2.1522, 2.1521, 2.152, 2.152, 2.1518, 2.1517, 2.1435, 2.127, 2.0381, 2.127, 2.0557, 1.9804, 1.9925, 2.0608, 1.9649, 1.9966, 1.9696, 1.9381, 1.6823, 1.5903, 0.9094, 1.63, 0.8776, 0.5894, 1.3041, 2.941, 2.941, 2.9408, 2.9404, 2.9404, 2.9402, 2.9396, 2.9396, 2.9395, 2.9394, 2.9393, 2.9392, 2.939, 2.9385, 2.9384, 2.9382, 2.9382, 2.938, 2.9379, 2.9369, 2.9368, 2.9366, 2.9366, 2.9365, 2.9365, 2.9362, 2.936, 2.936, 2.9359, 2.9358, 2.8096, 2.8382, 2.2527, 2.7649, 2.2901, 1.8932, 2.3524, 1.3124, 0.9258, 1.375, 1.8526, 0.9861, 1.604, 0.5667, 3.1451, 3.145, 3.1449, 3.1443, 3.1441, 3.1441, 3.1441, 3.144, 3.144, 3.1439, 3.1439, 3.1438, 3.1437, 3.1435, 3.1433, 3.143, 3.143, 3.1429, 3.1429, 3.1429, 3.1428, 3.1427, 3.1424, 3.1423, 3.1421, 3.1419, 3.1418, 3.1417, 3.1416, 3.1415, 3.0688, 3.078, 2.9858, 2.7246, 2.8432, 2.882, 2.0647, 2.1135, 2.2876, 2.1673, 1.906, 2.7105, 1.2432, 1.4903, 3.3729, 3.372, 3.3719, 3.3716, 3.3716, 3.3716, 3.3707, 3.3706, 3.3703, 3.3703, 3.3697, 3.3695, 3.3688, 3.3684, 3.3684, 3.3676, 3.3676, 3.3672, 3.3671, 3.3669, 3.3666, 3.3666, 3.3666, 3.3665, 3.3661, 3.3661, 3.3661, 3.3659, 3.3657, 3.3656, 3.0869, 3.2023, 3.1215, 3.163, 3.152, 3.2143, 2.8807, 3.2554, 2.9412, 3.0924, 2.5361, 2.6096, 2.5906, 2.8384, 1.7856, 2.0598, 0.5012, 1.9016, 2.4773, 3.4665, 3.4654, 3.4651, 3.4648, 3.4646, 3.4646, 3.4645, 3.4642, 3.4642, 3.4637, 3.4637, 3.4632, 3.463, 3.4625, 3.4625, 3.4624, 3.4624, 3.4624, 3.4623, 3.4622, 3.4621, 3.4619, 3.4614, 3.4605, 3.4602, 3.4602, 3.4601, 3.46, 3.4599, 3.4598, 3.4346, 3.1155, 3.2659, 3.0048, 3.0709, 2.8374, 2.7077, 2.8566, 2.366, 2.2003, 2.6744, 2.3865, 2.2385, 0.5362, 4.5853, 4.5852, 4.584, 4.5834, 4.582, 4.5797, 4.5751, 4.5746, 4.5602, 4.5593, 4.5588, 4.5561, 4.5544, 4.5541, 4.5479, 4.5478, 4.5468, 4.5452, 4.5437, 4.5416, 4.5408, 4.5408, 4.5394, 4.5371, 4.5371, 4.5349, 4.5323, 4.5312, 4.5246, 4.522, 5.6135, 5.6133, 5.6113, 5.6113, 5.6097, 5.6096, 5.6019, 5.6017, 5.6008, 5.6003, 5.5999, 5.5972, 5.597, 5.5963, 5.5946, 5.593, 5.5918, 5.5883, 5.5857, 5.5853, 5.5839, 5.5804, 5.5791, 5.5776, 5.5764, 5.576, 5.5713, 5.5697, 5.5669, 5.5648, 4.6704, 4.478, 2.335]}, \"token.table\": {\"Topic\": [1, 2, 2, 4, 4, 1, 1, 2, 7, 1, 2, 3, 4, 8, 9, 10, 6, 4, 1, 1, 3, 4, 7, 2, 7, 1, 2, 3, 3, 2, 10, 2, 7, 8, 4, 5, 3, 7, 9, 1, 3, 1, 3, 5, 5, 1, 3, 5, 10, 5, 2, 3, 7, 9, 9, 3, 1, 2, 6, 6, 3, 7, 1, 3, 7, 10, 3, 6, 1, 1, 6, 5, 3, 6, 1, 2, 4, 1, 1, 2, 3, 7, 6, 2, 2, 3, 5, 7, 7, 2, 2, 7, 5, 2, 4, 4, 1, 1, 2, 3, 6, 1, 1, 4, 6, 2, 1, 4, 5, 6, 3, 4, 1, 8, 1, 2, 3, 2, 3, 7, 6, 6, 7, 2, 7, 2, 3, 4, 8, 2, 3, 7, 7, 9, 2, 5, 6, 9, 3, 4, 1, 8, 4, 4, 4, 1, 5, 8, 3, 6, 6, 10, 2, 8, 1, 1, 2, 3, 8, 4, 9, 9, 2, 2, 2, 8, 4, 8, 7, 10, 1, 2, 3, 5, 1, 2, 3, 5, 2, 10, 10, 2, 4, 2, 6, 2, 8, 1, 3, 3, 2, 3, 2, 4, 7, 5, 4, 1, 5, 7, 8, 4, 2, 4, 5, 1, 2, 3, 4, 3, 1, 2, 3, 4, 5, 10, 8, 2, 4, 5, 6, 3, 8, 2, 3, 7, 4, 3, 8, 5, 7, 1, 3, 4, 5, 1, 2, 3, 4, 5, 9, 1, 3, 3, 5, 1, 2, 3, 5, 2, 7, 8, 2, 4, 3, 1, 2, 3, 4, 7, 3, 5, 1, 2, 3, 3, 4, 6, 1, 3, 8, 3, 5, 1, 3, 4, 10, 1, 8, 3, 5, 5, 1, 1, 2, 2, 3, 5, 6, 5, 4, 2, 4, 5, 7, 1, 2, 5, 7, 8, 2, 10, 2, 4, 7, 1, 4, 6, 6, 10, 6, 6, 1, 9, 3, 2, 4, 4, 2, 7, 5, 2, 6, 5, 3, 3, 7, 5, 1, 2, 3, 3, 7, 1, 3, 5, 7, 3, 8, 2, 3, 6, 7, 3, 1, 2, 3, 4, 1, 1, 4, 5, 1, 4, 5, 1, 3, 4, 1, 3, 5, 2, 3, 8, 4, 6, 1, 4, 1, 2, 3, 5, 1, 2, 3, 4, 5, 9, 1, 2, 3, 4, 5, 1, 2, 3, 8, 6, 1, 2, 4, 6, 2, 7, 8, 9, 6, 6, 8, 2, 10, 10, 4, 6, 6, 9, 1, 2, 3, 7, 1, 2, 3, 4, 2, 1, 2, 4, 1, 4, 6, 8, 2, 3, 1, 2, 4, 1, 3, 4, 5, 1, 6, 1, 7, 9, 10, 9, 2, 10, 10, 7, 7, 10, 8, 1, 2, 10, 8, 3, 1, 2, 3, 4, 9, 7, 8, 6, 9, 2, 3, 7, 7, 10, 2, 5, 2, 3, 4, 6, 9, 10, 5, 5, 3, 1, 2, 3, 5, 2, 3, 7, 10, 2, 7, 6, 1, 2, 3, 4, 1, 2, 8, 9, 5, 4, 4, 1, 2, 3, 5, 8, 1, 2, 6, 7, 8, 4, 2, 2, 5, 2, 2, 3, 1, 10, 1, 1, 2, 9, 8, 1, 9, 3, 1, 2, 3, 1, 2, 3, 3, 2, 2, 1, 3, 1, 1, 7, 1, 3, 5, 6, 7, 8, 1, 2, 8, 8, 1, 1, 2, 3, 2, 9, 3, 9, 2, 5, 1, 3, 4, 5, 6, 9, 1, 3, 4, 8, 2, 3, 6, 2, 5, 8, 8, 5, 4, 6, 6, 3, 1, 2, 3, 5, 6, 8, 2, 1, 2, 3, 4, 1, 4, 4, 3, 4, 7, 2, 4, 1, 2, 3, 4, 6, 10, 2, 8, 1, 5, 7, 9, 8, 6, 4, 6, 7, 1, 3, 2, 4, 7, 10, 4, 8, 10, 10, 10, 10, 1, 6, 5, 3, 4, 5, 5, 1, 2, 7, 2, 3, 1, 2, 3, 3, 8, 2, 3, 2, 8, 1, 4, 10, 7, 8, 1, 2, 4, 6, 8, 9, 1, 2, 3, 6, 5, 1, 2, 3, 1, 7, 4, 8, 1, 4, 10, 2, 1, 2, 3, 1, 2, 3, 3, 1, 2, 3, 4, 9, 5, 3, 2, 8, 7, 1, 2, 2, 1, 2, 3, 8, 7, 1, 4, 1, 2, 4, 6, 4, 9, 2, 1, 2, 4, 10, 10, 4, 6, 7, 6, 7, 1, 1, 2, 3, 7, 6, 1, 2, 3, 7, 1, 2, 3, 5, 9, 1, 5, 5, 6, 4, 6, 5, 5, 7, 9, 1, 2, 3, 4, 5, 1, 3, 4, 6, 7, 7, 1, 2, 3, 1, 2, 3, 9, 1, 3, 5, 7, 8], \"Freq\": [0.02209358300624525, 0.9757999161091652, 0.09304152737157752, 0.9062933962490699, 0.9981095680449324, 0.9972487409841849, 0.08341773213040829, 0.024534627097178907, 0.8881535009178765, 0.46243986603887394, 0.21008465577817215, 0.1179348470062576, 0.2090278919161089, 0.0004227055448252961, 0.9858378804958862, 0.9637149215418966, 0.9944334509837282, 0.9991498097406548, 0.9991563588634021, 0.6348322657086322, 0.0021125865747375445, 0.09401010257582074, 0.26829849499166813, 0.9990542515257177, 0.9962868861370036, 0.8645444561060819, 0.022442704961748487, 0.11292826063554973, 0.9974974922130799, 0.9980518186486361, 0.9714953833374015, 0.22237540400892186, 0.7769412263521591, 0.9920488702802126, 0.9996275797430526, 0.9962340190227416, 0.9714912892573171, 0.027532141800814657, 0.9994817203269736, 0.1416619875359266, 0.8578970713714157, 0.18957326531289884, 0.8022603547127195, 0.0074230495453845935, 0.9982221789663331, 0.6134198756869642, 0.38643675076197487, 0.9956451923539815, 0.9708388001853117, 0.9992806102747375, 0.8431777834676447, 0.15637515705581917, 0.9940304441047356, 0.9825852758161827, 0.934367113616791, 0.9985950025600763, 0.2535184821384867, 0.08993714790517009, 0.6562804923225092, 0.9971592983693652, 0.9966018902266939, 0.9910681253734583, 0.9962951166050186, 0.9981272450777616, 0.9948665108808364, 0.983593427818133, 0.06392636224620123, 0.9352190032314623, 0.997520833592795, 0.9994550508267274, 0.995853677578763, 0.9976127746958868, 0.9991808247567894, 0.9990200459084626, 0.4516975998735245, 0.5478624931935788, 0.9969142183146308, 0.9972900655971061, 0.9982117329354819, 0.39465530492954043, 0.17224362884636724, 0.43311747447775834, 0.9991798854219474, 0.9988151062759055, 0.9990617337022274, 0.5511378216397493, 0.0382734598360937, 0.40761234725439793, 0.9938005887623426, 0.9994181972639324, 0.9971861671086423, 0.9906745838236026, 0.996432982060148, 0.025188892565703468, 0.9729209753502964, 0.9986588837909653, 0.9991406903585822, 0.003677315808440416, 0.11583544796587311, 0.8505106134092906, 0.02968119188241193, 0.9989442666692975, 0.035255998939926536, 0.5403365054923523, 0.42383842203868205, 0.9984089995973838, 0.9977509417243999, 0.9989052479853682, 0.9932490121184732, 0.9984218327978386, 0.9969626471549027, 0.9985107422725592, 0.9140779467203752, 0.08500724887443314, 0.4651866619616994, 0.10761237140941662, 0.4270486432003486, 0.4056339360193751, 0.13617710709221878, 0.456338178021797, 0.9979222254300708, 0.9972871427691236, 0.9986341568281569, 0.24275085584255177, 0.7548554010446473, 0.05083720273915166, 0.916625890204908, 0.0031124818003562243, 0.029049830136658093, 0.22308789356838182, 0.16596877106053526, 0.611066838904698, 0.9905235271848454, 0.9703196166723471, 0.9968939653543195, 0.9957702367388024, 0.9975347061944647, 0.9983450990869918, 0.9991805482541621, 0.9963999373543126, 0.997363264508008, 0.997055779792479, 0.9987971552039603, 0.9990463458545368, 0.9981548565870215, 0.9980576053009027, 0.9970747415567616, 0.995377878042021, 0.07396825373023046, 0.9258933155882917, 0.9987056754010102, 0.9729933054631247, 0.45624018312904535, 0.5432441250280726, 0.9969651341988068, 0.3307060319850921, 0.3307060319850921, 0.04409413759801228, 0.29291105690108155, 0.9994611151405159, 0.9515438641338453, 0.9940655134575184, 0.9981342978087714, 0.9979392385751702, 0.027207388134501558, 0.9685830175882554, 0.998397465169337, 0.9960280643134799, 0.9963720015251909, 0.9786026508923815, 0.11094490727979127, 0.30096104681976527, 0.5853723008408876, 0.0024518211553545034, 0.03306670407541287, 0.03574778818963554, 0.9187181564736333, 0.01161803116163155, 0.9994680039638834, 0.9770255439654782, 0.9417375557117447, 0.8201741077405228, 0.17899873713967532, 0.96412055750225, 0.034994005420452036, 0.9975758427706672, 0.9906462706082209, 0.9967890699901012, 0.9987277008486183, 0.9992540488175111, 0.7834870001613462, 0.21579091106138773, 0.9987738864239641, 0.1875107999866626, 0.810231851794221, 0.9975776867917084, 0.9990071743833979, 0.9978291311304611, 0.3443996373617694, 0.2028365962376065, 0.45215657911299784, 0.9996669347245805, 0.019481351697103987, 0.14193556236461477, 0.8376981229754715, 0.5778126768714041, 0.1701863567397196, 0.1458740200626168, 0.10577445177700569, 0.9979765108903931, 0.12743327244271116, 0.16566325417552452, 0.42120050049485586, 0.08953864142685232, 0.19618016941838431, 0.9743342998045087, 0.997525215890955, 0.516896735595883, 0.4270718085984715, 0.038189040819258786, 0.01721196205938424, 0.32518791253961704, 0.672997592908077, 0.36382054976629985, 0.16915641797252318, 0.46585140505131384, 0.9973068745514266, 0.9964849361005146, 0.9956803945210325, 0.9993580046633684, 0.9920656891535116, 0.6201231657769267, 0.37544524451897954, 0.001702699521628025, 0.00272431923460484, 0.34198594704298135, 0.31272511734946423, 0.27889228301633506, 0.013106413300221212, 0.053035253819499785, 0.9400329164805791, 0.014235754683805472, 0.9856642419139402, 0.9981518856190518, 0.9985598797153017, 0.6321309293017637, 0.029274667757507422, 0.20532646282334516, 0.13325021186175792, 0.7952620266450928, 0.2043757286918606, 0.9908987468599059, 0.99780995207599, 0.9983335233266551, 0.9964058446456718, 0.16083908808954867, 0.6160624465005743, 0.06920954699610882, 0.15352822044911463, 0.9995004559734572, 0.994738988005686, 0.0037117126418122616, 0.004695194527070244, 0.07981830696019415, 0.9146238938732836, 0.9996396757282293, 0.35202906400077194, 0.6474820284299913, 0.6600839976602162, 0.33960843357880693, 0.993073131128694, 0.9988038647309511, 0.996202947434089, 0.8979204279686741, 0.007838296655400647, 0.09405955986480775, 0.9506631467309558, 0.9218450284504078, 0.07791117549445638, 0.4436553119409254, 0.555041113662264, 0.9973834811662242, 0.9997375279411147, 0.40623485970197254, 0.5935020854894425, 0.9819261986386272, 0.01681380477120937, 0.9927122934842898, 0.9952169761283408, 0.9964638990387493, 0.9990792963914235, 0.12588923011436104, 0.8404225678385605, 0.006966202456921165, 0.02637205215834441, 0.4640994666775942, 0.01625826157150808, 0.1256320212343806, 0.05468687983143626, 0.3384674454432136, 0.9968696713343632, 0.9424518761372658, 0.17242596250250122, 0.8273076311602094, 0.9940768262851957, 0.02576634022845508, 0.9735995700609098, 0.9977100002611133, 0.9976326729977382, 0.967563871401104, 0.9954851858827374, 0.9981660623105855, 0.9987725945372044, 0.9863481934742742, 0.9982375276270982, 0.9147571885657642, 0.08489473188847739, 0.997540600035139, 0.3484840852609328, 0.6496431712888994, 0.9962567919154587, 0.6433605386528884, 0.3563904503631882, 0.9972455679763308, 0.9965404026562525, 0.24865965027656908, 0.7503414008345594, 0.9916184319945566, 0.47590962803696074, 0.09394280274904585, 0.4299468150355104, 0.19664909697679578, 0.8009853462225583, 0.2296301442764231, 0.40297839044587974, 0.350636225206401, 0.016884569432089932, 0.9976457885332004, 0.996175303977011, 0.999577970667081, 0.9222953666540069, 0.03728751894888312, 0.038809458497817126, 0.997525941434282, 0.20363265129315253, 0.06668671621296224, 0.7293859585792745, 0.9977691432517072, 0.9988181088483866, 0.9992730388984864, 0.00030985210508480197, 0.00030985210508480197, 0.01875235495236159, 0.8536071974314996, 0.12676591947796437, 0.7281744122020554, 0.23619881193718012, 0.035366667028026974, 0.22069151132112125, 0.25747342987464145, 0.5209114951903944, 0.11979345606585046, 0.8791984007690096, 0.9893549009223777, 0.26075709304622763, 0.73900154317468, 0.10957292053292902, 0.8901543223110885, 0.3975692094598483, 0.26638840680597553, 0.33546354019868774, 0.00046463094210344566, 0.1650619099672128, 0.48479060961744364, 0.289173346087598, 0.05134559413102229, 0.00913510570429231, 0.9995697954348456, 0.43599390087889917, 0.46028183536494616, 0.006284290741145021, 0.0635222901942767, 0.033629447749911195, 0.1903069013526247, 0.6499576770094282, 0.1593985879078829, 0.9927865044524572, 0.9978140243733055, 0.10629856866208068, 0.2867264023121913, 0.591635454527107, 0.014685986459892724, 0.15550011808571237, 0.8434703374952278, 0.9954003836652442, 0.9472052202038403, 0.9984954928407639, 0.9978852009068302, 0.9949894316011388, 0.6773213892045183, 0.3165371316382925, 0.9921909171352424, 0.9966247058473521, 0.9958484634443718, 0.9951710218962417, 0.9616386668787735, 0.6287575114646837, 0.04756159287366975, 0.32382361105477275, 0.9980392223562798, 0.06799762863047007, 0.6231345186214171, 0.1434324978923978, 0.16521298831309525, 0.9964607735223839, 0.914806454480443, 0.01188813459071257, 0.07306853455755044, 0.005433782453216006, 0.9889484064853132, 0.005433782453216006, 0.9940449633965162, 0.031004842591769874, 0.9685322257238589, 0.6568199364867758, 0.1445970318581527, 0.19849566841196284, 0.030792939482259883, 0.531741491547317, 0.17499402193576957, 0.2621155092514317, 0.9988636175060722, 0.9958425108379922, 0.998635606881569, 0.9942070951865144, 0.9976069010289579, 0.96446057821384, 0.9701819993594695, 0.6123019635729636, 0.3864528786485098, 0.9900297849914905, 0.9974299333985899, 0.9926318231567345, 0.9765892240090414, 0.9977648857029721, 0.9521737051012943, 0.047305038051356676, 0.9460922750215949, 0.9918635660889146, 0.9981727101750965, 0.2875287578365954, 0.5581119044698933, 0.0409974464595906, 0.10768662603385798, 0.004919693575150872, 0.9940183541799841, 0.9987060633868172, 0.9985876344459089, 0.9781283755886493, 0.527726042703456, 0.4156060950210486, 0.056536404213791865, 0.9949161820244454, 0.9609964163277414, 0.09662404538803751, 0.9027446526253791, 0.8273513068780209, 0.17198603174112706, 0.9986411685118645, 0.9981850249721641, 0.9672436629611747, 0.9922617379034157, 0.998963065127326, 0.9988710234274011, 0.9962104748068654, 0.37961982418892076, 0.36293697989721035, 0.11575851141186821, 0.14163394337452112, 0.17836830430533324, 0.23534706818064802, 0.5846516641119256, 0.9469840679604188, 0.14421299631855344, 0.8541846705022011, 0.9972321327413229, 0.6426451389749148, 0.21480435869450387, 0.01812135536311658, 0.12419758187892097, 0.8268748452626206, 0.1541504236417193, 0.01870757568467467, 0.959322218388927, 0.9957573801588876, 0.9979714104408407, 0.9960666802991128, 0.7851702848423774, 0.018064723069504164, 0.17806655597082677, 0.018064723069504164, 0.9913008441551929, 0.8039831046389296, 0.0048316292346089525, 0.1910104090748739, 0.9910088581426225, 0.9973839285622971, 0.9994238605094926, 0.997292532660972, 0.9810954166209288, 0.01760940491370898, 0.9992633497195167, 0.9986626391855522, 0.9968454948667007, 0.998063876682672, 0.9883147444566736, 0.9982487189269413, 0.5415030055611461, 0.458137078214007, 0.9722048247214701, 0.995654054606881, 0.9985463046480586, 0.9491854601360616, 0.9974140262486099, 0.3787375559361455, 0.002040611831552508, 0.619121629693031, 0.00036175506752318594, 0.8862999154318055, 0.1132293361347572, 0.9964308824585834, 0.9987723379606062, 0.9979973575136833, 0.15653194028843848, 0.8421994578709235, 0.9970702032513269, 0.9515969774824742, 0.04835141399100139, 0.2479872633890378, 0.09712048718277906, 0.09240590042633347, 0.05091753696961232, 0.22912891636325544, 0.281932288035446, 0.26109071103816145, 0.1087877962659006, 0.6292955599381327, 0.9929415382018377, 0.9982369411579967, 0.0013885349328520852, 0.48564009276501674, 0.5127165239556324, 0.9989089904954279, 0.9493425179979147, 0.9970316115942868, 0.994741771943002, 0.848620516278842, 0.15035960825343242, 0.2281546467767516, 0.028360596167054466, 0.24508634598096324, 0.20868319269190824, 0.28953205639201873, 0.9624416867044007, 0.12112351613346185, 0.8787018335771354, 0.9989442393712462, 0.9960838656136849, 0.3191710105826604, 0.6806668725686735, 0.9968686411707811, 0.5122044963574519, 0.019891436751745702, 0.46744876366602406, 0.9980013747158639, 0.9975464294232265, 0.14608621149375975, 0.852698864914663, 0.9987681362712413, 0.9983772874727547, 0.21021584130559298, 0.011955403297000549, 0.23611921511576084, 0.3367438595321821, 0.20324185604900932, 0.9928828120601908, 0.9979557248889454, 0.11230811865895457, 0.11478550362937269, 0.7089449990346507, 0.06379266298826648, 0.9683556654169527, 0.03123727952957912, 0.9968016836321172, 0.13760580264438377, 0.850247235851477, 0.011187463629624698, 0.999414924367232, 0.9991645606858102, 0.021864149604409036, 0.09838867321984066, 0.1585150846319655, 0.5690752272036462, 0.15244170974185187, 0.9470233923900113, 0.998403163215539, 0.9952924659848098, 0.9973563610254691, 0.9986526506824742, 0.9927797985685333, 0.9612552789444225, 0.9917060495319594, 0.9984069649848706, 0.8052120640573386, 0.19430638685792778, 0.9972726446682717, 0.9916777983476741, 0.008224815863073127, 0.11605705503419049, 0.8311831860541157, 0.05232630226975062, 0.9706362686666347, 0.2964334787277958, 0.7029460562814105, 0.9835235806708191, 0.9783189785217483, 0.979605748810131, 0.9835280297490863, 0.23076255323460965, 0.7687090247360697, 0.9964501772737532, 0.8767984367017441, 0.11632192593576471, 0.007014387493613952, 0.9932799215655607, 0.11583765189597682, 0.8133708717544347, 0.07070609920923261, 0.9973378765467827, 0.9973913924577741, 0.3172192117420056, 0.0023154686988467563, 0.680284703721177, 0.9991711461721534, 0.9888788897045391, 0.052747819501728445, 0.9461640123122539, 0.46687629792106755, 0.5324027958749016, 0.9802489112536233, 0.018671407833402348, 0.9489660107003759, 0.9892545542089208, 0.997167337159584, 0.06384799024222342, 0.2747994998530937, 0.27901853004531113, 0.3392100274542795, 0.043315376640098706, 0.960574648580002, 0.08962772353685423, 0.10957454628244495, 0.8005324861897071, 0.9988453116926425, 0.9994856184572457, 0.14237019571339624, 0.08140848957016009, 0.7762204819480379, 0.9982383474000288, 0.9960908563572601, 0.6669416643659019, 0.33240882316326, 0.8259236524943784, 0.17368080448448012, 0.9819838425521331, 0.9986482607058285, 0.25265749438349727, 0.1947511281031714, 0.5522956255604665, 0.1040138448909506, 0.1531899084163767, 0.7428173806209101, 0.9975325234512041, 0.28192002887959056, 0.05113446041057402, 0.634028423569893, 0.03266383782880774, 0.9457206004030424, 0.9927034876560212, 0.9983041718363262, 0.17956765551302653, 0.8159302241732258, 0.9933536967252801, 0.17116428375737264, 0.8281660541623095, 0.9990836865928926, 0.6828296996367821, 0.10058341914860096, 0.21613460900383896, 0.9954812875909239, 0.9964120012751011, 0.9979914285762883, 0.9988044602775243, 0.4709452150173563, 0.0918103210490194, 0.28795055238101536, 0.14919177170465653, 0.9990742786106799, 0.9893872563785349, 0.998901284774409, 0.15683107700659604, 0.35249651593863496, 0.45256967936189146, 0.03734073262061811, 0.9670446826700291, 0.9108811105375183, 0.08797018060203417, 0.9947752790089438, 0.9968460776177341, 0.9972946569111029, 0.9987566777402828, 0.6670164042750117, 0.024200758247238503, 0.3086276473102888, 0.9978058709149095, 0.9952442440389127, 0.31773492966366695, 0.27406960307246125, 0.4019687511729432, 0.005883980178956795, 0.4391523212513655, 0.09847123669290993, 0.3691936516008802, 0.09288630088047624, 0.9439563846122973, 0.9538880127700544, 0.0456538135190889, 0.8761362150825471, 0.12278832097574158, 0.6237677152039747, 0.37578666634612545, 0.997335166604522, 0.9953058984912813, 0.9966066859923441, 0.9578049567436352, 0.03069917729329383, 0.8720485049876279, 0.04892681381118704, 0.039333320907032725, 0.007674794323323458, 0.8769316896646377, 0.030030020161308676, 0.025897448579477206, 0.05096838284258812, 0.016254781555203778, 0.9950066444252055, 0.5895808569899139, 0.11773352081623814, 0.2926214528367393, 0.8287311928526098, 0.06026969157672843, 0.11090724066402537, 0.9491866835522299, 0.13007882941259993, 0.27139903914480723, 0.5021149876091305, 0.04309195789182837, 0.053262730561949356], \"Term\": [\"accept\", \"accept\", \"address\", \"address\", \"advance\", \"advice\", \"aim\", \"aim\", \"aim\", \"also\", \"also\", \"also\", \"also\", \"also\", \"annual\", \"apology\", \"apple\", \"application\", \"appreciate\", \"area\", \"area\", \"area\", \"area\", \"argument\", \"armenian\", \"article\", \"article\", \"article\", \"atheism\", \"atheist\", \"atom\", \"attack\", \"attack\", \"attitude\", \"available\", \"average\", \"away\", \"away\", \"ax\", \"back\", \"back\", \"bad\", \"bad\", \"bad\", \"baseball\", \"be\", \"be\", \"beat\", \"behaviour\", \"belief\", \"believe\", \"believe\", \"bend\", \"bf\", \"bhj\", \"bike\", \"bit\", \"bit\", \"bit\", \"board\", \"bomb\", \"border\", \"box\", \"brain\", \"british\", \"bug\", \"bus\", \"bus\", \"business\", \"buy\", \"cable\", \"capable\", \"car\", \"card\", \"case\", \"case\", \"cd\", \"character\", \"cheap\", \"child\", \"child\", \"child\", \"chip\", \"christian\", \"church\", \"city\", \"city\", \"city\", \"civilian\", \"claim\", \"clipper\", \"closed\", \"coach\", \"code\", \"code\", \"color\", \"com\", \"come\", \"come\", \"come\", \"come\", \"company\", \"computer\", \"computer\", \"computer\", \"conclusion\", \"connect\", \"contain\", \"contradict\", \"controller\", \"cool\", \"copy\", \"cost\", \"cost\", \"could\", \"could\", \"could\", \"country\", \"country\", \"country\", \"cpu\", \"crash\", \"crime\", \"criminal\", \"criminal\", \"day\", \"day\", \"day\", \"day\", \"death\", \"death\", \"death\", \"decade\", \"deck\", \"deny\", \"desire\", \"device\", \"di_di\", \"die\", \"direct\", \"disclaimer\", \"disease\", \"disk\", \"display\", \"distribution\", \"distribution_usa\", \"division\", \"doctor\", \"drive\", \"drive\", \"driver\", \"dumb\", \"earth\", \"earth\", \"eat\", \"effect\", \"effect\", \"effect\", \"effect\", \"email\", \"emu\", \"enable\", \"encrypt\", \"encryption\", \"energy\", \"energy\", \"entry\", \"equipment\", \"escape\", \"ether\", \"even\", \"even\", \"even\", \"even\", \"ever\", \"ever\", \"ever\", \"ever\", \"evidence\", \"evolution\", \"evolve\", \"example\", \"example\", \"exist\", \"exist\", \"existence\", \"experiment\", \"external\", \"eye\", \"face\", \"fact\", \"fact\", \"faith\", \"family\", \"family\", \"fan\", \"faq\", \"fast\", \"field\", \"field\", \"field\", \"file\", \"final\", \"final\", \"final\", \"find\", \"find\", \"find\", \"find\", \"fire\", \"first\", \"first\", \"first\", \"first\", \"first\", \"firstly\", \"flight\", \"follow\", \"follow\", \"follow\", \"follow\", \"food\", \"food\", \"force\", \"force\", \"force\", \"format\", \"front\", \"fuel\", \"game\", \"genocide\", \"get\", \"get\", \"get\", \"get\", \"give\", \"give\", \"give\", \"give\", \"give\", \"gk\", \"go\", \"go\", \"goal\", \"god\", \"good\", \"good\", \"good\", \"good\", \"government\", \"government\", \"grade\", \"grant\", \"graphic\", \"greek\", \"group\", \"group\", \"group\", \"group\", \"gun\", \"guy\", \"guy\", \"hand\", \"hand\", \"hand\", \"happen\", \"hardware\", \"hardware\", \"have\", \"have\", \"health\", \"hell\", \"helmet\", \"help\", \"help\", \"help\", \"henry\", \"high\", \"high\", \"hit\", \"hit\", \"hockey\", \"host\", \"however\", \"however\", \"human\", \"human\", \"ice\", \"ide\", \"ignorant\", \"image\", \"include\", \"include\", \"include\", \"include\", \"increase\", \"increase\", \"increase\", \"increase\", \"increase\", \"indeed\", \"infinitely\", \"information\", \"information\", \"inhabitant\", \"input\", \"input\", \"instal\", \"install\", \"instinct\", \"interface\", \"internal\", \"internet\", \"iq\", \"israeli\", \"issue\", \"issue\", \"item\", \"jewish\", \"jewish\", \"judge\", \"key\", \"key\", \"keyboard\", \"kid\", \"kill\", \"kill\", \"king\", \"know\", \"know\", \"know\", \"land\", \"land\", \"last\", \"last\", \"last\", \"last\", \"laugh\", \"launch\", \"law\", \"leave\", \"leave\", \"leave\", \"lebanese\", \"let\", \"let\", \"let\", \"library\", \"like\", \"line\", \"line\", \"line\", \"list\", \"list\", \"list\", \"look\", \"look\", \"look\", \"lose\", \"lose\", \"lose\", \"love\", \"love\", \"lunar\", \"machine\", \"machine\", \"mail\", \"mail\", \"make\", \"make\", \"make\", \"make\", \"many\", \"many\", \"many\", \"many\", \"many\", \"max\", \"may\", \"may\", \"may\", \"may\", \"may\", \"mean\", \"mean\", \"mean\", \"medical\", \"memory\", \"message\", \"message\", \"message\", \"message\", \"military\", \"military\", \"mission\", \"mk\", \"mode\", \"monitor\", \"moon\", \"moral\", \"moral\", \"morality\", \"motif\", \"mount\", \"mouse\", \"ms_window\", \"much\", \"much\", \"much\", \"murder\", \"must\", \"must\", \"must\", \"must\", \"nature\", \"need\", \"need\", \"need\", \"network\", \"network\", \"network\", \"neurologist\", \"never\", \"never\", \"new\", \"new\", \"new\", \"next\", \"next\", \"next\", \"next\", \"nntp_poste\", \"nntp_posting\", \"normal\", \"northern\", \"notice\", \"numerous\", \"oa\", \"objective\", \"objective\", \"observation\", \"occupy\", \"officer\", \"omniscient\", \"orbit\", \"organization\", \"organization\", \"outer\", \"pad\", \"pain\", \"part\", \"part\", \"part\", \"part\", \"part\", \"participate\", \"patient\", \"pc\", \"pe\", \"people\", \"people\", \"people\", \"percent\", \"perception\", \"period\", \"period\", \"person\", \"person\", \"physical\", \"pin\", \"pk\", \"planet\", \"play\", \"player\", \"playoff\", \"point\", \"point\", \"point\", \"point\", \"police\", \"police\", \"police\", \"poll\", \"population\", \"population\", \"port\", \"post\", \"post\", \"post\", \"post\", \"power\", \"power\", \"power\", \"precedent\", \"predict\", \"print\", \"printer\", \"probably\", \"probably\", \"probably\", \"probably\", \"probe\", \"problem\", \"problem\", \"problem\", \"proceed\", \"processor\", \"program\", \"protect\", \"prove\", \"prove\", \"public\", \"publish\", \"pull\", \"purchase\", \"qualify\", \"quality\", \"question\", \"question\", \"qw\", \"radiation\", \"rate\", \"rcs\", \"reality\", \"really\", \"really\", \"really\", \"reason\", \"reason\", \"reason\", \"recommend\", \"religion\", \"religious\", \"remember\", \"remember\", \"replace\", \"reply\", \"reply\", \"report\", \"report\", \"report\", \"report\", \"report\", \"report\", \"research\", \"research\", \"research\", \"researcher\", \"ride\", \"right\", \"right\", \"right\", \"ripem\", \"rl\", \"route\", \"rsa\", \"rule\", \"rule\", \"run\", \"run\", \"run\", \"run\", \"run\", \"rushdie\", \"s\", \"s\", \"sale\", \"satellite\", \"say\", \"say\", \"scan\", \"science\", \"science\", \"science\", \"scientific\", \"score\", \"screen\", \"screen\", \"scsi\", \"season\", \"second\", \"second\", \"second\", \"second\", \"second\", \"sector\", \"security\", \"see\", \"see\", \"see\", \"see\", \"sell\", \"sell\", \"seller\", \"send\", \"send\", \"send\", \"sense\", \"server\", \"set\", \"set\", \"set\", \"set\", \"set\", \"shaft\", \"shall\", \"shuttle\", \"signal\", \"sin\", \"sink\", \"sl\", \"slightly\", \"slow\", \"software\", \"software\", \"soldier\", \"sound\", \"sound\", \"source\", \"source\", \"source\", \"south\", \"space\", \"space\", \"spacecraft\", \"spec\", \"specie\", \"speculation\", \"speed\", \"speed\", \"star\", \"start\", \"start\", \"start\", \"stat\", \"state\", \"state\", \"state\", \"statement\", \"steal\", \"still\", \"still\", \"still\", \"stop\", \"storage\", \"story\", \"story\", \"study\", \"study\", \"stuff\", \"stuff\", \"successfully\", \"surveillance\", \"syndrome\", \"system\", \"system\", \"system\", \"system\", \"system\", \"tad\", \"take\", \"take\", \"take\", \"tape\", \"team\", \"tell\", \"tell\", \"tell\", \"telnet\", \"terrorist\", \"test\", \"test\", \"thank\", \"thank\", \"theist\", \"therefore\", \"thing\", \"thing\", \"thing\", \"think\", \"think\", \"think\", \"thought\", \"time\", \"time\", \"time\", \"time\", \"tm\", \"tomorrow\", \"trade\", \"treatment\", \"treatment\", \"troop\", \"true\", \"true\", \"truth\", \"try\", \"try\", \"try\", \"tumor\", \"turkish\", \"tv\", \"university\", \"use\", \"use\", \"use\", \"use\", \"user\", \"uunet\", \"valid\", \"value\", \"value\", \"value\", \"value\", \"venus\", \"version\", \"version\", \"victim\", \"video\", \"village\", \"wait\", \"want\", \"want\", \"want\", \"war\", \"warranty\", \"way\", \"way\", \"way\", \"way\", \"well\", \"well\", \"well\", \"well\", \"where\", \"will\", \"will\", \"win\", \"win\", \"window\", \"window\", \"wing\", \"winner\", \"withdraw\", \"wo\", \"word\", \"word\", \"word\", \"word\", \"word\", \"work\", \"work\", \"work\", \"work\", \"work\", \"workstation\", \"would\", \"would\", \"would\", \"write\", \"write\", \"write\", \"wt\", \"year\", \"year\", \"year\", \"year\", \"year\"]}, \"R\": 30, \"lambda.step\": 0.01, \"plot.opts\": {\"xlab\": \"PC1\", \"ylab\": \"PC2\"}, \"topic.order\": [4, 6, 5, 8, 1, 2, 7, 9, 3, 10]};\n",
              "\n",
              "function LDAvis_load_lib(url, callback){\n",
              "  var s = document.createElement('script');\n",
              "  s.src = url;\n",
              "  s.async = true;\n",
              "  s.onreadystatechange = s.onload = callback;\n",
              "  s.onerror = function(){console.warn(\"failed to load library \" + url);};\n",
              "  document.getElementsByTagName(\"head\")[0].appendChild(s);\n",
              "}\n",
              "\n",
              "if(typeof(LDAvis) !== \"undefined\"){\n",
              "   // already loaded: just create the visualization\n",
              "   !function(LDAvis){\n",
              "       new LDAvis(\"#\" + \"ldavis_el5161403608020263201169062967\", ldavis_el5161403608020263201169062967_data);\n",
              "   }(LDAvis);\n",
              "}else if(typeof define === \"function\" && define.amd){\n",
              "   // require.js is available: use it to load d3/LDAvis\n",
              "   require.config({paths: {d3: \"https://d3js.org/d3.v5\"}});\n",
              "   require([\"d3\"], function(d3){\n",
              "      window.d3 = d3;\n",
              "      LDAvis_load_lib(\"https://cdn.jsdelivr.net/gh/bmabey/pyLDAvis@3.3.1/pyLDAvis/js/ldavis.v3.0.0.js\", function(){\n",
              "        new LDAvis(\"#\" + \"ldavis_el5161403608020263201169062967\", ldavis_el5161403608020263201169062967_data);\n",
              "      });\n",
              "    });\n",
              "}else{\n",
              "    // require.js not available: dynamically load d3 & LDAvis\n",
              "    LDAvis_load_lib(\"https://d3js.org/d3.v5.js\", function(){\n",
              "         LDAvis_load_lib(\"https://cdn.jsdelivr.net/gh/bmabey/pyLDAvis@3.3.1/pyLDAvis/js/ldavis.v3.0.0.js\", function(){\n",
              "                 new LDAvis(\"#\" + \"ldavis_el5161403608020263201169062967\", ldavis_el5161403608020263201169062967_data);\n",
              "            })\n",
              "         });\n",
              "}\n",
              "</script>"
            ]
          },
          "metadata": {},
          "execution_count": 14
        }
      ],
      "source": [
        "# Visualize the topics\n",
        "pyLDAvis.enable_notebook()\n",
        "vis = plt_gensim.prepare(lda_model, corpus, id2word)\n",
        "vis"
      ]
    },
    {
      "cell_type": "code",
      "execution_count": null,
      "metadata": {
        "id": "sqF4_HtXiQim"
      },
      "outputs": [],
      "source": [
        ""
      ]
    }
  ],
  "metadata": {
    "kernelspec": {
      "display_name": "Python 3",
      "language": "python",
      "name": "python3"
    },
    "language_info": {
      "codemirror_mode": {
        "name": "ipython",
        "version": 3
      },
      "file_extension": ".py",
      "mimetype": "text/x-python",
      "name": "python",
      "nbconvert_exporter": "python",
      "pygments_lexer": "ipython3",
      "version": "3.7.1"
    },
    "colab": {
      "name": "WK9 - TopicModel.ipynb",
      "provenance": [],
      "collapsed_sections": [],
      "include_colab_link": true
    }
  },
  "nbformat": 4,
  "nbformat_minor": 0
}