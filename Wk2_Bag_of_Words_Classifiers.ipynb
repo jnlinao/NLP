{
  "cells": [
    {
      "cell_type": "markdown",
      "metadata": {
        "id": "view-in-github",
        "colab_type": "text"
      },
      "source": [
        "<a href=\"https://colab.research.google.com/github/jnlinao/NLP/blob/main/Wk2_Bag_of_Words_Classifiers.ipynb\" target=\"_parent\"><img src=\"https://colab.research.google.com/assets/colab-badge.svg\" alt=\"Open In Colab\"/></a>"
      ]
    },
    {
      "cell_type": "markdown",
      "metadata": {
        "id": "wmpodQkfokCX"
      },
      "source": [
        "## Import packages\n",
        "Make sure you installed ***sklearn***, ***matplotlib*** and ***numpy*** if you use your local machine"
      ]
    },
    {
      "cell_type": "code",
      "source": [
        ""
      ],
      "metadata": {
        "id": "9tJIWO5V5oTy"
      },
      "execution_count": null,
      "outputs": []
    },
    {
      "cell_type": "code",
      "execution_count": null,
      "metadata": {
        "id": "gxD_3fs1tX_E"
      },
      "outputs": [],
      "source": [
        "import matplotlib.pyplot as plt\n",
        "import numpy as np\n",
        "import sklearn\n",
        "from sklearn import datasets\n",
        "from sklearn.ensemble import RandomForestClassifier\n",
        "from sklearn.feature_extraction.text import CountVectorizer\n",
        "from sklearn.linear_model import LogisticRegression\n",
        "from sklearn.metrics import confusion_matrix, precision_score, precision_recall_curve, recall_score, f1_score\n",
        "from sklearn.naive_bayes import MultinomialNB\n",
        "from sklearn.svm import SVC"
      ]
    },
    {
      "cell_type": "markdown",
      "metadata": {
        "id": "U0vF7uNdox7d"
      },
      "source": [
        "## Prepare dataset\n",
        "The 20 newsgroups text dataset: [Details](http://scikit-learn.org/stable/datasets/twenty_newsgroups.html)"
      ]
    },
    {
      "cell_type": "code",
      "execution_count": null,
      "metadata": {
        "id": "CPSdjUHDoSnf"
      },
      "outputs": [],
      "source": [
        "dataset = sklearn.datasets.fetch_20newsgroups()"
      ]
    },
    {
      "cell_type": "markdown",
      "metadata": {
        "id": "vjcfft1TrVn-"
      },
      "source": [
        "### See some examples and classes"
      ]
    },
    {
      "cell_type": "code",
      "execution_count": null,
      "metadata": {
        "colab": {
          "base_uri": "https://localhost:8080/"
        },
        "id": "kdAbjYQH_IvG",
        "outputId": "770de7f7-e03d-4bf2-d35b-bf5bf748d543"
      },
      "outputs": [
        {
          "output_type": "stream",
          "name": "stdout",
          "text": [
            "From: lerxst@wam.umd.edu (where's my thing)\n",
            "Subject: WHAT car is this!?\n",
            "Nntp-Posting-Host: rac3.wam.umd.edu\n",
            "Organization: University of Maryland, College Park\n",
            "Lines: 15\n",
            "\n",
            " I was wondering if anyone out there could enlighten me on this car I saw\n",
            "the other day. It was a 2-door sports car, looked to be from the late 60s/\n",
            "early 70s. It was called a Bricklin. The doors were really small. In addition,\n",
            "the front bumper was separate from the rest of the body. This is \n",
            "all I know. If anyone can tellme a model name, engine specs, years\n",
            "of production, where this car is made, history, or whatever info you\n",
            "have on this funky looking car, please e-mail.\n",
            "\n",
            "Thanks,\n",
            "- IL\n",
            "   ---- brought to you by your neighborhood Lerxst ----\n",
            "\n",
            "\n",
            "\n",
            "\n",
            "\n",
            "From: guykuo@carson.u.washington.edu (Guy Kuo)\n",
            "Subject: SI Clock Poll - Final Call\n",
            "Summary: Final call for SI clock reports\n",
            "Keywords: SI,acceleration,clock,upgrade\n",
            "Article-I.D.: shelley.1qvfo9INNc3s\n",
            "Organization: University of Washington\n",
            "Lines: 11\n",
            "NNTP-Posting-Host: carson.u.washington.edu\n",
            "\n",
            "A fair number of brave souls who upgraded their SI clock oscillator have\n",
            "shared their experiences for this poll. Please send a brief message detailing\n",
            "your experiences with the procedure. Top speed attained, CPU rated speed,\n",
            "add on cards and adapters, heat sinks, hour of usage per day, floppy disk\n",
            "functionality with 800 and 1.4 m floppies are especially requested.\n",
            "\n",
            "I will be summarizing in the next two days, so please add to the network\n",
            "knowledge base if you have done the clock upgrade and haven't answered this\n",
            "poll. Thanks.\n",
            "\n",
            "Guy Kuo <guykuo@u.washington.edu>\n",
            "\n",
            "From: jgreen@amber (Joe Green)\n",
            "Subject: Re: Weitek P9000 ?\n",
            "Organization: Harris Computer Systems Division\n",
            "Lines: 14\n",
            "Distribution: world\n",
            "NNTP-Posting-Host: amber.ssd.csd.harris.com\n",
            "X-Newsreader: TIN [version 1.1 PL9]\n",
            "\n",
            "Robert J.C. Kyanko (rob@rjck.UUCP) wrote:\n",
            "> abraxis@iastate.edu writes in article <abraxis.734340159@class1.iastate.edu>:\n",
            "> > Anyone know about the Weitek P9000 graphics chip?\n",
            "> As far as the low-level stuff goes, it looks pretty nice.  It's got this\n",
            "> quadrilateral fill command that requires just the four points.\n",
            "\n",
            "Do you have Weitek's address/phone number?  I'd like to get some information\n",
            "about this chip.\n",
            "\n",
            "--\n",
            "Joe Green\t\t\t\tHarris Corporation\n",
            "jgreen@csd.harris.com\t\t\tComputer Systems Division\n",
            "\"The only thing that really scares me is a person with no sense of humor.\"\n",
            "\t\t\t\t\t\t-- Jonathan Winters\n",
            "\n"
          ]
        }
      ],
      "source": [
        "print(dataset.data[0])\n",
        "print(dataset.data[1])\n",
        "print(dataset.data[3])"
      ]
    },
    {
      "cell_type": "code",
      "execution_count": null,
      "metadata": {
        "colab": {
          "base_uri": "https://localhost:8080/"
        },
        "id": "fAksBXutsDbA",
        "outputId": "c7bac115-fa43-482c-ac17-73d98df38c62"
      },
      "outputs": [
        {
          "output_type": "execute_result",
          "data": {
            "text/plain": [
              "['alt.atheism',\n",
              " 'comp.graphics',\n",
              " 'comp.os.ms-windows.misc',\n",
              " 'comp.sys.ibm.pc.hardware',\n",
              " 'comp.sys.mac.hardware',\n",
              " 'comp.windows.x',\n",
              " 'misc.forsale',\n",
              " 'rec.autos',\n",
              " 'rec.motorcycles',\n",
              " 'rec.sport.baseball',\n",
              " 'rec.sport.hockey',\n",
              " 'sci.crypt',\n",
              " 'sci.electronics',\n",
              " 'sci.med',\n",
              " 'sci.space',\n",
              " 'soc.religion.christian',\n",
              " 'talk.politics.guns',\n",
              " 'talk.politics.mideast',\n",
              " 'talk.politics.misc',\n",
              " 'talk.religion.misc']"
            ]
          },
          "metadata": {},
          "execution_count": 4
        }
      ],
      "source": [
        "dataset.target_names"
      ]
    },
    {
      "cell_type": "markdown",
      "metadata": {
        "id": "Ozf7I_JxabrV"
      },
      "source": [
        "## Count Vectorizer\n",
        "Convert a list of text documents to a matrix of token (word) frequencies ([Details](http://scikit-learn.org/stable/modules/generated/sklearn.feature_extraction.text.CountVectorizer.html))\n",
        "\n",
        "Example"
      ]
    },
    {
      "cell_type": "code",
      "execution_count": null,
      "metadata": {
        "id": "W_SVr6Px_IvI"
      },
      "outputs": [],
      "source": [
        "example_docs=[\n",
        "       \"One Cent, Two Cents, Old Cent, New Cent: All About Money (Cat in the Hat's Learning Library\",\n",
        "       \"Inside Your Outside: All About the Human Body (Cat in the Hat's Learning Library)\",\n",
        "       \"Oh, The Things You Can Do That Are Good for You: All About Staying Healthy (Cat in the Hat's Learning Library)\",\n",
        "       \"On Beyond Bugs: All About Insects (Cat in the Hat's Learning Library)\",\n",
        "       \"There's No Place Like Space: All About Our Solar System (Cat in the Hat's Learning Library)\" \n",
        "      ]"
      ]
    },
    {
      "cell_type": "code",
      "execution_count": null,
      "metadata": {
        "colab": {
          "base_uri": "https://localhost:8080/"
        },
        "id": "8pvZbkR3_IvJ",
        "outputId": "ccba568e-6ea5-4409-973d-6bf77a540c56"
      },
      "outputs": [
        {
          "output_type": "execute_result",
          "data": {
            "text/plain": [
              "CountVectorizer()"
            ]
          },
          "metadata": {},
          "execution_count": 6
        }
      ],
      "source": [
        "#Create the transform\n",
        "vectorizer = CountVectorizer()\n",
        "\n",
        "#Tokenize and build vocab\n",
        "vectorizer.fit(example_docs)"
      ]
    },
    {
      "cell_type": "code",
      "execution_count": null,
      "metadata": {
        "colab": {
          "base_uri": "https://localhost:8080/"
        },
        "id": "WH4CO41d_IvJ",
        "outputId": "5cb6eda1-4c16-476c-e648-e317d8e384fe"
      },
      "outputs": [
        {
          "output_type": "stream",
          "name": "stdout",
          "text": [
            "{'one': 28, 'cent': 8, 'two': 40, 'cents': 9, 'old': 26, 'new': 23, 'all': 1, 'about': 0, 'money': 22, 'cat': 7, 'in': 16, 'the': 37, 'hat': 13, 'learning': 19, 'library': 20, 'inside': 18, 'your': 42, 'outside': 30, 'human': 15, 'body': 4, 'oh': 25, 'things': 39, 'you': 41, 'can': 6, 'do': 10, 'that': 36, 'are': 2, 'good': 12, 'for': 11, 'staying': 34, 'healthy': 14, 'on': 27, 'beyond': 3, 'bugs': 5, 'insects': 17, 'there': 38, 'no': 24, 'place': 31, 'like': 21, 'space': 33, 'our': 29, 'solar': 32, 'system': 35}\n"
          ]
        }
      ],
      "source": [
        "#Summarize\n",
        "print(vectorizer.vocabulary_)"
      ]
    },
    {
      "cell_type": "code",
      "execution_count": null,
      "metadata": {
        "id": "a1MWnlg5_IvK"
      },
      "outputs": [],
      "source": [
        "### Create vector representation of documents"
      ]
    },
    {
      "cell_type": "code",
      "execution_count": null,
      "metadata": {
        "scrolled": true,
        "colab": {
          "base_uri": "https://localhost:8080/"
        },
        "id": "gwbnkWRh_IvK",
        "outputId": "f8eb72aa-f02f-4b0e-e03f-32a4cd9de34c"
      },
      "outputs": [
        {
          "output_type": "stream",
          "name": "stdout",
          "text": [
            "[[1 1 0 0 0 0 0 1 3 1 0 0 0 1 0 0 1 0 0 1 1 0 1 1 0 0 1 0 1 0 0 0 0 0 0 0\n",
            "  0 1 0 0 1 0 0]\n",
            " [1 1 0 0 1 0 0 1 0 0 0 0 0 1 0 1 1 0 1 1 1 0 0 0 0 0 0 0 0 0 1 0 0 0 0 0\n",
            "  0 2 0 0 0 0 1]\n",
            " [1 1 1 0 0 0 1 1 0 0 1 1 1 1 1 0 1 0 0 1 1 0 0 0 0 1 0 0 0 0 0 0 0 0 1 0\n",
            "  1 2 0 1 0 2 0]\n",
            " [1 1 0 1 0 1 0 1 0 0 0 0 0 1 0 0 1 1 0 1 1 0 0 0 0 0 0 1 0 0 0 0 0 0 0 0\n",
            "  0 1 0 0 0 0 0]\n",
            " [1 1 0 0 0 0 0 1 0 0 0 0 0 1 0 0 1 0 0 1 1 1 0 0 1 0 0 0 0 1 0 1 1 1 0 1\n",
            "  0 1 1 0 0 0 0]]\n"
          ]
        }
      ],
      "source": [
        "X = vectorizer.transform(example_docs)\n",
        "print(X.toarray())"
      ]
    },
    {
      "cell_type": "code",
      "execution_count": null,
      "metadata": {
        "id": "My4YLgjQ_IvK"
      },
      "outputs": [],
      "source": [
        "## Plot Histogram"
      ]
    },
    {
      "cell_type": "code",
      "execution_count": null,
      "metadata": {
        "id": "GVQY6rN3_IvL"
      },
      "outputs": [],
      "source": [
        "sum_mat = np.sum(X, axis=0)\n",
        "freqs = np.sort(sum_mat).T[::-1]\n",
        "plt.plot(list(range(1, sum_mat.shape[1] + 1)), freqs)\n",
        "plt.xlabel('Rank')\n",
        "plt.ylabel('Frequency')\n",
        "plt.show()"
      ]
    },
    {
      "cell_type": "code",
      "execution_count": null,
      "metadata": {
        "id": "g3rDm2P8_IvL"
      },
      "outputs": [],
      "source": [
        "plt.loglog(list(range(1, sum_mat.shape[1] + 1)), freqs)\n",
        "plt.xlabel('Rank')\n",
        "plt.ylabel('Frequency')\n",
        "plt.show()"
      ]
    },
    {
      "cell_type": "markdown",
      "metadata": {
        "id": "HgUadu4Y_IvM"
      },
      "source": [
        "## Count Vectorizer\n",
        "- load a scikit-learn dataset (20 newsgroups)\n",
        "- run count vectorizer on it\n",
        "- plot histograms of counts etc.\n",
        "- vary the parameters of Cvectorizer, show how histograms change"
      ]
    },
    {
      "cell_type": "markdown",
      "metadata": {
        "id": "OFJVuvK5rNGl"
      },
      "source": [
        "### Split into train and test datasets\n",
        "Here, 70% of the original data are used for training models, and the rest are for test"
      ]
    },
    {
      "cell_type": "code",
      "execution_count": null,
      "metadata": {
        "id": "VRawyKlArLYF"
      },
      "outputs": [],
      "source": [
        "class Dataset:\n",
        "  def __init__(self, dataset, start_idx, end_idx):\n",
        "    self.data = dataset.data[start_idx:end_idx]\n",
        "    self.labels = dataset.target[start_idx:end_idx]\n",
        "    self.vecs = None\n",
        "\n",
        "    \n",
        "def split_dataset(dataset, train_rate=0.7):\n",
        "  data_size = len(dataset.data)\n",
        "  train_last_idx = int(train_rate * data_size)\n",
        "  train = Dataset(dataset, 0, train_last_idx)\n",
        "  test = Dataset(dataset, train_last_idx, data_size)\n",
        "  return train, test"
      ]
    },
    {
      "cell_type": "code",
      "execution_count": null,
      "metadata": {
        "colab": {
          "base_uri": "https://localhost:8080/"
        },
        "id": "QMUKgxbyvQOB",
        "outputId": "e170d5dd-ad3d-45fe-bbd2-930e90178696"
      },
      "outputs": [
        {
          "output_type": "stream",
          "name": "stdout",
          "text": [
            "train data size: 7919\n",
            "test data size: 3395\n"
          ]
        }
      ],
      "source": [
        "train, test = split_dataset(dataset)\n",
        "print('train data size:', len(train.data))\n",
        "print('test data size:', len(test.data))"
      ]
    },
    {
      "cell_type": "markdown",
      "metadata": {
        "id": "6KKlKxec_IvN"
      },
      "source": [
        "### Create the vector representation of training and testing data"
      ]
    },
    {
      "cell_type": "code",
      "execution_count": null,
      "metadata": {
        "id": "BHGi7l_g_IvN"
      },
      "outputs": [],
      "source": [
        "#Encode documents\n",
        "vectorizer = CountVectorizer(max_features=2000, max_df=0.7, min_df=20)\n",
        "vectorizer.fit(train.data)\n",
        "train.vecs = vectorizer.transform(train.data)\n",
        "test.vecs = vectorizer.transform(test.data)"
      ]
    },
    {
      "cell_type": "markdown",
      "metadata": {
        "id": "0l2P7B7HxFgm"
      },
      "source": [
        "### Convert word to index and vice versa"
      ]
    },
    {
      "cell_type": "code",
      "execution_count": null,
      "metadata": {
        "id": "Jti4MuGTxEQa"
      },
      "outputs": [],
      "source": [
        "def word2idx(word, vocab_dict):\n",
        "  index = vocab_dict[word] if word in vocab_dict.keys() else 'Not Found'\n",
        "  print(word, ' -> ', index)\n",
        "\n",
        "\n",
        "def idx2word(index, vocabs):\n",
        "  word = vocabs[index] if 0 <= index < len(vocabs) else 'Not Found'\n",
        "  print(index, ' -> ', word)"
      ]
    },
    {
      "cell_type": "code",
      "execution_count": null,
      "metadata": {
        "colab": {
          "base_uri": "https://localhost:8080/"
        },
        "id": "K1qiwx8xyslo",
        "outputId": "684db8c5-1fc5-47cd-e2ec-73fbef2db8b5"
      },
      "outputs": [
        {
          "output_type": "stream",
          "name": "stdout",
          "text": [
            "display  ->  581\n",
            "4926  ->  Not Found\n",
            "google  ->  Not Found\n",
            "1  ->  000\n"
          ]
        },
        {
          "output_type": "stream",
          "name": "stderr",
          "text": [
            "/usr/local/lib/python3.7/dist-packages/sklearn/utils/deprecation.py:87: FutureWarning: Function get_feature_names is deprecated; get_feature_names is deprecated in 1.0 and will be removed in 1.2. Please use get_feature_names_out instead.\n",
            "  warnings.warn(msg, category=FutureWarning)\n"
          ]
        }
      ],
      "source": [
        "vocab_dict = vectorizer.vocabulary_\n",
        "vocabs = vectorizer.get_feature_names()\n",
        "\n",
        "word2idx('display', vocab_dict)\n",
        "idx2word(4926, vocabs)\n",
        "\n",
        "word2idx('google', vocab_dict)\n",
        "idx2word(1, vocabs)"
      ]
    },
    {
      "cell_type": "markdown",
      "metadata": {
        "id": "L8Ga3BoD4Xs6"
      },
      "source": [
        "### See vocaburary size"
      ]
    },
    {
      "cell_type": "code",
      "execution_count": null,
      "metadata": {
        "colab": {
          "base_uri": "https://localhost:8080/"
        },
        "id": "GZgwRHrS4juy",
        "outputId": "29f0b03a-6081-41fc-dde8-021c55eca7a2"
      },
      "outputs": [
        {
          "output_type": "stream",
          "name": "stdout",
          "text": [
            "Vocaburary Size: 2000\n"
          ]
        }
      ],
      "source": [
        "print('Vocaburary Size:', len(vocab_dict))"
      ]
    },
    {
      "cell_type": "code",
      "execution_count": null,
      "metadata": {
        "id": "6uWu-D1R6Dqo"
      },
      "outputs": [],
      "source": [
        "def sentence2vec(sentence, vectorizer):\n",
        "  vec = vectorizer.transform([sentence])\n",
        "  vocabs = vectorizer.get_feature_names()\n",
        "  print('\\\"', sentence, '\\\" -> ')\n",
        "  print(vec)\n",
        "  for idx in vec.indices:\n",
        "    print(idx, vocabs[idx])"
      ]
    },
    {
      "cell_type": "code",
      "source": [
        ""
      ],
      "metadata": {
        "id": "QSIk1mvnF03p"
      },
      "execution_count": null,
      "outputs": []
    },
    {
      "cell_type": "code",
      "execution_count": null,
      "metadata": {
        "colab": {
          "base_uri": "https://localhost:8080/"
        },
        "id": "60kP-8IP7uzA",
        "outputId": "3d78771b-bc93-444a-da86-63cf21f13702"
      },
      "outputs": [
        {
          "output_type": "stream",
          "name": "stdout",
          "text": [
            "\" A fair fair number of brave \" -> \n",
            "  (0, 697)\t2\n",
            "  (0, 1252)\t1\n",
            "697 fair\n",
            "1252 number\n"
          ]
        },
        {
          "output_type": "stream",
          "name": "stderr",
          "text": [
            "/usr/local/lib/python3.7/dist-packages/sklearn/utils/deprecation.py:87: FutureWarning: Function get_feature_names is deprecated; get_feature_names is deprecated in 1.0 and will be removed in 1.2. Please use get_feature_names_out instead.\n",
            "  warnings.warn(msg, category=FutureWarning)\n"
          ]
        }
      ],
      "source": [
        "sentence2vec('A fair fair number of brave', vectorizer)"
      ]
    },
    {
      "cell_type": "code",
      "execution_count": null,
      "metadata": {
        "colab": {
          "base_uri": "https://localhost:8080/"
        },
        "id": "gCEhKvGI_IvP",
        "outputId": "5d8e36f2-1409-4f27-dcab-05b1c31eed0e"
      },
      "outputs": [
        {
          "output_type": "stream",
          "name": "stdout",
          "text": [
            "anteaters  ->  Not Found\n"
          ]
        }
      ],
      "source": [
        "word2idx('anteaters', vocab_dict)"
      ]
    },
    {
      "cell_type": "code",
      "execution_count": null,
      "metadata": {
        "colab": {
          "base_uri": "https://localhost:8080/",
          "height": 279
        },
        "id": "ChzQiXuseWwn",
        "outputId": "de628f1f-bf37-4467-c6d1-cee9ca0c7ead"
      },
      "outputs": [
        {
          "output_type": "display_data",
          "data": {
            "text/plain": [
              "<Figure size 432x288 with 1 Axes>"
            ],
            "image/png": "[encoded data removed]"
          },
          "metadata": {
            "needs_background": "light"
          }
        }
      ],
      "source": [
        "sum_mat = np.sum(train.vecs, axis=0)\n",
        "freqs = np.sort(sum_mat).T[::-1]\n",
        "plt.plot(list(range(1, sum_mat.shape[1] + 1)), freqs)\n",
        "plt.xlabel('Rank')\n",
        "plt.ylabel('Frequency')\n",
        "plt.show()"
      ]
    },
    {
      "cell_type": "code",
      "execution_count": null,
      "metadata": {
        "colab": {
          "base_uri": "https://localhost:8080/",
          "height": 283
        },
        "id": "ep96T2k688q6",
        "outputId": "3cab3696-0365-4297-b8e7-d4c10b51465f"
      },
      "outputs": [
        {
          "output_type": "display_data",
          "data": {
            "text/plain": [
              "<Figure size 432x288 with 1 Axes>"
            ],
            "image/png": "[encoded data removed]"
          },
          "metadata": {
            "needs_background": "light"
          }
        }
      ],
      "source": [
        "plt.loglog(list(range(1, sum_mat.shape[1] + 1)), freqs)\n",
        "plt.xlabel('Rank')\n",
        "plt.ylabel('Frequency')\n",
        "plt.show()"
      ]
    },
    {
      "cell_type": "markdown",
      "metadata": {
        "id": "YY6gRBCTWq-4"
      },
      "source": [
        "### Play with Vectorizer parameters\n",
        "Back to CountVectorizer() to try other values for the parameters.\n",
        "\n"
      ]
    },
    {
      "cell_type": "markdown",
      "metadata": {
        "id": "I6eoVMSoat33"
      },
      "source": [
        "## Classification\n",
        "\n",
        "- train and predict on train+test data\n",
        "- compute different metrics (train and test)\n",
        "- contigency table\n",
        "- compute PR curve\n",
        "- change parameters of CVectorizer, see how metrics/curves change\n",
        "- change parameters of classifier (like regularization), see how metrics/curves change.. like overfitting"
      ]
    },
    {
      "cell_type": "code",
      "execution_count": null,
      "metadata": {
        "id": "KlT8JNM2SJbm"
      },
      "outputs": [],
      "source": [
        "def evaluate(preds, labels, print_details=True):\n",
        "  f1 = f1_score(labels, preds, average='micro')\n",
        "  if print_details:\n",
        "    print('Precision:', precision_score(labels, preds, average=None))  #Computes precision\n",
        "    print('Recall:', recall_score(labels, preds, average=None))        #Computes recall\n",
        "    print('F1 score:', f1_score(labels, preds, average=None))          #Computes f1_score\n",
        "  print('Avg. F1 score:', f1)\n",
        "  \n",
        "  \n",
        "def plot_confusion_matrix(preds, labels, class_size):\n",
        "  cnf_mat = confusion_matrix(labels, preds)                            #Computes confusion_matrix\n",
        "  cnf_mat = cnf_mat.astype('float') / cnf_mat.sum(axis=1)[:, np.newaxis]\n",
        "  plt.imshow(cnf_mat, interpolation='nearest', cmap=plt.cm.Blues)\n",
        "  plt.xticks(np.arange(class_size), np.arange(1, class_size + 1))\n",
        "  plt.yticks(np.arange(class_size), np.arange(1, class_size + 1))\n",
        "  plt.xlabel('True Label')\n",
        "  plt.ylabel('Predicted Label')\n",
        "  plt.title('Confusion Matrix')\n",
        "  plt.colorbar()\n",
        "  plt.show()\n",
        "  \n",
        "  \n",
        "def plot_pr_curves(probs, labels, class_size):\n",
        "  for i in range(class_size):\n",
        "    p,r,threshs = precision_recall_curve(labels==i, probs[:,i])\n",
        "    plt.plot(r, p, label=dataset.target_names[i])\n",
        "  plt.show()"
      ]
    },
    {
      "cell_type": "code",
      "execution_count": null,
      "metadata": {
        "id": "XltpsSpTBZ9I"
      },
      "outputs": [],
      "source": [
        "def training(model, train, class_size, print_details=True):\n",
        "  model.fit(train.vecs, train.labels)\n",
        "  train_preds = model.predict(train.vecs)\n",
        "  if print_details:\n",
        "    dev_probs = model.predict_proba(train.vecs)\n",
        "    plot_pr_curves(dev_probs, train.labels, class_size)\n",
        "  evaluate(train_preds, train.labels, print_details)\n",
        "  \n",
        "\n",
        "def testing(model, test, class_size, print_details=True):\n",
        "  test_preds = model.predict(test.vecs)\n",
        "  if print_details:\n",
        "    test_probs = model.predict_proba(test.vecs)\n",
        "    plot_pr_curves(test_probs, test.labels, class_size)\n",
        "  evaluate(test_preds, test.labels, print_details)\n",
        "  plot_confusion_matrix(test_preds, test.labels, class_size)"
      ]
    },
    {
      "cell_type": "markdown",
      "metadata": {
        "id": "BQmgdRHPrxaE"
      },
      "source": [
        "### Logistic Regression"
      ]
    },
    {
      "cell_type": "code",
      "execution_count": null,
      "metadata": {
        "colab": {
          "base_uri": "https://localhost:8080/"
        },
        "id": "xsmCUA56bZRB",
        "outputId": "94bf0e60-c2b4-4d6f-cbb9-4f3b4f8b1cd7"
      },
      "outputs": [
        {
          "output_type": "stream",
          "name": "stdout",
          "text": [
            "Avg. F1 score: 0.9834575072610178\n"
          ]
        },
        {
          "output_type": "stream",
          "name": "stderr",
          "text": [
            "/usr/local/lib/python3.7/dist-packages/sklearn/linear_model/_logistic.py:818: ConvergenceWarning: lbfgs failed to converge (status=1):\n",
            "STOP: TOTAL NO. of ITERATIONS REACHED LIMIT.\n",
            "\n",
            "Increase the number of iterations (max_iter) or scale the data as shown in:\n",
            "    https://scikit-learn.org/stable/modules/preprocessing.html\n",
            "Please also refer to the documentation for alternative solver options:\n",
            "    https://scikit-learn.org/stable/modules/linear_model.html#logistic-regression\n",
            "  extra_warning_msg=_LOGISTIC_SOLVER_CONVERGENCE_MSG,\n"
          ]
        }
      ],
      "source": [
        "model = LogisticRegression(C=0.1)\n",
        "training(model, train, len(dataset.target_names), print_details=False)"
      ]
    },
    {
      "cell_type": "code",
      "execution_count": null,
      "metadata": {
        "colab": {
          "base_uri": "https://localhost:8080/",
          "height": 775
        },
        "id": "yerp0mfBTiLc",
        "outputId": "6f28afe8-cef6-4657-c8d5-ada9343f0384"
      },
      "outputs": [
        {
          "output_type": "display_data",
          "data": {
            "text/plain": [
              "<Figure size 432x288 with 1 Axes>"
            ],
            "image/png": "[encoded data removed]"
          },
          "metadata": {
            "needs_background": "light"
          }
        },
        {
          "output_type": "stream",
          "name": "stdout",
          "text": [
            "Precision: [0.83783784 0.69398907 0.71428571 0.67307692 0.75       0.78313253\n",
            " 0.75384615 0.81122449 0.83233533 0.79428571 0.87765957 0.91812865\n",
            " 0.68888889 0.83333333 0.91623037 0.78846154 0.85714286 0.92814371\n",
            " 0.87022901 0.76923077]\n",
            "Recall: [0.83221477 0.74269006 0.75418994 0.62130178 0.76875    0.79754601\n",
            " 0.83522727 0.83684211 0.8128655  0.81764706 0.87765957 0.88202247\n",
            " 0.72941176 0.81395349 0.87939698 0.91111111 0.83636364 0.91715976\n",
            " 0.74025974 0.57377049]\n",
            "F1 score: [0.83501684 0.71751412 0.73369565 0.64615385 0.75925926 0.79027356\n",
            " 0.79245283 0.8238342  0.82248521 0.8057971  0.87765957 0.89971347\n",
            " 0.70857143 0.82352941 0.8974359  0.84536082 0.84662577 0.92261905\n",
            " 0.8        0.657277  ]\n",
            "Avg. F1 score: 0.8041237113402062\n"
          ]
        },
        {
          "output_type": "display_data",
          "data": {
            "text/plain": [
              "<Figure size 432x288 with 2 Axes>"
            ],
            "image/png": "[encoded data removed]"
          },
          "metadata": {
            "needs_background": "light"
          }
        }
      ],
      "source": [
        "testing(model, test, len(dataset.target_names))"
      ]
    },
    {
      "cell_type": "markdown",
      "metadata": {
        "id": "37igN5rJfJUw"
      },
      "source": [
        "#### Let's tune vectorizer's parameters\n",
        "Details are given [here](http://scikit-learn.org/stable/modules/generated/sklearn.feature_extraction.text.CountVectorizer.html)  \n",
        "e.g.\n",
        "```\n",
        "vectorizer = CountVectorizer(min_df=20) # min_df=1 by default\n",
        "```\n"
      ]
    },
    {
      "cell_type": "markdown",
      "metadata": {
        "id": "zwVsOYLJh9dm"
      },
      "source": [
        "#### Let's tune regularization parameter\n",
        "Details are given [here](http://scikit-learn.org/stable/modules/generated/sklearn.linear_model.LogisticRegression.html)  \n",
        "e.g.\n",
        "```\n",
        "model = LogisticRegression(C=0.1) # C=1.0 by default\n",
        "```\n"
      ]
    },
    {
      "cell_type": "markdown",
      "metadata": {
        "id": "oSji_qImbarf"
      },
      "source": [
        "## Compare multiple classifiers\n",
        "\n",
        "- We use NB, SVM and RF\n",
        "- See the performance with the default parameters  \n",
        "- Compare it with those with tuned parameters\n",
        "- Which model performs best in this problem?"
      ]
    },
    {
      "cell_type": "markdown",
      "metadata": {
        "id": "Ab41KOr5YyKE"
      },
      "source": [
        "### Naive Bayes\n",
        "Multinomial Naive Bayes with a smoothing parameter (*alpha*)"
      ]
    },
    {
      "cell_type": "code",
      "execution_count": null,
      "metadata": {
        "colab": {
          "base_uri": "https://localhost:8080/"
        },
        "id": "8QnNrS6Xb4fS",
        "outputId": "d043371e-cdad-42a8-98e5-b673823a3dba"
      },
      "outputs": [
        {
          "output_type": "stream",
          "name": "stdout",
          "text": [
            "Avg. F1 score: 0.812855158479606\n"
          ]
        }
      ],
      "source": [
        "model = MultinomialNB()\n",
        "training(model, train, len(dataset.target_names), False)"
      ]
    },
    {
      "cell_type": "code",
      "execution_count": null,
      "metadata": {
        "id": "RHejctt3BKtC"
      },
      "outputs": [],
      "source": [
        "testing(model, test, len(dataset.target_names), False)"
      ]
    },
    {
      "cell_type": "markdown",
      "metadata": {
        "id": "gMfEmMkna02A"
      },
      "source": [
        "#### Let's tune a smoothing parameter\n",
        "Details are given [here](http://scikit-learn.org/stable/modules/generated/sklearn.naive_bayes.MultinomialNB.html#sklearn.naive_bayes.MultinomialNB)\n",
        "\n",
        "e.g.\n",
        "```\n",
        "model = MultinomialNB(alpha=0.1) # alpha=1.0 by default\n",
        "```\n",
        "\n"
      ]
    },
    {
      "cell_type": "markdown",
      "metadata": {
        "id": "vDgK-M0dDz9G"
      },
      "source": [
        "### Support Vector Machine\n",
        "Support Vector Machine with penalty parameter *C*"
      ]
    },
    {
      "cell_type": "code",
      "execution_count": null,
      "metadata": {
        "id": "Vkxdvd6oC2-s"
      },
      "outputs": [],
      "source": [
        "model = SVC(C=0.5)\n",
        "training(model, train, len(dataset.target_names), False)"
      ]
    },
    {
      "cell_type": "code",
      "execution_count": null,
      "metadata": {
        "id": "zxqbVa9fDGvc"
      },
      "outputs": [],
      "source": [
        "testing(model, test, len(dataset.target_names), False)"
      ]
    },
    {
      "cell_type": "markdown",
      "metadata": {
        "id": "b1f1cfTMboI6"
      },
      "source": [
        "#### Let's tune some parameters\n",
        "Details are given [here](http://scikit-learn.org/stable/modules/generated/sklearn.svm.SVC.html)\n",
        "\n",
        "e.g.\n",
        "```\n",
        "model = SVC(C=0.1) # C=1.0 by default\n",
        "# or\n",
        "model = SVC(kernel='linear') # kernel='rbf' by default\n",
        "# or combine them\n",
        "model = SVC(C=0.1, kernel='linear')\n",
        "```\n",
        "\n"
      ]
    },
    {
      "cell_type": "markdown",
      "metadata": {
        "id": "S7YB-a1wD3Ke"
      },
      "source": [
        "### Random Forest\n",
        "Random Forest Classifier"
      ]
    },
    {
      "cell_type": "code",
      "execution_count": null,
      "metadata": {
        "colab": {
          "base_uri": "https://localhost:8080/"
        },
        "id": "mgB7JvujD3jG",
        "outputId": "3aabd545-4996-4e31-e505-8e1dc847956f"
      },
      "outputs": [
        {
          "output_type": "stream",
          "name": "stdout",
          "text": [
            "Avg. F1 score: 1.0\n"
          ]
        }
      ],
      "source": [
        "model = RandomForestClassifier()\n",
        "training(model, train, len(dataset.target_names), False)"
      ]
    },
    {
      "cell_type": "code",
      "execution_count": null,
      "metadata": {
        "colab": {
          "base_uri": "https://localhost:8080/",
          "height": 313
        },
        "id": "VAwAFP9yD9XA",
        "outputId": "e03c5624-e80a-4115-d50e-f9fec4f872f4"
      },
      "outputs": [
        {
          "output_type": "stream",
          "name": "stdout",
          "text": [
            "Avg. F1 score: 0.7843888070692193\n"
          ]
        },
        {
          "output_type": "display_data",
          "data": {
            "text/plain": [
              "<Figure size 432x288 with 2 Axes>"
            ],
            "image/png": "[encoded data removed]"
          },
          "metadata": {
            "needs_background": "light"
          }
        }
      ],
      "source": [
        "testing(model, test, len(dataset.target_names), False)"
      ]
    },
    {
      "cell_type": "markdown",
      "metadata": {
        "id": "4YUjKWg2gNJg"
      },
      "source": [
        "#### Let's tune some parameters\n",
        "Details are given [here](http://scikit-learn.org/stable/modules/generated/sklearn.ensemble.RandomForestClassifier.html)\n",
        "\n",
        "e.g.\n",
        "```\n",
        "model = RandomForestClassifier(max_depth=30) # max_depth=None by default (i.e. no limit)\n",
        "# or\n",
        "model = RandomForestClassifier(n_estimators=20) # n_estimators=10 by default\n",
        "# or combine them\n",
        "model = RandomForestClassifier(max_depth=30, n_estimators=20)\n",
        "```\n",
        "\n"
      ]
    }
  ],
  "metadata": {
    "colab": {
      "collapsed_sections": [],
      "name": "Wk2 - Bag of Words Classifiers.ipynb",
      "provenance": [],
      "include_colab_link": true
    },
    "kernelspec": {
      "display_name": "Python 3",
      "language": "python",
      "name": "python3"
    },
    "language_info": {
      "codemirror_mode": {
        "name": "ipython",
        "version": 3
      },
      "file_extension": ".py",
      "mimetype": "text/x-python",
      "name": "python",
      "nbconvert_exporter": "python",
      "pygments_lexer": "ipython3",
      "version": "3.7.1"
    }
  },
  "nbformat": 4,
  "nbformat_minor": 0
}